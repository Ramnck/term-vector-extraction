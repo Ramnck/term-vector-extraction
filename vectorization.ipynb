{
 "cells": [
  {
   "cell_type": "markdown",
   "metadata": {},
   "source": [
    "## Initialization"
   ]
  },
  {
   "cell_type": "markdown",
   "metadata": {},
   "source": [
    "### Imports"
   ]
  },
  {
   "cell_type": "code",
   "execution_count": 1,
   "metadata": {},
   "outputs": [],
   "source": [
    "from tve.utils import load_data_from_json\n",
    "import pandas as pd\n",
    "import numpy as np\n",
    "import cupy as cp\n",
    "from sklearn.manifold import TSNE\n",
    "\n",
    "from tve.documents import FIPSAPILoader, FSLoader\n",
    "from tve.pipeline import FIPS_API_KEY, DATA_PATH, DOCS_PATH\n",
    "from tve.utils import CircularTaskGroup, batched, ForgivingTaskGroup\n",
    "import chromadb\n",
    "from sentence_transformers import SentenceTransformer\n",
    "import tqdm\n",
    "from itertools import compress\n",
    "import logging\n",
    "import torch\n",
    "import umap\n",
    "\n",
    "from operator import itemgetter \n",
    "from itertools import product\n",
    "import os"
   ]
  },
  {
   "cell_type": "markdown",
   "metadata": {},
   "source": [
    "### Global Variables"
   ]
  },
  {
   "cell_type": "code",
   "execution_count": 2,
   "metadata": {},
   "outputs": [
    {
     "name": "stdout",
     "output_type": "stream",
     "text": [
      "chromadb.telemetry.product.posthog - 2025-02-06 19:19:29,223 - INFO - Anonymized telemetry enabled. See                     https://docs.trychroma.com/telemetry for more information.\n",
      "sentence_transformers.SentenceTransformer - 2025-02-06 19:19:29,378 - INFO - Use pytorch device_name: cuda\n",
      "sentence_transformers.SentenceTransformer - 2025-02-06 19:19:29,380 - INFO - Load pretrained SentenceTransformer: HIT-TMG/KaLM-embedding-multilingual-mini-v1\n",
      "sentence_transformers.SentenceTransformer - 2025-02-06 19:19:34,818 - INFO - 2 prompts are loaded, with the keys: ['query', 'document']\n"
     ]
    }
   ],
   "source": [
    "\n",
    "doc_path = DOCS_PATH / \"EMB\"\n",
    "res_path = DATA_PATH / \"EMB\"\n",
    "os.makedirs(res_path, exist_ok=True)\n",
    "api = FIPSAPILoader(api_key=FIPS_API_KEY)\n",
    "loader = FSLoader(doc_path)\n",
    "\n",
    "chroma_client = chromadb.PersistentClient(path=\"data/db\")\n",
    "\n",
    "task_names = [\"text\", \"abstract\", \"claims\", \"description\"]\n",
    "\n",
    "db = {\n",
    "    k: chroma_client.get_or_create_collection(name=k, embedding_function=None, metadata={\"hnsw:space\": \"cosine\"})\n",
    "    for k in task_names\n",
    "}\n",
    "\n",
    "clusters = await load_data_from_json(DATA_PATH / \"ten_clusters.json\")\n",
    "all_docs = sum([sum(i.values(), []) for i in clusters.values()], [])\n",
    "\n",
    "\n",
    "model = SentenceTransformer(\n",
    "    \"HIT-TMG/KaLM-embedding-multilingual-mini-v1\",\n",
    ")\n",
    "model.max_seq_length = 131000\n"
   ]
  },
  {
   "cell_type": "markdown",
   "metadata": {},
   "source": [
    "### Stuff"
   ]
  },
  {
   "cell_type": "code",
   "execution_count": 3,
   "metadata": {},
   "outputs": [],
   "source": [
    "def id_norm(text):\n",
    "    text = text.replace(\"/\", \"\")\n",
    "    text = text[:2] + text[2:].lstrip(\"0\")\n",
    "    # text = text[:text.rfind(\"_\")]\n",
    "    return text\n",
    "\n",
    "def l1_dist(a, b):\n",
    "    return cp.sum(cp.abs(a - b), axis=1)\n",
    "def l2_dist(a, b):\n",
    "    return cp.linalg.norm(a - b, axis=1)\n",
    "def cos_dist(a, b):\n",
    "    return 1 - (cp.dot(b, a) / (cp.linalg.norm(b, axis=1) * cp.linalg.norm(a)))\n",
    "\n",
    "def query_similar(emb, dataframe, dist_func=cos_dist, n_results=10):\n",
    "    distances = dist_func(cp.array(emb), cp.vstack(dataframe[\"embedding\"]))\n",
    "    most_sim = sorted(enumerate(distances.get()), reverse=False, key=itemgetter(1))[:n_results]\n",
    "    mini_df = dataframe.loc[[i[0] for i in most_sim]]\n",
    "    return {\n",
    "        \"ids\": list(mini_df[\"id\"]),\n",
    "        \"distances\": [i[1] for i in most_sim]\n",
    "    }\n",
    "\n",
    "logging.getLogger(\"chromadb.segment.impl.vector.local_persistent_hnsw\").setLevel(\n",
    "    logging.ERROR\n",
    ")\n",
    "logging.getLogger(\"chromadb.segment.impl.metadata.sqlite\").setLevel(\n",
    "    logging.ERROR\n",
    ")"
   ]
  },
  {
   "cell_type": "markdown",
   "metadata": {},
   "source": [
    "## Download + Embed"
   ]
  },
  {
   "cell_type": "code",
   "execution_count": 51,
   "metadata": {},
   "outputs": [
    {
     "name": "stderr",
     "output_type": "stream",
     "text": [
      "100%|██████████| 14/14 [00:05<00:00,  2.33it/s]\n"
     ]
    }
   ],
   "source": [
    "docs_list = list(dict.fromkeys(all_docs))[:]\n",
    "# docs_list = list(clusters.keys())\n",
    "bar = tqdm.tqdm(total=len(docs_list))\n",
    "batch_size = 8\n",
    "\n",
    "\n",
    "async def find_doc(id_date, timeout=10):\n",
    "    try:\n",
    "        doc = await api.get_doc_by_id_date(id_date, timeout=timeout)\n",
    "    except Exception as e:\n",
    "        doc = None\n",
    "\n",
    "    if doc is None:\n",
    "        try:\n",
    "            doc = await api.get_doc(id_date, timeout=timeout)\n",
    "        except Exception as e:\n",
    "            doc = None\n",
    "\n",
    "        orig_id = \"\"\n",
    "        new_id = \"\"\n",
    "        if doc is not None:\n",
    "            orig_id = id_norm(id_date)\n",
    "            new_id = id_norm(doc.id_date)\n",
    "\n",
    "            if orig_id != new_id:\n",
    "                doc = None\n",
    "        if doc is None:\n",
    "            # print(f\"Error: doc not found for id_date: {id_date}\")\n",
    "            return None\n",
    "    return doc\n",
    "\n",
    "\n",
    "async def download_task(doc_id, retries=5):\n",
    "    doc = await loader.get_doc(doc_id)\n",
    "    # return doc\n",
    "    if doc is not None:\n",
    "        return doc\n",
    "    for i in range(retries):\n",
    "        doc = await find_doc(doc_id)\n",
    "        if doc is not None:\n",
    "            return doc\n",
    "    return None\n",
    "\n",
    "\n",
    "async def batch_download_task(doc_id_batch, retries=5):\n",
    "    tasks = []\n",
    "    async with ForgivingTaskGroup(bar) as tg:\n",
    "        for doc_id in doc_id_batch:\n",
    "            tasks.append(tg.create_task(download_task(doc_id, retries)))\n",
    "\n",
    "    batch = []\n",
    "    for task in tasks:\n",
    "        try:\n",
    "            res = task.result()\n",
    "            if res is not None:\n",
    "                res.save_file(doc_path)\n",
    "                batch.append(res)\n",
    "        except Exception as e:\n",
    "            pass\n",
    "\n",
    "    return batch\n",
    "\n",
    "\n",
    "async def process_batch(doc_batch):\n",
    "    for task in task_names:\n",
    "        # if task != \"abstract\":\n",
    "        #     continue\n",
    "        batch_to_process = {\n",
    "            doc.id_date: doc.__getattribute__(task)\n",
    "            for doc in doc_batch\n",
    "            if len(doc.__getattribute__(task).strip()) > 20\n",
    "            # and len(db[task].get(doc.id_date)[\"ids\"]) == 0\n",
    "        }\n",
    "\n",
    "        items = batch_to_process.items()\n",
    "        if len(items) > 0:\n",
    "            ids = [doc_id for doc_id, _ in items]\n",
    "            texts = [text for _, text in items]\n",
    "\n",
    "            try:\n",
    "                embeddings_gpu = model.encode(\n",
    "                    texts,\n",
    "                    normalize_embeddings=True,\n",
    "                    batch_size=batch_size,\n",
    "                    show_progress_bar=False,\n",
    "                    convert_to_numpy=False,\n",
    "                    convert_to_tensor=True,\n",
    "                )\n",
    "                embeddings = embeddings_gpu.cpu().numpy()\n",
    "                del embeddings_gpu\n",
    "                db[task].add(ids, embeddings)\n",
    "                del embeddings\n",
    "            except RuntimeError as ex:\n",
    "                print(\"EX!!!: \", ex)\n",
    "                print(\n",
    "                    [len(i.__getattribute__(task)) for i in doc_batch],\n",
    "                    [i.id_date for i in doc_batch],\n",
    "                )\n",
    "\n",
    "\n",
    "async def super_task(doc_id_batch):\n",
    "    batch = await batch_download_task(doc_id_batch)\n",
    "    await process_batch(batch)\n",
    "    # return batch\n",
    "\n",
    "\n",
    "async with CircularTaskGroup(2, exception_handler=None) as super_tg:\n",
    "    for doc_id_batch in batched(docs_list, batch_size):\n",
    "        await super_tg.create_task(super_task(doc_id_batch))\n",
    "        torch.cuda.empty_cache()\n",
    "\n",
    "bar.close()"
   ]
  },
  {
   "cell_type": "markdown",
   "metadata": {},
   "source": [
    "### Check number"
   ]
  },
  {
   "cell_type": "code",
   "execution_count": 52,
   "metadata": {},
   "outputs": [
    {
     "name": "stdout",
     "output_type": "stream",
     "text": [
      "text 1474\n",
      "abstract 1468\n",
      "claims 612\n",
      "description 740\n"
     ]
    }
   ],
   "source": [
    "for task in task_names:\n",
    "    print(task, len(db[task].get()[\"ids\"]))"
   ]
  },
  {
   "cell_type": "markdown",
   "metadata": {},
   "source": [
    "## EVALUATION"
   ]
  },
  {
   "cell_type": "markdown",
   "metadata": {},
   "source": [
    "### Prepare dataset + imports"
   ]
  },
  {
   "cell_type": "code",
   "execution_count": 4,
   "metadata": {},
   "outputs": [
    {
     "data": {
      "text/html": [
       "    <style>\n",
       "        .bk-notebook-logo {\n",
       "            display: block;\n",
       "            width: 20px;\n",
       "            height: 20px;\n",
       "            background-image: url(data:image/png;base64,iVBORw0KGgoAAAANSUhEUgAAABQAAAAUCAYAAACNiR0NAAAABHNCSVQICAgIfAhkiAAAAAlwSFlzAAALEgAACxIB0t1+/AAAABx0RVh0U29mdHdhcmUAQWRvYmUgRmlyZXdvcmtzIENTNui8sowAAAOkSURBVDiNjZRtaJVlGMd/1/08zzln5zjP1LWcU9N0NkN8m2CYjpgQYQXqSs0I84OLIC0hkEKoPtiH3gmKoiJDU7QpLgoLjLIQCpEsNJ1vqUOdO7ppbuec5+V+rj4ctwzd8IIbbi6u+8f1539dt3A78eXC7QizUF7gyV1fD1Yqg4JWz84yffhm0qkFqBogB9rM8tZdtwVsPUhWhGcFJngGeWrPzHm5oaMmkfEg1usvLFyc8jLRqDOMru7AyC8saQr7GG7f5fvDeH7Ej8CM66nIF+8yngt6HWaKh7k49Soy9nXurCi1o3qUbS3zWfrYeQDTB/Qj6kX6Ybhw4B+bOYoLKCC9H3Nu/leUTZ1JdRWkkn2ldcCamzrcf47KKXdAJllSlxAOkRgyHsGC/zRday5Qld9DyoM4/q/rUoy/CXh3jzOu3bHUVZeU+DEn8FInkPBFlu3+nW3Nw0mk6vCDiWg8CeJaxEwuHS3+z5RgY+YBR6V1Z1nxSOfoaPa4LASWxxdNp+VWTk7+4vzaou8v8PN+xo+KY2xsw6une2frhw05CTYOmQvsEhjhWjn0bmXPjpE1+kplmmkP3suftwTubK9Vq22qKmrBhpY4jvd5afdRA3wGjFAgcnTK2s4hY0/GPNIb0nErGMCRxWOOX64Z8RAC4oCXdklmEvcL8o0BfkNK4lUg9HTl+oPlQxdNo3Mg4Nv175e/1LDGzZen30MEjRUtmXSfiTVu1kK8W4txyV6BMKlbgk3lMwYCiusNy9fVfvvwMxv8Ynl6vxoByANLTWplvuj/nF9m2+PDtt1eiHPBr1oIfhCChQMBw6Aw0UulqTKZdfVvfG7VcfIqLG9bcldL/+pdWTLxLUy8Qq38heUIjh4XlzZxzQm19lLFlr8vdQ97rjZVOLf8nclzckbcD4wxXMidpX30sFd37Fv/GtwwhzhxGVAprjbg0gCAEeIgwCZyTV2Z1REEW8O4py0wsjeloKoMr6iCY6dP92H6Vw/oTyICIthibxjm/DfN9lVz8IqtqKYLUXfoKVMVQVVJOElGjrnnUt9T9wbgp8AyYKaGlqingHZU/uG2NTZSVqwHQTWkx9hxjkpWDaCg6Ckj5qebgBVbT3V3NNXMSiWSDdGV3hrtzla7J+duwPOToIg42ChPQOQjspnSlp1V+Gjdged7+8UN5CRAV7a5EdFNwCjEaBR27b3W890TE7g24NAP/mMDXRWrGoFPQI9ls/MWO2dWFAar/xcOIImbbpA3zgAAAABJRU5ErkJggg==);\n",
       "        }\n",
       "    </style>\n",
       "    <div>\n",
       "        <a href=\"https://bokeh.org\" target=\"_blank\" class=\"bk-notebook-logo\"></a>\n",
       "        <span id=\"d59f098e-03e6-46c9-aaa3-808fbecd3907\">Loading BokehJS ...</span>\n",
       "    </div>\n"
      ]
     },
     "metadata": {},
     "output_type": "display_data"
    },
    {
     "data": {
      "application/javascript": "'use strict';\n(function(root) {\n  function now() {\n    return new Date();\n  }\n\n  const force = true;\n\n  if (typeof root._bokeh_onload_callbacks === \"undefined\" || force === true) {\n    root._bokeh_onload_callbacks = [];\n    root._bokeh_is_loading = undefined;\n  }\n\nconst JS_MIME_TYPE = 'application/javascript';\n  const HTML_MIME_TYPE = 'text/html';\n  const EXEC_MIME_TYPE = 'application/vnd.bokehjs_exec.v0+json';\n  const CLASS_NAME = 'output_bokeh rendered_html';\n\n  /**\n   * Render data to the DOM node\n   */\n  function render(props, node) {\n    const script = document.createElement(\"script\");\n    node.appendChild(script);\n  }\n\n  /**\n   * Handle when an output is cleared or removed\n   */\n  function handleClearOutput(event, handle) {\n    function drop(id) {\n      const view = Bokeh.index.get_by_id(id)\n      if (view != null) {\n        view.model.document.clear()\n        Bokeh.index.delete(view)\n      }\n    }\n\n    const cell = handle.cell;\n\n    const id = cell.output_area._bokeh_element_id;\n    const server_id = cell.output_area._bokeh_server_id;\n\n    // Clean up Bokeh references\n    if (id != null) {\n      drop(id)\n    }\n\n    if (server_id !== undefined) {\n      // Clean up Bokeh references\n      const cmd_clean = \"from bokeh.io.state import curstate; print(curstate().uuid_to_server['\" + server_id + \"'].get_sessions()[0].document.roots[0]._id)\";\n      cell.notebook.kernel.execute(cmd_clean, {\n        iopub: {\n          output: function(msg) {\n            const id = msg.content.text.trim()\n            drop(id)\n          }\n        }\n      });\n      // Destroy server and session\n      const cmd_destroy = \"import bokeh.io.notebook as ion; ion.destroy_server('\" + server_id + \"')\";\n      cell.notebook.kernel.execute(cmd_destroy);\n    }\n  }\n\n  /**\n   * Handle when a new output is added\n   */\n  function handleAddOutput(event, handle) {\n    const output_area = handle.output_area;\n    const output = handle.output;\n\n    // limit handleAddOutput to display_data with EXEC_MIME_TYPE content only\n    if ((output.output_type != \"display_data\") || (!Object.prototype.hasOwnProperty.call(output.data, EXEC_MIME_TYPE))) {\n      return\n    }\n\n    const toinsert = output_area.element.find(\".\" + CLASS_NAME.split(' ')[0]);\n\n    if (output.metadata[EXEC_MIME_TYPE][\"id\"] !== undefined) {\n      toinsert[toinsert.length - 1].firstChild.textContent = output.data[JS_MIME_TYPE];\n      // store reference to embed id on output_area\n      output_area._bokeh_element_id = output.metadata[EXEC_MIME_TYPE][\"id\"];\n    }\n    if (output.metadata[EXEC_MIME_TYPE][\"server_id\"] !== undefined) {\n      const bk_div = document.createElement(\"div\");\n      bk_div.innerHTML = output.data[HTML_MIME_TYPE];\n      const script_attrs = bk_div.children[0].attributes;\n      for (let i = 0; i < script_attrs.length; i++) {\n        toinsert[toinsert.length - 1].firstChild.setAttribute(script_attrs[i].name, script_attrs[i].value);\n        toinsert[toinsert.length - 1].firstChild.textContent = bk_div.children[0].textContent\n      }\n      // store reference to server id on output_area\n      output_area._bokeh_server_id = output.metadata[EXEC_MIME_TYPE][\"server_id\"];\n    }\n  }\n\n  function register_renderer(events, OutputArea) {\n\n    function append_mime(data, metadata, element) {\n      // create a DOM node to render to\n      const toinsert = this.create_output_subarea(\n        metadata,\n        CLASS_NAME,\n        EXEC_MIME_TYPE\n      );\n      this.keyboard_manager.register_events(toinsert);\n      // Render to node\n      const props = {data: data, metadata: metadata[EXEC_MIME_TYPE]};\n      render(props, toinsert[toinsert.length - 1]);\n      element.append(toinsert);\n      return toinsert\n    }\n\n    /* Handle when an output is cleared or removed */\n    events.on('clear_output.CodeCell', handleClearOutput);\n    events.on('delete.Cell', handleClearOutput);\n\n    /* Handle when a new output is added */\n    events.on('output_added.OutputArea', handleAddOutput);\n\n    /**\n     * Register the mime type and append_mime function with output_area\n     */\n    OutputArea.prototype.register_mime_type(EXEC_MIME_TYPE, append_mime, {\n      /* Is output safe? */\n      safe: true,\n      /* Index of renderer in `output_area.display_order` */\n      index: 0\n    });\n  }\n\n  // register the mime type if in Jupyter Notebook environment and previously unregistered\n  if (root.Jupyter !== undefined) {\n    const events = require('base/js/events');\n    const OutputArea = require('notebook/js/outputarea').OutputArea;\n\n    if (OutputArea.prototype.mime_types().indexOf(EXEC_MIME_TYPE) == -1) {\n      register_renderer(events, OutputArea);\n    }\n  }\n  if (typeof (root._bokeh_timeout) === \"undefined\" || force === true) {\n    root._bokeh_timeout = Date.now() + 5000;\n    root._bokeh_failed_load = false;\n  }\n\n  const NB_LOAD_WARNING = {'data': {'text/html':\n     \"<div style='background-color: #fdd'>\\n\"+\n     \"<p>\\n\"+\n     \"BokehJS does not appear to have successfully loaded. If loading BokehJS from CDN, this \\n\"+\n     \"may be due to a slow or bad network connection. Possible fixes:\\n\"+\n     \"</p>\\n\"+\n     \"<ul>\\n\"+\n     \"<li>re-rerun `output_notebook()` to attempt to load from CDN again, or</li>\\n\"+\n     \"<li>use INLINE resources instead, as so:</li>\\n\"+\n     \"</ul>\\n\"+\n     \"<code>\\n\"+\n     \"from bokeh.resources import INLINE\\n\"+\n     \"output_notebook(resources=INLINE)\\n\"+\n     \"</code>\\n\"+\n     \"</div>\"}};\n\n  function display_loaded(error = null) {\n    const el = document.getElementById(\"d59f098e-03e6-46c9-aaa3-808fbecd3907\");\n    if (el != null) {\n      const html = (() => {\n        if (typeof root.Bokeh === \"undefined\") {\n          if (error == null) {\n            return \"BokehJS is loading ...\";\n          } else {\n            return \"BokehJS failed to load.\";\n          }\n        } else {\n          const prefix = `BokehJS ${root.Bokeh.version}`;\n          if (error == null) {\n            return `${prefix} successfully loaded.`;\n          } else {\n            return `${prefix} <b>encountered errors</b> while loading and may not function as expected.`;\n          }\n        }\n      })();\n      el.innerHTML = html;\n\n      if (error != null) {\n        const wrapper = document.createElement(\"div\");\n        wrapper.style.overflow = \"auto\";\n        wrapper.style.height = \"5em\";\n        wrapper.style.resize = \"vertical\";\n        const content = document.createElement(\"div\");\n        content.style.fontFamily = \"monospace\";\n        content.style.whiteSpace = \"pre-wrap\";\n        content.style.backgroundColor = \"rgb(255, 221, 221)\";\n        content.textContent = error.stack ?? error.toString();\n        wrapper.append(content);\n        el.append(wrapper);\n      }\n    } else if (Date.now() < root._bokeh_timeout) {\n      setTimeout(() => display_loaded(error), 100);\n    }\n  }\n\n  function run_callbacks() {\n    try {\n      root._bokeh_onload_callbacks.forEach(function(callback) {\n        if (callback != null)\n          callback();\n      });\n    } finally {\n      delete root._bokeh_onload_callbacks\n    }\n    console.debug(\"Bokeh: all callbacks have finished\");\n  }\n\n  function load_libs(css_urls, js_urls, callback) {\n    if (css_urls == null) css_urls = [];\n    if (js_urls == null) js_urls = [];\n\n    root._bokeh_onload_callbacks.push(callback);\n    if (root._bokeh_is_loading > 0) {\n      console.debug(\"Bokeh: BokehJS is being loaded, scheduling callback at\", now());\n      return null;\n    }\n    if (js_urls == null || js_urls.length === 0) {\n      run_callbacks();\n      return null;\n    }\n    console.debug(\"Bokeh: BokehJS not loaded, scheduling load and callback at\", now());\n    root._bokeh_is_loading = css_urls.length + js_urls.length;\n\n    function on_load() {\n      root._bokeh_is_loading--;\n      if (root._bokeh_is_loading === 0) {\n        console.debug(\"Bokeh: all BokehJS libraries/stylesheets loaded\");\n        run_callbacks()\n      }\n    }\n\n    function on_error(url) {\n      console.error(\"failed to load \" + url);\n    }\n\n    for (let i = 0; i < css_urls.length; i++) {\n      const url = css_urls[i];\n      const element = document.createElement(\"link\");\n      element.onload = on_load;\n      element.onerror = on_error.bind(null, url);\n      element.rel = \"stylesheet\";\n      element.type = \"text/css\";\n      element.href = url;\n      console.debug(\"Bokeh: injecting link tag for BokehJS stylesheet: \", url);\n      document.body.appendChild(element);\n    }\n\n    for (let i = 0; i < js_urls.length; i++) {\n      const url = js_urls[i];\n      const element = document.createElement('script');\n      element.onload = on_load;\n      element.onerror = on_error.bind(null, url);\n      element.async = false;\n      element.src = url;\n      console.debug(\"Bokeh: injecting script tag for BokehJS library: \", url);\n      document.head.appendChild(element);\n    }\n  };\n\n  function inject_raw_css(css) {\n    const element = document.createElement(\"style\");\n    element.appendChild(document.createTextNode(css));\n    document.body.appendChild(element);\n  }\n\n  const js_urls = [\"https://cdn.bokeh.org/bokeh/release/bokeh-3.6.2.min.js\", \"https://cdn.bokeh.org/bokeh/release/bokeh-gl-3.6.2.min.js\", \"https://cdn.bokeh.org/bokeh/release/bokeh-widgets-3.6.2.min.js\", \"https://cdn.bokeh.org/bokeh/release/bokeh-tables-3.6.2.min.js\", \"https://cdn.bokeh.org/bokeh/release/bokeh-mathjax-3.6.2.min.js\"];\n  const css_urls = [];\n\n  const inline_js = [    function(Bokeh) {\n      Bokeh.set_log_level(\"info\");\n    },\nfunction(Bokeh) {\n    }\n  ];\n\n  function run_inline_js() {\n    if (root.Bokeh !== undefined || force === true) {\n      try {\n            for (let i = 0; i < inline_js.length; i++) {\n      inline_js[i].call(root, root.Bokeh);\n    }\n\n      } catch (error) {display_loaded(error);throw error;\n      }if (force === true) {\n        display_loaded();\n      }} else if (Date.now() < root._bokeh_timeout) {\n      setTimeout(run_inline_js, 100);\n    } else if (!root._bokeh_failed_load) {\n      console.log(\"Bokeh: BokehJS failed to load within specified timeout.\");\n      root._bokeh_failed_load = true;\n    } else if (force !== true) {\n      const cell = $(document.getElementById(\"d59f098e-03e6-46c9-aaa3-808fbecd3907\")).parents('.cell').data().cell;\n      cell.output_area.append_execute_result(NB_LOAD_WARNING)\n    }\n  }\n\n  if (root._bokeh_is_loading === 0) {\n    console.debug(\"Bokeh: BokehJS loaded, going straight to plotting\");\n    run_inline_js();\n  } else {\n    load_libs(css_urls, js_urls, function() {\n      console.debug(\"Bokeh: BokehJS plotting callback run at\", now());\n      run_inline_js();\n    });\n  }\n}(window));",
      "application/vnd.bokehjs_load.v0+json": ""
     },
     "metadata": {},
     "output_type": "display_data"
    }
   ],
   "source": [
    "# Visualization imports\n",
    "\n",
    "import bokeh.models as bm\n",
    "import bokeh.plotting as pl\n",
    "from bokeh.io import output_notebook\n",
    "import bokeh\n",
    "import umap\n",
    "\n",
    "output_notebook()"
   ]
  },
  {
   "cell_type": "code",
   "execution_count": 60,
   "metadata": {},
   "outputs": [],
   "source": [
    "# determine global variables\n",
    "\n",
    "# task = \"text\"\n",
    "# task = \"abstract\"\n",
    "# task = \"claims\"\n",
    "task = \"description\"\n",
    "\n",
    "# metric = \"cosine\" \n",
    "# metric = \"euclidean\"\n",
    "metric = \"cityblock\""
   ]
  },
  {
   "cell_type": "code",
   "execution_count": 61,
   "metadata": {},
   "outputs": [
    {
     "name": "stdout",
     "output_type": "stream",
     "text": [
      "1474 IDs overall\n",
      "14 clusters found of 14 clusters overall\n",
      "(740, 896) - shape of embeddings\n"
     ]
    }
   ],
   "source": [
    "# preparing dataset\n",
    "\n",
    "t = {\n",
    "    \"cosine\": cos_dist,\n",
    "    \"euclidean\": l2_dist,\n",
    "    \"cityblock\": l1_dist\n",
    "    }\n",
    "dist_func = t[metric]\n",
    "\n",
    "\n",
    "all_ids = db[\"text\"].get()[\"ids\"]\n",
    "db_data = db[task].get(include=[\"embeddings\"])\n",
    "\n",
    "id_to_db_id = {id_norm(k): k for k in all_ids}\n",
    "id_to_emb = {k: v for k, v in zip(db_data[\"ids\"], db_data[\"embeddings\"])}\n",
    "norm_id_to_emb = {id_norm(k): v for k, v in id_to_emb.items()}\n",
    "\n",
    "\n",
    "norm_cluters = {\n",
    "    id_norm(k): {\n",
    "        k1: [i for i in list(dict.fromkeys(map(id_norm, v1)))]\n",
    "        # k1: [i for i in list(dict.fromkeys(map(norm, v1))) if i in id_to_emb]\n",
    "        for k1, v1 in v.items()\n",
    "    }\n",
    "    for k, v in clusters.items() if k in id_to_emb\n",
    "}\n",
    "print(len(id_to_db_id), \"IDs overall\")\n",
    "print( len(set(id_to_db_id) & set(norm_cluters)), \"clusters found of\", len(clusters), \"clusters overall\")\n",
    "all_colors = \"Red, Blue, Yellow, Green, Purple, Orange, Cyan, Magenta, Lime, Teal, Maroon, Navy, Gold, Gray\".lower().split(\", \")\n",
    "\n",
    "master_df = pd.DataFrame(columns=[\"id\", \"relation\", \"parent\", \"embedding\", \"color\"])\n",
    "# df = df.([\"id\", \"rel\", None, 1])\n",
    "for n, (parent, d) in enumerate(norm_cluters.items()):\n",
    "    color = all_colors[n]\n",
    "    emb = norm_id_to_emb.get(parent, None)\n",
    "    if emb is None:\n",
    "        print(\"Error, missing parent:\", parent)\n",
    "        continue\n",
    "    master_df.loc[len(master_df)] = [parent, \"document\", parent, emb, color]\n",
    "    for relation, id_list in d.items():\n",
    "        for doc_id in id_list:\n",
    "            emb = norm_id_to_emb.get(doc_id, None)\n",
    "            if emb is not None:\n",
    "                master_df.loc[len(master_df)] = [doc_id, relation, parent, emb, color]\n",
    "master_df = master_df.drop_duplicates([\"id\"], ignore_index=True)\n",
    "assert (len(master_df[master_df[\"relation\"] == \"document\"]) == len(norm_cluters))\n",
    "master_df.head()\n",
    "\n",
    "input_embeddings = np.vstack(master_df[\"embedding\"].to_numpy())\n",
    "print(input_embeddings.shape, \"- shape of embeddings\")"
   ]
  },
  {
   "cell_type": "markdown",
   "metadata": {},
   "source": [
    "###"
   ]
  },
  {
   "cell_type": "code",
   "execution_count": 28,
   "metadata": {},
   "outputs": [],
   "source": [
    "def draw_vectors(\n",
    "    x,\n",
    "    y,\n",
    "    colors = \"blue\",\n",
    "    radius=0.0005,\n",
    "    alpha=0.5,\n",
    "    width=600,\n",
    "    height=400,\n",
    "    show=True,\n",
    "    line_width=2,\n",
    "    dynamic=True,\n",
    "    **kwargs,\n",
    "):\n",
    "    fig = pl.figure(active_scroll=\"wheel_zoom\", width=width, height=height)\n",
    "    p = fig\n",
    "    p.title.text = f\"{task} embeddings, reduced to 2D with tSNE, metric: {metric}\"\n",
    "    p.title.align = \"center\"\n",
    "\n",
    "\n",
    "    parent_to_idx = { d[\"id\"]:n for n, d in master_df[master_df[\"relation\"] == \"document\"].iterrows()}\n",
    "    id_to_parent_idx = { d[\"id\"]:parent_to_idx[d[\"parent\"]] for n, d in master_df.iterrows() }\n",
    "    radiuses = np.array([radius] * len(x))\n",
    "    radiuses += radiuses * (master_df[\"relation\"] == \"document\")\n",
    "    data = {\n",
    "        \"x\": x,\n",
    "        \"y\": y,\n",
    "        \"id\": master_df[\"id\"],\n",
    "        \"parent\": master_df[\"parent\"],\n",
    "        \"parent_x\": np.array([x[id_to_parent_idx[d[\"id\"]]] for _, d in master_df.iterrows()]),\n",
    "        \"parent_y\": np.array([y[id_to_parent_idx[d[\"id\"]]] for _, d in master_df.iterrows()]),\n",
    "        \"radius\": radiuses,\n",
    "        \"relation\": master_df[\"relation\"],\n",
    "        \"color\": colors\n",
    "    }\n",
    "\n",
    "    source = bm.ColumnDataSource(data=data)\n",
    "    parent_source = bm.ColumnDataSource(data={k:[] for k in data if \"parent\" not in k})\n",
    "\n",
    "    if not dynamic:\n",
    "        parent_source = bm.ColumnDataSource(\n",
    "            {\n",
    "                k: v[master_df[\"relation\"] == \"document\"] for k, v in data.items()\n",
    "            }\n",
    "        )\n",
    "\n",
    "\n",
    "    parent_renderers = []\n",
    "    parent_renderer = p.circle('x', 'y', radius=\"radius\", source=parent_source, fill_color=\"color\", line_color=\"black\", line_width=line_width)\n",
    "    # parent_renderers.append(parent_renderer)\n",
    "\n",
    "    child_renderers = []\n",
    "    child_renderer = p.circle('x', 'y', radius=\"radius\", source=source, color=\"color\")\n",
    "    child_renderers.append(child_renderer)\n",
    "\n",
    "    hover = bm.HoverTool(renderers=child_renderers + parent_renderers,\n",
    "                    tooltips=[(\"doc_type\", \"@relation\"), \n",
    "                              (\"id\", \"@id\"), \n",
    "                              (\"parent\", \"@parent\")\n",
    "                              ])\n",
    "    p.add_tools(hover)\n",
    "\n",
    "    callback = bm.CustomJS(args=dict(source=source, parent_source=parent_source, threshold=radius*2), code=\"\"\"\n",
    "        // 'cb_obj' is the event with the mouse coordinates (in data space)\n",
    "        const x_mouse = cb_obj.x;\n",
    "        const y_mouse = cb_obj.y;\n",
    "        const data = source.data;\n",
    "        let min_dist = Infinity;\n",
    "        let hovered_index = null;\n",
    "        // Loop through each child point to find the closest one (using a threshold)\n",
    "        for (let i = 0; i < data['x'].length; i++) {\n",
    "            const dx = data['x'][i] - x_mouse;\n",
    "            const dy = data['y'][i] - y_mouse;\n",
    "            const dist = Math.sqrt(dx*dx + dy*dy);\n",
    "            if (dist < min_dist && dist < threshold) {  // threshold may need adjustment\n",
    "                min_dist = dist;\n",
    "                hovered_index = i;\n",
    "            }\n",
    "        }\n",
    "        if (hovered_index != null && data['relation'][hovered_index] != \"document\") {\n",
    "            // Set the parental dot to the coordinates stored in the data\n",
    "            parent_source.data['x'] = [data['parent_x'][hovered_index]];\n",
    "            parent_source.data['y'] = [data['parent_y'][hovered_index]];\n",
    "            parent_source.data['color'] = [data['color'][hovered_index]];\n",
    "            parent_source.data['radius'] = [data['radius'][hovered_index]*3];\n",
    "            parent_source.data['id'] = [data['id'][hovered_index]];\n",
    "            parent_source.data['relation'] = [\"document\"];\n",
    "        } else {\n",
    "            // Clear the parental dot if no child point is close enough\n",
    "            parent_source.data['x'] = [];\n",
    "            parent_source.data['y'] = [];\n",
    "            parent_source.data['color'] = [];\n",
    "            parent_source.data['id'] = [];\n",
    "            parent_source.data['radius'] = [];\n",
    "        }\n",
    "        parent_source.change.emit();\n",
    "    \"\"\")\n",
    "    if dynamic:\n",
    "        p.js_on_event('mousemove', callback)\n",
    "\n",
    "    if show:\n",
    "        pl.show(fig)\n",
    "    return fig\n",
    "    # return source\n",
    "\n",
    "# s = draw_vectors(embeddings[:, 0], embeddings[:, 1], df[\"color\"], radius=0.03, width=700, height=500)\n"
   ]
  },
  {
   "cell_type": "code",
   "execution_count": 62,
   "metadata": {},
   "outputs": [],
   "source": [
    "# embeddings = umap.UMAP(n_neighbors=20, metric=metric, output_metric=metric).fit_transform(input_embeddings)\n",
    "embeddings = TSNE(n_components=2, metric=metric).fit_transform(input_embeddings)"
   ]
  },
  {
   "cell_type": "code",
   "execution_count": 63,
   "metadata": {},
   "outputs": [
    {
     "data": {
      "text/html": [
       "\n",
       "  <div id=\"d7bb2571-f3a0-4ad1-bc99-d0a0247c689c\" data-root-id=\"p2828\" style=\"display: contents;\"></div>\n"
      ]
     },
     "metadata": {},
     "output_type": "display_data"
    },
    {
     "data": {
      "application/javascript": "(function(root) {\n  function embed_document(root) {\n  const docs_json = {\"dd642933-ed86-4c8f-93f2-fb1459873674\":{\"version\":\"3.6.2\",\"title\":\"Bokeh Application\",\"roots\":[{\"type\":\"object\",\"name\":\"Figure\",\"id\":\"p2828\",\"attributes\":{\"js_event_callbacks\":{\"type\":\"map\",\"entries\":[[\"mousemove\",[{\"type\":\"object\",\"name\":\"CustomJS\",\"id\":\"p2887\",\"attributes\":{\"args\":{\"type\":\"map\",\"entries\":[[\"source\",{\"type\":\"object\",\"name\":\"ColumnDataSource\",\"id\":\"p2862\",\"attributes\":{\"selected\":{\"type\":\"object\",\"name\":\"Selection\",\"id\":\"p2863\",\"attributes\":{\"indices\":[],\"line_indices\":[]}},\"selection_policy\":{\"type\":\"object\",\"name\":\"UnionRenderers\",\"id\":\"p2864\"},\"data\":{\"type\":\"map\",\"entries\":[[\"x\",{\"type\":\"ndarray\",\"array\":{\"type\":\"bytes\",\"data\":\"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\"},\"shape\":[740],\"dtype\":\"float32\",\"order\":\"little\"}],[\"y\",{\"type\":\"ndarray\",\"array\":{\"type\":\"bytes\",\"data\":\"bJ+EwdspvcAz28ZBZp+Ewcq/hsGkFrVB6rVQQcILaUFWT8rBJlCiwTlAj8EiQI/BX2qlwV9qpcEZA6zA5w+CwT3mo8E95qPBkIqgwemKoMH/u5PBa/CvwPrBr8DLj0rBXjdJwWMthsE1IsrBpryxQTt6vUHiu33B4eG+QUPLuEEhvYlBZ/KJQUPOR8GsjkTBYJxbwdADcsAtDRJBbXYRQdptEUHabRFBfdpVwYiNN0G20cdBLg4kQTMk/kC20cdBKkeBwT9crUFdvOG+8risQSgdP0HjR51BLecQwTdWUEFdHzhBflGRQexc0UGkbdFB5w+CQYALrEHsm11B8uOsQU6Ay8FzO4PBeuxXwc5C2kETliRBO/ZKQWScpEFHZGRBxEF3QdqZy0FLTLZBV3hpQUi3vcF4bcvBeg8GQU6xsUGl2FdBTVq0QcJZHkAOQEVBkQjMwZliiEFyJge/6jEPQXB9g0GcX8tB08bpQWy+4b403kBBcIGvwF3aS0Fa67RBf+dDQdSLQUHRx8DBlEDPQQLQd0Hk8WPBixa9QSuQsUF5Bu1BNSOTQdxpS8HCBYDBewoZQUZ30EH09V1BMlI+Qam7K0G7salBf+NRwVeGK0Ex/MjBYM2xQZo4bMETx91BtNEdQcpgzsCUYOLBY1NEwfyIlsFCgfHBXP6fQVpldsHjpxZBdHyQwe4nUkGUYOLB7G5aQbzFjUHfwoNBuFJrQa6JEEFWb9vBPReEwRcBv8HZBgZBg5ClQVKovEH0I1pBrRCmwRJSGUE36h5BS5vEwU7SHsGMI1fBkO+lwYSQpUHrzVXBh85VwYfOVcFv77RBVChqwSEDWcEjQ2PBwvVawTNwmMF/OG3BdXRGQU9RMsFtEpbBbjqDwXKkWsHuh4PBzD45wQcMZsHteGfBzD45wWHkgMFPUTLB7K5QwSKegMFWN1/BLR87wfAFIMGNdyzB6D8kwSEGGsEkcJjB3hknwZcRlsHxyxXBUlEXwS/yEsFBXBXBNs4swYawI8EBVRzBYKAewX9pWcHBC1XBs1WAwXZlZsFdXmHBAzJkwQdJXMGuvGvBoii6QFMGbsHmumDBilNtwUfpVsGcgctBgBqqQWw0F8G01BbBHbrOwccs6kHHLOpBcchuQfcexcHILXVBWJ/lQPcexcGGRrNBMa+jwbQ+g8Fwn7I/NMgUQO25U0HYy6HBpr+WwXHXlMF/4+ZBBRDpQQkiy0HDEuxBaixAQVEMuEF/exxAF5mpQYI4D0G6395BKBzCQW/h50EMbd9BsDDIQT1yx0Gu0rpB+VzjQa0Kv0GwMMhBFpDNQT6m30GwMMhBVrbHQbAwyEGB1tNBw+LfQQxt30EoHMJBM6bPQa4/yUFFtelBw7LHQZWks0Ezps9Bw7LHQSdG6kEzps9BPKHAQTOmz0GgotFBtCvHQTOmz0FFtelBaSDRQWkg0UGc27RBaSDRQYWezUE6lsBBqbe0QdLMtEFEUERBlgpQwfeXKcGCOA9B5JcpwcBlbcHwXG3BA2svwYJ3J8E5VyrBeMAuwYJ3J8GI8gxBj+JlwZzVKkG+7StBidcrQdNlvcHhX8HB4V/BwQRzv8FvosXBtlu9wfJXU0GYRFNB063VwNOt1cDTrdXA063VwH+/d8F879fBZIbbwWSG28FkhtvBiAjxwVNQZcBkhtvBiAjxweGSq8HhkqvBix/ewWKAZMCzr9rBYyjVwbOv2sGzr9rBjvviwXH55sFoOdPBjvviwWMo1cFigGTAaDnTwddEZcCO++LBjvviwQstN8GtFCNB49wYQT9PGUEwLRpBrXuQwQ/hNUA/VBlBE83Fwe2pW8EOmGfB5jVCwbcBXcGb2UnB4AYGQfEmZ8HgBgZBFqZbwSnvScFIAGnBrfMFQaSTZ8Es50nBbqWowXfpwUH0nBFBSFvCwY0jV8FG5B7AYeEbwCqxGT9B2D5AQvUjQWHhTcH+XAtBT1hCwLjllr8Ahu+/Ug1PQTIHHcBcxCvAuAadv5tGTkExRehAAKMtQQSzukFpCrVBZTmeQSvrgUDqyrpBTe4vQZjxa0Fp4TJBpxCdQL40T0Cq2zVANEA5QFcLwj/7zodBZmTEP0ecScHD3w9Bc+9LQdNyxkGMebBBjHmwQQ3K7EDsilFB7IpRQeyKUUH4qzJBwjRPQDPjgMBYxVrAMcKKwBuqisB8UafAzoZZwC8cp8CtSaTALxynwHhgicB4WJpBoyc9wZzsucGdQzzBPEc8wfQDusGBTrdAeYK3QCq5AMFuBUk/971LwezvqUGQt6lB22etQUVIosGfIoNBHu5lwQOxasH1TZnBcKdKwZ9IPkGqC6xBKPbSQXr+lcG9xHHBuWSUQLY0gsGOI1fBqsqCwdg9rcGn7pfBGHaGwSClM8E0APfAkPD7wLvJUz7qxEs+LFacPsWjVcG7yVM+uFusQYoDScGPAH1BeHaCQSxnnUFhpIJBX8OcQQ3AnEHE0YtBX2SqwQGctMFCZqrBQmaqwSuwasEEx6LBeM3yQarKgsFnnD7B1QcqwWecPsGE6SnBEDssweRjjcAQOALBnQ4CwTfHAMGNl47AA5cUwbcZEMHNfBXBvE4IwQGXFMHMfBXBc0oyQXNKMkETuQfBE7kHwQH0B8E45gfB38unwbPGyEAZxdnBs9TSwcNe08GEi9jBAZHWwQGR1sGSzNbBA56CwYTbdUHKqMRBGb2FwXdrgMHewY3Be2HGQYTbdUFhGa9B2Ma9QWLbdUGwbxtB7vHAQUo1vUG/ucNBUPnFQYLyrkE1usFBHLG3QeqyzEFn23VBJ660wb1PtkEMhr1Bs6lbQUamc8Gs+2/Ba8m4QWKkc8EfsklBKijBQYZnIEFMPqhBk1rPQUw+qEHfv4fBEZlZQTDKo0EmxmNB+0rEQd+sW0Gnu0DBO0qtQXjhW0GtAwvB20k2QZXkpEH+OQvB3Rq6QK2OH0HbTLLB3fiqwYUrq8FrybhBYsGHwZ4CPkH9XJHB04GbwXnCicHmXJHBK+ikQcpMssFl1Zc/QAF5v0ABeb/WWSA/VRSnP0hsir7zdUq/l1ucv17gCj9IbIq+CavHv0hsir5NVBNA1TtXv6b0u79IbIq+JrI1PgJgD0BNG94/JrI1Pv60U78msjU+JrI1PlUUpz9NG94/xMpTP/KB9b/EylM/dAiRPjNUqb/n0Ok/zd2EviLPiT8/e/K/c2q1wZ6dbMHwkubAsEY5QcQ3J0FoVEtBZOgoQUWzSUGd2ZZBCQTmQcEMs0FDK71A1KQZQfgA5cBEK71Arq9iwQu2lcAKAIvAq8mJwD5wgsDCMprAj1iYwBfyksB9Z6FBVOvCQVVzwUEbQpbBY4O+QZZ+wkFLZtJB1zW/QLkXLEAhSmhBjfY6QR2XTkE3OYDBThx1QKEHhsEDWHnBhzCJwX1Qx0Hpfz1A12YuQJkbR0H9IpBBdUKVQRGIckA2YNZA71mRQWN84j777/U+uiMsQTPCh8Eh+IpAyh2DQKe/ksFJL9VAIQD9Pjh4hMFVsQxBELYwQYmmpEH/0nxBCyxXQVCvjj/6mINBrjqCQXF0RkG3xYZBlCaSwY6VqkEwQTRBufSFwa0sk8Gq/sRBHCCWwTOOI0CH0YhBB2IWQRFZj8GF/pbB1pexQe7Rz8Ffa05BL7W3Qb04tsELZtJBA3yOwZm5U0E+s4jAyIblQYFfT0ErsZXBHQSCQe5I4UHuSOFBHhHsQb4OeEE4wcVArcDFQDTIFEAqCw1B38UiQGhzQUB4c0FAtczjQXHTxUFx08VBvlClQItBpcEnXYDBx06lQGYkkEF1QpVBQ61bQGZiNcGDmJLBJQ2UwdX/mcG0DZnBfEKWwbUjksEWmpjBogdxP19EcT/QQUvB9fSFwT4HN8E0/83BoEnSwTT/zcHBJ9HBMDPVwdOC1MEwM9XB04LUwZiZsUHv0c/B9MKMwTTIFEA=\"},\"shape\":[740],\"dtype\":\"float32\",\"order\":\"little\"}],[\"id\",{\"type\":\"ndarray\",\"array\":[\"US7778783B2_20100817\",\"US20070095157A1_20070503\",\"US20030225531A1_20031204\",\"US7152002B2_20061219\",\"US6176323B1_20010123\",\"US6362477B1_20020326\",\"US6470285B1_20021022\",\"US6791089B1_20040914\",\"US7006919B2_20060228\",\"US6875208B2_20050405\",\"US20050143715A1_20050630\",\"US20020183721A1_20021205\",\"US6541274B2_20030401\",\"US6337212B1_20020108\",\"US8403907B2_20130326\",\"US7226442B2_20070605\",\"US6976982B2_20051220\",\"US8308707B2_20121113\",\"US7879019B2_20110201\",\"US7582080B2_20090901\",\"US7776024B2_20100817\",\"US6808522B2_20041026\",\"US7070592B2_20060704\",\"US6949253B2_20050927\",\"US6858220B2_20050222\",\"US6773429B2_20040810\",\"US6730072B2_20040504\",\"US7039159B2_20060502\",\"US20070071165A1_20070329\",\"US7215738B2_20070508\",\"US20050169421A1_20050804\",\"US6255654B1_20010703\",\"US6507025B1_20030114\",\"US6552346B2_20030422\",\"US7781432B2_20100824\",\"US20070197528A1_20070823\",\"US6958344B2_20051025\",\"US7358235B2_20080415\",\"US7875293B2_20110125\",\"US20050031689A1_20050210\",\"US20060198864A1_20060907\",\"US20060204536A1_20060914\",\"US6167614B1_20010102\",\"US6175752B1_20010116\",\"US6187062B1_20010213\",\"US6189536B1_20010220\",\"US6200772B1_20010313\",\"US6201980B1_20010313\",\"US6206856B1_20010327\",\"US6208894B1_20010327\",\"US6212416B1_20010403\",\"US6214185B1_20010410\",\"US6230059B1_20010508\",\"US6231879B1_20010515\",\"US6233471B1_20010515\",\"US6241863B1_20010605\",\"US6248067B1_20010619\",\"US6256522B1_20010703\",\"US6259937B1_20010710\",\"US6268161B1_20010731\",\"US6274285B1_20010814\",\"US6275717B1_20010814\",\"US6284478B1_20010904\",\"US6285897B1_20010904\",\"US6293925B1_20010925\",\"US6296615B1_20011002\",\"US6299578B1_20011009\",\"US6300002B1_20011009\",\"US6309351B1_20011030\",\"US6309384B1_20011030\",\"US6325978B1_20011204\",\"US6325979B1_20011204\",\"US6329161B1_20011211\",\"US6330464B1_20011211\",\"US6343225B1_20020129\",\"US6365670B1_20020402\",\"US6366794B1_20020402\",\"US6368274B1_20020409\",\"US6372244B1_20020416\",\"US6400974B1_20020604\",\"US6405066B1_20020611\",\"US6406066B1_20020618\",\"US6409674B1_20020625\",\"US6413393B1_20020702\",\"US6424847B1_20020723\",\"US6442413B1_20020827\",\"US6447448B1_20020910\",\"US6447542B1_20020910\",\"US6454710B1_20020924\",\"US6459917B1_20021001\",\"US6461496B1_20021008\",\"US6466810B1_20021015\",\"US6471689B1_20021029\",\"US6475750B1_20021105\",\"US6477392B1_20021105\",\"US6477395B2_20021105\",\"US6481440B2_20021119\",\"US6484046B1_20021119\",\"US6497729B1_20021224\",\"US6498043B1_20021224\",\"US6514718B2_20030204\",\"US6520997B1_20030218\",\"US6527729B1_20030304\",\"US6528584B2_20030304\",\"US6537318B1_20030325\",\"US6541107B1_20030401\",\"US6545085B2_20030408\",\"US6546268B1_20030408\",\"US6547839B2_20030415\",\"US6551496B1_20030422\",\"US6558321B1_20030506\",\"US6560471B1_20030506\",\"US6569521B1_20030527\",\"US6579498B1_20030617\",\"US6585763B1_20030701\",\"US6587705B1_20030701\",\"US6607509B2_20030819\",\"US6613379B2_20030902\",\"US6615078B1_20030902\",\"US6618934B1_20030916\",\"US6642015B2_20031104\",\"US6645181B1_20031111\",\"US6648821B2_20031118\",\"US6654625B1_20031125\",\"US6683535B1_20040127\",\"US6694191B2_20040217\",\"US6695860B1_20040224\",\"US6699218B2_20040302\",\"US6702857B2_20040309\",\"US6721587B2_20040413\",\"US6731976B2_20040504\",\"US6740075B2_20040525\",\"US6741877B1_20040525\",\"US6773565B2_20040810\",\"US6793632B2_20040921\",\"US6793802B2_20040921\",\"US6804544B2_20041012\",\"US6810290B2_20041026\",\"US6862465B2_20050301\",\"US6895263B2_20050517\",\"US6931327B2_20050816\",\"US6952604B2_20051004\",\"US6965791B1_20051115\",\"US7110803B2_20060919\",\"US7134999B2_20061114\",\"US7136689B2_20061114\",\"US7153265B2_20061226\",\"US7166074B2_20070123\",\"US7169289B2_20070130\",\"US7192450B2_20070320\",\"US7364592B2_20080429\",\"US7426408B2_20080916\",\"US6344792B1_20020205\",\"US6211785B1_20010403\",\"US6359561B2_20020319\",\"AU2330799A_19991123\",\"US8641619B2_20140204\",\"US7003341B2_20060221\",\"US8649841B2_20140211\",\"US8380273B2_20130219\",\"US8265726B2_20120911\",\"US9072477B2_20150707\",\"US6565509B1_20030520\",\"US8366614B2_20130205\",\"US8175673B2_20120508\",\"US8177716B2_20120515\",\"US8372005B2_20130212\",\"US8231532B2_20120731\",\"US8353829B2_20130115\",\"US8357091B2_20130122\",\"US9042953B2_20150526\",\"US8744545B2_20140603\",\"US8473021B2_20130625\",\"US7885699B2_20110208\",\"US8880137B2_20141104\",\"US7869853B1_20110111\",\"US8734346B2_20140527\",\"US8734348B2_20140527\",\"US8738109B2_20140527\",\"US8235896B2_20120807\",\"US8391945B2_20130305\",\"US8660627B2_20140225\",\"US8306598B2_20121106\",\"US8273022B2_20120925\",\"US8275439B2_20120925\",\"US8255031B2_20120828\",\"US8670815B2_20140311\",\"US8346336B2_20130101\",\"US8666469B2_20140304\",\"US9011331B2_20150421\",\"US8597189B2_20131203\",\"US9066694B2_20150630\",\"US8622906B2_20140107\",\"US9326714B2_20160503\",\"US9014773B2_20150421\",\"US8840553B2_20140923\",\"US8162829B2_20120424\",\"US7190988B2_20070313\",\"US8409131B2_20130402\",\"US8224413B2_20120717\",\"US8226555B2_20120724\",\"US8226557B2_20120724\",\"US8226558B2_20120724\",\"US8260392B2_20120904\",\"US7860544B2_20101228\",\"US6990366B2_20060124\",\"US6480730B2_20021112\",\"US6315721B2_20011113\",\"US7295867B2_20071113\",\"US6595919B2_20030722\",\"AU2743200A_20000825\",\"US7555328B2_20090630\",\"US7079881B2_20060718\",\"AU3501695A_19960322\",\"US8588881B2_20131119\",\"US6881551B2_20050419\",\"US7462264B2_20081209\",\"US8741590B2_20140603\",\"US6689056B1_20040210\",\"US7481774B2_20090127\",\"US6659959B2_20031209\",\"AU2739800A_20000818\",\"US7842035B2_20101130\",\"US6712810B2_20040330\",\"US8226645B2_20120724\",\"US6616896B2_20030909\",\"US7897109B2_20110301\",\"US7289836B2_20071030\",\"US8233953B2_20120731\",\"US6711423B2_20040323\",\"US7016714B2_20060321\",\"AU2112001A_20010417\",\"US6815186B2_20041109\",\"US7425200B2_20080916\",\"US7033322B2_20060425\",\"US6210436B1_20010403\",\"US8186044B2_20120529\",\"US8187895B2_20120529\",\"US6338790B1_20020115\",\"US7550069B2_20090623\",\"US8268144B2_20120918\",\"US8268163B2_20120918\",\"US8377378B2_20130219\",\"US6592745B1_20030715\",\"US8262996B2_20120911\",\"US8221685B2_20120717\",\"US9316609B2_20160419\",\"US9234863B2_20160112\",\"US8449758B2_20130528\",\"US8118993B2_20120221\",\"US8372261B2_20130212\",\"US9291592B2_20160322\",\"US7225535B2_20070605\",\"US8192611B2_20120605\",\"US8091220B2_20120110\",\"US8182670B2_20120522\",\"US8182671B2_20120522\",\"US7563350B2_20090721\",\"US8083924B2_20111227\",\"US8083928B2_20111227\",\"US8083929B2_20111227\",\"US8087162B2_20120103\",\"US6299757B1_20011009\",\"US8272125B2_20120925\",\"US8273241B2_20120925\",\"US8153063B2_20120410\",\"US8728297B2_20140520\",\"US8211363B2_20120703\",\"US9891185B2_20180213\",\"US8425743B2_20130423\",\"US8425758B2_20130423\",\"US8650751B2_20140218\",\"US9341591B2_20160517\",\"US8163164B2_20120424\",\"US8226815B2_20120724\",\"US8701282B2_20140422\",\"US7722913B2_20100525\",\"US6934572B2_20050823\",\"US6312469B1_20011106\",\"US7003340B2_20060221\",\"US8706180B2_20140422\",\"US7996054B2_20110809\",\"US8463351B2_20130611\",\"US6548629B2_20030415\",\"US6346583B1_20020212\",\"US9610034B2_20170404\",\"US9498159B2_20161122\",\"US8668645B2_20140311\",\"US9011332B2_20150421\",\"US8652043B2_20140218\",\"AU2724701A_20020121\",\"US7078093B2_20060718\",\"US6999810B2_20060214\",\"US6736777B2_20040518\",\"US6816742B2_20041109\",\"US8628498B2_20140114\",\"US8641674B2_20140204\",\"US8292849B2_20121023\",\"US7318816B2_20080115\",\"US6997907B2_20060214\",\"US7207974B2_20070424\",\"US6902905B2_20050607\",\"US7183068B2_20070227\",\"US6641565B1_20031104\",\"US6478771B1_20021112\",\"US6364865B1_20020402\",\"US6723068B2_20040420\",\"US9533096B2_20170103\",\"US6950708B2_20050927\",\"US6585644B2_20030701\",\"US6571128B2_20030527\",\"US6562001B2_20030513\",\"US6564105B2_20030513\",\"US6811533B2_20041102\",\"US6811534B2_20041102\",\"US6635014B2_20031021\",\"US6813519B2_20041102\",\"US6758810B2_20040706\",\"US6577899B2_20030610\",\"US7347819B2_20080325\",\"US6974437B2_20051213\",\"US7678071B2_20100316\",\"US8938306B2_20150120\",\"US6873268B2_20050329\",\"US6668196B1_20031223\",\"US7171274B2_20070130\",\"US6958705B2_20051025\",\"US6733446B2_20040511\",\"US8568356B2_20131029\",\"US7024245B2_20060404\",\"US7831310B2_20101109\",\"US6687546B2_20040203\",\"US6427088B1_20020730\",\"US6659948B2_20031209\",\"US6975893B2_20051213\",\"US9532741B2_20170103\",\"US7632228B2_20091215\",\"US8840552B2_20140923\",\"US10039480B2_20180807\",\"US7336984B2_20080226\",\"US6319540B1_20011120\",\"US8155723B2_20120410\",\"US7029444B2_20060418\",\"US8588882B2_20131119\",\"US7583990B2_20090901\",\"US8052601B2_20111108\",\"US8808182B2_20140819\",\"US8394021B2_20130312\",\"US7778680B2_20100817\",\"US8801612B2_20140812\",\"US7276029B2_20071002\",\"US8206297B2_20120626\",\"US8442610B2_20130514\",\"US7599726B2_20091006\",\"US8060173B2_20111115\",\"US7797028B2_20100914\",\"US8700117B2_20140415\",\"US7826981B2_20101102\",\"CA2471430C_20140909\",\"US7881763B2_20110201\",\"US7247138B2_20070724\",\"US8118877B2_20120221\",\"US7851624B2_20101214\",\"US20080269270A1_20081030\",\"US6333198B1_20011225\",\"US6437065B1_20020820\",\"US6696479B2_20040224\",\"US6777552B2_20040817\",\"US6835838B2_20041228\",\"US6858618B2_20050222\",\"US7208623B2_20070424\",\"US7232920B2_20070619\",\"US7368468B2_20080506\",\"US7396927B2_20080708\",\"US7414140B2_20080819\",\"US7572917B2_20090811\",\"US7687642B2_20100330\",\"US7795038B2_20100914\",\"US20030224471A1_20031204\",\"US6187598B1_20010213\",\"US6194225B1_20010227\",\"US6210907B1_20010403\",\"US6214570B1_20010410\",\"US6228660B1_20010508\",\"US6352862B1_20020305\",\"US6406920B1_20020618\",\"US6596112B1_20030722\",\"US6844149B2_20050118\",\"US6881581B2_20050419\",\"US7087397B2_20060808\",\"US7195921B2_20070327\",\"US7220595B2_20070522\",\"US7223546B2_20070529\",\"US7238519B2_20070703\",\"US7476548B2_20090113\",\"US7491542B2_20090217\",\"US7109042B2_20060919\",\"US6818455B2_20041116\",\"AU600657B2_19900823\",\"AU5131585A_19860619\",\"US7238537B2_20070703\",\"US7384796B2_20080610\",\"US7629178B2_20091208\",\"US7407813B2_20080805\",\"US7851043B2_20101214\",\"US7582484B2_20090901\",\"US7851586B2_20101214\",\"US20020150984A1_20021017\",\"US6855693B2_20050215\",\"US7745388B2_20100629\",\"US20090075901A1_20090319\",\"US20040204364A1_20041014\",\"US20110143991A1_20110616\",\"US7915219B2_20110329\",\"US8822636B2_20140902\",\"US20090192089A1_20090730\",\"US6664040B2_20031216\",\"US7265092B2_20070904\",\"US7563772B2_20090721\",\"US8524673B2_20130903\",\"US7727958B2_20100601\",\"US8492348B2_20130723\",\"US7867783B2_20110111\",\"US20080207463A1_20080828\",\"US6197595B1_20010306\",\"US6200814B1_20010313\",\"US6207381B1_20010327\",\"US6253793B1_20010703\",\"US6289286B1_20010911\",\"US6354333B1_20020312\",\"US6355429B1_20020312\",\"US6475809B1_20021105\",\"US6493097B1_20021210\",\"US6503760B2_20030107\",\"US6549011B2_20030415\",\"US6589798B1_20030708\",\"US6594011B1_20030715\",\"US6698454B2_20040302\",\"US6710870B1_20040323\",\"US6714303B2_20040330\",\"US6806051B2_20041019\",\"US6810286B2_20041026\",\"US6833920B2_20041221\",\"US6859280B2_20050222\",\"US6882420B2_20050419\",\"US6981526B2_20060103\",\"US7045287B2_20060516\",\"US7193711B2_20070320\",\"US7195872B2_20070327\",\"US6326211B1_20011204\",\"US6830936B2_20041214\",\"US7736587B2_20100615\",\"US7811515B2_20101012\",\"US8021626B2_20110920\",\"US7105356B2_20060912\",\"US7582487B2_20090901\",\"AU4665899A_19991220\",\"US6783938B2_20040831\",\"AU5102599A_20000207\",\"US6475808B1_20021105\",\"US6406921B1_20020618\",\"US6329209B1_20011211\",\"US6630358B1_20031007\",\"US6365418B1_20020402\",\"AU5893198A_19980825\",\"US7262866B2_20070828\",\"US6999175B2_20060214\",\"US7460236B2_20081202\",\"US7081958B2_20060725\",\"US6844201B2_20050118\",\"US6988317B2_20060124\",\"AU2924399A_19990823\",\"US7002686B2_20060221\",\"US8394390B2_20130312\",\"US20160051658A1_20160225\",\"US9067987B2_20150630\",\"US20120219578A1_20120830\",\"US20120276129A1_20121101\",\"US7348006B2_20080325\",\"US7576176B1_20090818\",\"US7785608B2_20100831\",\"US7862827B2_20110104\",\"US7754218B2_20100713\",\"US9139621B2_20150922\",\"US8524251B2_20130903\",\"US9266929B2_20160223\",\"US7988979B2_20110802\",\"US9249196B2_20160202\",\"US9249198B2_20160202\",\"CA2838395A1_20001130\",\"CA2929348A1_20001130\",\"US9610342B2_20170404\",\"US9364528B1_20160614\",\"US8293217B2_20121023\",\"US20100092404A1_20100415\",\"US6359000B1_20020319\",\"US7067677B2_20060627\",\"US8433036B2_20130430\",\"US20110116600A1_20110519\",\"US20140341345A1_20141120\",\"US20160170077A1_20160616\",\"US20190137652A1_20190509\",\"US10007021B2_20180626\",\"US9121958B2_20150901\",\"US6188747B1_20010213\",\"US6192101B1_20010220\",\"US6192104B1_20010220\",\"US6195413B1_20010227\",\"US6198795B1_20010306\",\"US6218943B1_20010417\",\"US6249567B1_20010619\",\"US6252929B1_20010626\",\"US6256369B1_20010703\",\"US6282260B1_20010828\",\"US6292533B1_20010918\",\"US6301326B2_20011009\",\"US6320933B1_20011120\",\"US6356620B1_20020312\",\"US6424695B1_20020723\",\"US6434219B1_20020813\",\"US6435715B1_20020820\",\"US6442233B1_20020827\",\"US6445765B1_20020903\",\"US6453003B1_20020917\",\"US6453007B2_20020917\",\"US6456684B1_20020924\",\"US6459761B1_20021001\",\"US6459764B1_20021001\",\"US6473487B1_20021029\",\"US6483894B2_20021119\",\"US6532276B1_20030311\",\"US6542574B2_20030401\",\"US6542578B2_20030401\",\"US6542580B1_20030401\",\"US6546072B1_20030408\",\"US6563903B2_20030513\",\"US6580778B2_20030617\",\"US6584170B2_20030624\",\"US6597760B2_20030722\",\"US6606516B2_20030812\",\"US6636581B2_20031021\",\"US6653588B1_20031125\",\"US6658087B2_20031202\",\"US6663280B2_20031216\",\"US6665373B1_20031216\",\"US6665433B2_20031216\",\"US6763635B1_20040720\",\"US6785357B2_20040831\",\"US6812426B1_20041102\",\"US6816571B2_20041109\",\"US6837422B1_20050104\",\"US6839403B1_20050104\",\"US6843599B2_20050118\",\"US6920197B2_20050719\",\"US7166844B1_20070123\",\"US7207713B2_20070424\",\"US6857778B2_20050222\",\"US6421420B1_20020716\",\"US6473645B1_20021029\",\"US6477417B1_20021105\",\"US6944264B2_20050913\",\"US7308077B2_20071211\",\"US6788761B2_20040907\",\"US7023957B2_20060404\",\"US7000827B2_20060221\",\"US7388209B1_20080617\",\"US8221705B2_20120717\",\"US10086342B2_20181002\",\"US9458451B2_20161004\",\"US10744469B2_20200818\",\"US20120077188A1_20120329\",\"US7767447B2_20100803\",\"US7780336B2_20100824\",\"US20140004517A1_20140102\",\"US20090021728A1_20090122\",\"US20090137029A1_20090528\",\"US20090136963A1_20090528\",\"US20090136913A1_20090528\",\"US20090142771A1_20090604\",\"US20090134046A1_20090528\",\"US20090139992A1_20090604\",\"US20090142745A1_20090604\",\"US20110189661A1_20110804\",\"US20120211088A1_20120823\",\"US8480976B2_20130709\",\"US8491178B2_20130723\",\"US8052929B2_20111108\",\"US8048375B2_20111101\",\"US20120231456A1_20120913\",\"US20120250452A1_20121004\",\"US20110275087A1_20111110\",\"US20130288348A1_20131031\",\"US8735055B2_20140527\",\"US20170022549A1_20170126\",\"US20190126220A1_20190502\",\"US8828654B2_20140909\",\"US20170218431A1_20170803\",\"US10688458B2_20200623\",\"US20190126219A1_20190502\",\"US9744506B2_20170829\",\"US6214255B1_20010410\",\"US6217701B1_20010417\",\"US6251660B1_20010626\",\"US6273941B1_20010814\",\"US6274304B1_20010814\",\"US6426230B1_20020730\",\"US6493960B2_20021217\",\"US6531197B2_20030311\",\"US6559096B1_20030506\",\"US6613865B1_20030902\",\"US6629820B2_20031007\",\"US7214544B2_20070508\",\"US7261859B2_20070828\",\"AU1597599A_19990615\",\"US7754499B2_20100713\",\"US8048101B2_20111101\",\"US20120042880A1_20120223\",\"US20090024155A1_20090122\",\"US8726906B2_20140520\",\"US20130220335A1_20130829\",\"US8336552B2_20121225\",\"US9402762B2_20160802\",\"US20150068531A1_20150312\",\"US6174919B1_20010116\",\"US6176240B1_20010123\",\"US6187346B1_20010213\",\"US6196966B1_20010306\",\"US6197351B1_20010306\",\"US6245090B1_20010612\",\"US6258084B1_20010710\",\"US6297337B1_20011002\",\"US6299631B1_20011009\",\"US6306243B1_20011023\",\"US6327505B1_20011204\",\"US6346102B1_20020212\",\"US6357443B1_20020319\",\"US6371975B2_20020416\",\"US6378524B1_20020430\",\"US6379373B1_20020430\",\"US6395293B2_20020528\",\"US6401719B1_20020611\",\"US6413536B1_20020702\",\"US6413539B1_20020702\",\"US6432116B1_20020813\",\"US6433096B1_20020813\",\"US6455064B1_20020924\",\"US6458147B1_20021001\",\"US6461631B1_20021008\",\"US6465001B1_20021015\",\"US6476069B2_20021105\",\"US6476070B2_20021105\",\"US6485486B1_20021126\",\"US6493589B1_20021210\",\"US6514534B1_20030204\",\"US6514535B2_20030204\",\"US6526979B1_20030304\",\"US6528080B2_20030304\",\"US6538026B1_20030325\",\"US6539265B2_20030325\",\"US6550480B2_20030422\",\"US6565557B1_20030520\",\"US6577903B1_20030610\",\"US6579469B1_20030617\",\"US6599299B2_20030729\",\"US6605294B2_20030812\",\"US6605667B1_20030812\",\"US6607631B1_20030819\",\"US6610033B1_20030826\",\"US6620846B1_20030916\",\"US6634361B1_20031021\",\"US6635055B1_20031021\",\"US6663607B2_20031216\",\"US6676971B2_20040113\",\"US6679266B2_20040120\",\"US6682526B1_20040127\",\"US6684884B2_20040203\",\"US6689148B2_20040210\",\"US6699940B2_20040302\",\"US6703047B2_20040309\",\"US6705323B1_20040316\",\"US6709667B1_20040323\",\"US6723144B2_20040420\",\"US6723781B1_20040420\",\"US6726682B2_20040427\",\"US6736822B2_20040518\",\"US6743248B2_20040601\",\"US6752803B2_20040622\",\"US6763833B1_20040720\",\"US6780182B2_20040824\",\"AU5926796A_19961230\",\"US7428904B2_20080930\",\"US8066007B2_20111129\",\"US6871650B1_20050329\",\"AU5686399A_20000314\",\"US7396355B2_20080708\",\"US6969388B2_20051129\",\"AU4493400A_20001205\",\"US6723114B2_20040420\",\"AU2913095A_19960125\",\"AU690303B2_19980423\",\"US7905880B2_20110315\",\"AU5562399A_20000306\",\"US7914541B2_20110329\",\"US7220270B2_20070522\",\"US7776063B2_20100817\",\"US7041098B2_20060509\",\"US6689126B1_20040210\",\"US6398780B1_20020604\",\"US8113205B2_20120214\",\"US8707957B2_20140429\",\"US7398780B2_20080715\",\"US7073504B2_20060711\",\"US6743858B2_20040601\",\"US6310166B1_20011030\",\"US6632446B1_20031014\",\"US7025990B2_20060411\",\"US7686020B2_20100330\",\"US8356599B2_20130122\",\"US7921848B2_20110412\",\"US8327852B2_20121211\",\"US8171936B2_20120508\",\"US8733360B2_20140527\",\"US8733361B2_20140527\",\"US8105622B2_20120131\",\"US7780980B2_20100824\",\"US7648713B2_20100119\",\"US8221735B2_20120717\",\"US8512749B2_20130820\",\"US7506650B2_20090324\",\"US9597224B2_20170321\",\"US7591268B2_20090922\",\"US8695604B2_20140415\",\"US8381733B2_20130226\",\"US8079364B2_20111220\",\"US8584679B2_20131119\",\"US7934504B2_20110503\",\"US6524961B1_20030225\",\"US6211296B1_20010403\",\"US7237552B2_20070703\",\"US7582085B2_20090901\"],\"shape\":[740],\"dtype\":\"object\",\"order\":\"little\"}],[\"parent\",{\"type\":\"ndarray\",\"array\":[\"US7778783B2_20100817\",\"US7778783B2_20100817\",\"US7778783B2_20100817\",\"US7778783B2_20100817\",\"US7778783B2_20100817\",\"US7778783B2_20100817\",\"US7778783B2_20100817\",\"US7778783B2_20100817\",\"US7778783B2_20100817\",\"US6875208B2_20050405\",\"US6875208B2_20050405\",\"US6875208B2_20050405\",\"US6875208B2_20050405\",\"US6875208B2_20050405\",\"US6875208B2_20050405\",\"US6875208B2_20050405\",\"US6875208B2_20050405\",\"US6875208B2_20050405\",\"US6875208B2_20050405\",\"US6875208B2_20050405\",\"US6875208B2_20050405\",\"US6875208B2_20050405\",\"US6875208B2_20050405\",\"US6875208B2_20050405\",\"US6875208B2_20050405\",\"US6875208B2_20050405\",\"US6875208B2_20050405\",\"US7039159B2_20060502\",\"US7039159B2_20060502\",\"US7039159B2_20060502\",\"US7039159B2_20060502\",\"US7039159B2_20060502\",\"US7039159B2_20060502\",\"US7039159B2_20060502\",\"US7781432B2_20100824\",\"US7781432B2_20100824\",\"US7781432B2_20100824\",\"US7781432B2_20100824\",\"US7875293B2_20110125\",\"US7875293B2_20110125\",\"US7875293B2_20110125\",\"US7875293B2_20110125\",\"US7875293B2_20110125\",\"US7875293B2_20110125\",\"US7875293B2_20110125\",\"US7875293B2_20110125\",\"US7875293B2_20110125\",\"US7875293B2_20110125\",\"US7875293B2_20110125\",\"US7875293B2_20110125\",\"US7875293B2_20110125\",\"US7875293B2_20110125\",\"US7875293B2_20110125\",\"US7875293B2_20110125\",\"US7875293B2_20110125\",\"US7875293B2_20110125\",\"US7875293B2_20110125\",\"US7875293B2_20110125\",\"US7875293B2_20110125\",\"US7875293B2_20110125\",\"US7875293B2_20110125\",\"US7875293B2_20110125\",\"US7875293B2_20110125\",\"US7875293B2_20110125\",\"US7875293B2_20110125\",\"US7875293B2_20110125\",\"US7875293B2_20110125\",\"US7875293B2_20110125\",\"US7875293B2_20110125\",\"US7875293B2_20110125\",\"US7875293B2_20110125\",\"US7875293B2_20110125\",\"US7875293B2_20110125\",\"US7875293B2_20110125\",\"US7875293B2_20110125\",\"US7875293B2_20110125\",\"US7875293B2_20110125\",\"US7875293B2_20110125\",\"US7875293B2_20110125\",\"US7875293B2_20110125\",\"US7875293B2_20110125\",\"US7875293B2_20110125\",\"US7875293B2_20110125\",\"US7875293B2_20110125\",\"US7875293B2_20110125\",\"US7875293B2_20110125\",\"US7875293B2_20110125\",\"US7875293B2_20110125\",\"US7875293B2_20110125\",\"US7875293B2_20110125\",\"US7875293B2_20110125\",\"US7875293B2_20110125\",\"US7875293B2_20110125\",\"US7875293B2_20110125\",\"US7875293B2_20110125\",\"US7875293B2_20110125\",\"US7875293B2_20110125\",\"US7875293B2_20110125\",\"US7875293B2_20110125\",\"US7875293B2_20110125\",\"US7875293B2_20110125\",\"US7875293B2_20110125\",\"US7875293B2_20110125\",\"US7875293B2_20110125\",\"US7875293B2_20110125\",\"US7875293B2_20110125\",\"US7875293B2_20110125\",\"US7875293B2_20110125\",\"US7875293B2_20110125\",\"US7875293B2_20110125\",\"US7875293B2_20110125\",\"US7875293B2_20110125\",\"US7875293B2_20110125\",\"US7875293B2_20110125\",\"US7875293B2_20110125\",\"US7875293B2_20110125\",\"US7875293B2_20110125\",\"US7875293B2_20110125\",\"US7875293B2_20110125\",\"US7875293B2_20110125\",\"US7875293B2_20110125\",\"US7875293B2_20110125\",\"US7875293B2_20110125\",\"US7875293B2_20110125\",\"US7875293B2_20110125\",\"US7875293B2_20110125\",\"US7875293B2_20110125\",\"US7875293B2_20110125\",\"US7875293B2_20110125\",\"US7875293B2_20110125\",\"US7875293B2_20110125\",\"US7875293B2_20110125\",\"US7875293B2_20110125\",\"US7875293B2_20110125\",\"US7875293B2_20110125\",\"US7875293B2_20110125\",\"US7875293B2_20110125\",\"US7875293B2_20110125\",\"US7875293B2_20110125\",\"US7875293B2_20110125\",\"US7875293B2_20110125\",\"US7875293B2_20110125\",\"US7875293B2_20110125\",\"US7875293B2_20110125\",\"US7875293B2_20110125\",\"US7875293B2_20110125\",\"US7875293B2_20110125\",\"US7875293B2_20110125\",\"US7875293B2_20110125\",\"US7875293B2_20110125\",\"US7875293B2_20110125\",\"US7875293B2_20110125\",\"US7875293B2_20110125\",\"US7875293B2_20110125\",\"US7875293B2_20110125\",\"US7875293B2_20110125\",\"US7875293B2_20110125\",\"US7875293B2_20110125\",\"US7875293B2_20110125\",\"US7875293B2_20110125\",\"US7875293B2_20110125\",\"US7875293B2_20110125\",\"US7875293B2_20110125\",\"US7875293B2_20110125\",\"US7875293B2_20110125\",\"US7875293B2_20110125\",\"US7875293B2_20110125\",\"US7875293B2_20110125\",\"US7875293B2_20110125\",\"US7875293B2_20110125\",\"US7875293B2_20110125\",\"US7875293B2_20110125\",\"US7875293B2_20110125\",\"US7875293B2_20110125\",\"US7875293B2_20110125\",\"US7875293B2_20110125\",\"US7875293B2_20110125\",\"US7875293B2_20110125\",\"US7875293B2_20110125\",\"US7875293B2_20110125\",\"US7875293B2_20110125\",\"US7875293B2_20110125\",\"US7875293B2_20110125\",\"US7875293B2_20110125\",\"US7875293B2_20110125\",\"US7875293B2_20110125\",\"US7875293B2_20110125\",\"US7875293B2_20110125\",\"US7875293B2_20110125\",\"US7875293B2_20110125\",\"US7875293B2_20110125\",\"US7875293B2_20110125\",\"US7875293B2_20110125\",\"US7875293B2_20110125\",\"US7875293B2_20110125\",\"US7875293B2_20110125\",\"US7875293B2_20110125\",\"US7875293B2_20110125\",\"US7875293B2_20110125\",\"US7875293B2_20110125\",\"US7875293B2_20110125\",\"US7875293B2_20110125\",\"US7875293B2_20110125\",\"US7875293B2_20110125\",\"US7875293B2_20110125\",\"US7875293B2_20110125\",\"US7875293B2_20110125\",\"US7875293B2_20110125\",\"US7875293B2_20110125\",\"US7875293B2_20110125\",\"US7875293B2_20110125\",\"US7875293B2_20110125\",\"US7875293B2_20110125\",\"US7875293B2_20110125\",\"US7875293B2_20110125\",\"US7875293B2_20110125\",\"US7875293B2_20110125\",\"US7875293B2_20110125\",\"US7875293B2_20110125\",\"US7875293B2_20110125\",\"US7875293B2_20110125\",\"US7875293B2_20110125\",\"US7875293B2_20110125\",\"US7875293B2_20110125\",\"US7875293B2_20110125\",\"US7875293B2_20110125\",\"US7875293B2_20110125\",\"US7875293B2_20110125\",\"US7875293B2_20110125\",\"US7875293B2_20110125\",\"US7875293B2_20110125\",\"US7875293B2_20110125\",\"US7875293B2_20110125\",\"US7875293B2_20110125\",\"US7875293B2_20110125\",\"US7875293B2_20110125\",\"US7875293B2_20110125\",\"US7875293B2_20110125\",\"US7875293B2_20110125\",\"US7875293B2_20110125\",\"US7875293B2_20110125\",\"US7875293B2_20110125\",\"US7875293B2_20110125\",\"US7875293B2_20110125\",\"US7875293B2_20110125\",\"US7875293B2_20110125\",\"US7875293B2_20110125\",\"US7875293B2_20110125\",\"US7875293B2_20110125\",\"US7875293B2_20110125\",\"US7875293B2_20110125\",\"US7875293B2_20110125\",\"US7875293B2_20110125\",\"US7875293B2_20110125\",\"US7875293B2_20110125\",\"US7875293B2_20110125\",\"US7875293B2_20110125\",\"US7875293B2_20110125\",\"US7875293B2_20110125\",\"US7875293B2_20110125\",\"US7875293B2_20110125\",\"US7875293B2_20110125\",\"US7875293B2_20110125\",\"US7875293B2_20110125\",\"US7875293B2_20110125\",\"US7875293B2_20110125\",\"US7875293B2_20110125\",\"US7875293B2_20110125\",\"US7875293B2_20110125\",\"US7875293B2_20110125\",\"US7875293B2_20110125\",\"US7875293B2_20110125\",\"US7875293B2_20110125\",\"US7875293B2_20110125\",\"US7875293B2_20110125\",\"US7875293B2_20110125\",\"US7875293B2_20110125\",\"US7875293B2_20110125\",\"US7875293B2_20110125\",\"US7875293B2_20110125\",\"US7875293B2_20110125\",\"US7875293B2_20110125\",\"US7875293B2_20110125\",\"US7875293B2_20110125\",\"US7875293B2_20110125\",\"US7875293B2_20110125\",\"US7875293B2_20110125\",\"US7875293B2_20110125\",\"US7875293B2_20110125\",\"US7875293B2_20110125\",\"US7875293B2_20110125\",\"US7875293B2_20110125\",\"US7875293B2_20110125\",\"US7875293B2_20110125\",\"US7875293B2_20110125\",\"US7875293B2_20110125\",\"US7875293B2_20110125\",\"US7875293B2_20110125\",\"US7875293B2_20110125\",\"US7875293B2_20110125\",\"US7875293B2_20110125\",\"US7875293B2_20110125\",\"US7875293B2_20110125\",\"US7875293B2_20110125\",\"US7875293B2_20110125\",\"US7875293B2_20110125\",\"US7875293B2_20110125\",\"US7875293B2_20110125\",\"US7875293B2_20110125\",\"US7875293B2_20110125\",\"US7875293B2_20110125\",\"US7875293B2_20110125\",\"US7875293B2_20110125\",\"US7875293B2_20110125\",\"US7875293B2_20110125\",\"US7875293B2_20110125\",\"US7875293B2_20110125\",\"US7875293B2_20110125\",\"US7875293B2_20110125\",\"US7875293B2_20110125\",\"US7875293B2_20110125\",\"US7875293B2_20110125\",\"US7875293B2_20110125\",\"US7875293B2_20110125\",\"US7875293B2_20110125\",\"US7875293B2_20110125\",\"US7875293B2_20110125\",\"US7875293B2_20110125\",\"US7875293B2_20110125\",\"US7875293B2_20110125\",\"US7875293B2_20110125\",\"US7875293B2_20110125\",\"US7875293B2_20110125\",\"US7875293B2_20110125\",\"US7875293B2_20110125\",\"US7875293B2_20110125\",\"US7875293B2_20110125\",\"US7875293B2_20110125\",\"US7875293B2_20110125\",\"US7875293B2_20110125\",\"US7875293B2_20110125\",\"US7875293B2_20110125\",\"US7875293B2_20110125\",\"US7875293B2_20110125\",\"US7875293B2_20110125\",\"US7875293B2_20110125\",\"US7875293B2_20110125\",\"US7875293B2_20110125\",\"US7875293B2_20110125\",\"US7875293B2_20110125\",\"US7875293B2_20110125\",\"US7875293B2_20110125\",\"US7875293B2_20110125\",\"US7875293B2_20110125\",\"US7875293B2_20110125\",\"US7875293B2_20110125\",\"US7875293B2_20110125\",\"US7875293B2_20110125\",\"US7875293B2_20110125\",\"US7875293B2_20110125\",\"US7875293B2_20110125\",\"US7875293B2_20110125\",\"US7851624B2_20101214\",\"US7851624B2_20101214\",\"US7851624B2_20101214\",\"US7851624B2_20101214\",\"US7851624B2_20101214\",\"US7851624B2_20101214\",\"US7851624B2_20101214\",\"US7851624B2_20101214\",\"US7851624B2_20101214\",\"US7851624B2_20101214\",\"US7851624B2_20101214\",\"US7851624B2_20101214\",\"US7851624B2_20101214\",\"US7851624B2_20101214\",\"US7851624B2_20101214\",\"US7795038B2_20100914\",\"US7795038B2_20100914\",\"US7795038B2_20100914\",\"US7795038B2_20100914\",\"US7795038B2_20100914\",\"US7795038B2_20100914\",\"US7795038B2_20100914\",\"US7795038B2_20100914\",\"US7795038B2_20100914\",\"US7795038B2_20100914\",\"US7795038B2_20100914\",\"US7795038B2_20100914\",\"US7795038B2_20100914\",\"US7795038B2_20100914\",\"US7795038B2_20100914\",\"US7795038B2_20100914\",\"US7795038B2_20100914\",\"US7795038B2_20100914\",\"US7795038B2_20100914\",\"US7795038B2_20100914\",\"US7795038B2_20100914\",\"US7795038B2_20100914\",\"US7795038B2_20100914\",\"US7795038B2_20100914\",\"US7795038B2_20100914\",\"US7795038B2_20100914\",\"US7795038B2_20100914\",\"US7795038B2_20100914\",\"US7795038B2_20100914\",\"US7851586B2_20101214\",\"US7851586B2_20101214\",\"US7851586B2_20101214\",\"US7851586B2_20101214\",\"US7851586B2_20101214\",\"US7851586B2_20101214\",\"US7851586B2_20101214\",\"US7851586B2_20101214\",\"US7851586B2_20101214\",\"US7851586B2_20101214\",\"US7851586B2_20101214\",\"US7851586B2_20101214\",\"US7851586B2_20101214\",\"US7851586B2_20101214\",\"US7851586B2_20101214\",\"US7851586B2_20101214\",\"US7867783B2_20110111\",\"US7867783B2_20110111\",\"US7867783B2_20110111\",\"US7867783B2_20110111\",\"US7867783B2_20110111\",\"US7867783B2_20110111\",\"US7867783B2_20110111\",\"US7867783B2_20110111\",\"US7867783B2_20110111\",\"US7867783B2_20110111\",\"US7867783B2_20110111\",\"US7867783B2_20110111\",\"US7867783B2_20110111\",\"US7867783B2_20110111\",\"US7867783B2_20110111\",\"US7867783B2_20110111\",\"US7867783B2_20110111\",\"US7867783B2_20110111\",\"US7867783B2_20110111\",\"US7867783B2_20110111\",\"US7867783B2_20110111\",\"US7867783B2_20110111\",\"US7867783B2_20110111\",\"US7867783B2_20110111\",\"US7867783B2_20110111\",\"US7867783B2_20110111\",\"US7867783B2_20110111\",\"US7867783B2_20110111\",\"US7867783B2_20110111\",\"US7867783B2_20110111\",\"US7867783B2_20110111\",\"US7867783B2_20110111\",\"US7867783B2_20110111\",\"US7867783B2_20110111\",\"US7867783B2_20110111\",\"US7867783B2_20110111\",\"US7867783B2_20110111\",\"US7867783B2_20110111\",\"US7867783B2_20110111\",\"US7867783B2_20110111\",\"US7867783B2_20110111\",\"US7867783B2_20110111\",\"US7867783B2_20110111\",\"US7867783B2_20110111\",\"US7867783B2_20110111\",\"US7867783B2_20110111\",\"US7867783B2_20110111\",\"US7867783B2_20110111\",\"US7867783B2_20110111\",\"US7867783B2_20110111\",\"US7867783B2_20110111\",\"US8394390B2_20130312\",\"US8394390B2_20130312\",\"US8394390B2_20130312\",\"US8394390B2_20130312\",\"US8394390B2_20130312\",\"US8394390B2_20130312\",\"US8394390B2_20130312\",\"US8394390B2_20130312\",\"US8394390B2_20130312\",\"US8394390B2_20130312\",\"US8394390B2_20130312\",\"US8394390B2_20130312\",\"US8394390B2_20130312\",\"US8394390B2_20130312\",\"US8394390B2_20130312\",\"US8394390B2_20130312\",\"US8394390B2_20130312\",\"US8394390B2_20130312\",\"US8394390B2_20130312\",\"US8394390B2_20130312\",\"US8293217B2_20121023\",\"US8293217B2_20121023\",\"US8293217B2_20121023\",\"US8293217B2_20121023\",\"US8433036B2_20130430\",\"US8433036B2_20130430\",\"US8433036B2_20130430\",\"US8433036B2_20130430\",\"US8433036B2_20130430\",\"US8433036B2_20130430\",\"US8433036B2_20130430\",\"US8433036B2_20130430\",\"US8433036B2_20130430\",\"US8433036B2_20130430\",\"US8433036B2_20130430\",\"US8433036B2_20130430\",\"US8433036B2_20130430\",\"US8433036B2_20130430\",\"US8433036B2_20130430\",\"US8433036B2_20130430\",\"US8433036B2_20130430\",\"US8433036B2_20130430\",\"US8433036B2_20130430\",\"US8433036B2_20130430\",\"US8433036B2_20130430\",\"US8433036B2_20130430\",\"US8433036B2_20130430\",\"US8433036B2_20130430\",\"US8433036B2_20130430\",\"US8433036B2_20130430\",\"US8433036B2_20130430\",\"US8433036B2_20130430\",\"US8433036B2_20130430\",\"US8433036B2_20130430\",\"US8433036B2_20130430\",\"US8433036B2_20130430\",\"US8433036B2_20130430\",\"US8433036B2_20130430\",\"US8433036B2_20130430\",\"US8433036B2_20130430\",\"US8433036B2_20130430\",\"US8433036B2_20130430\",\"US8433036B2_20130430\",\"US8433036B2_20130430\",\"US8433036B2_20130430\",\"US8433036B2_20130430\",\"US8433036B2_20130430\",\"US8433036B2_20130430\",\"US8433036B2_20130430\",\"US8433036B2_20130430\",\"US8433036B2_20130430\",\"US8433036B2_20130430\",\"US8433036B2_20130430\",\"US8433036B2_20130430\",\"US8433036B2_20130430\",\"US8433036B2_20130430\",\"US8433036B2_20130430\",\"US8433036B2_20130430\",\"US8433036B2_20130430\",\"US8433036B2_20130430\",\"US8433036B2_20130430\",\"US8433036B2_20130430\",\"US8433036B2_20130430\",\"US8433036B2_20130430\",\"US8433036B2_20130430\",\"US8433036B2_20130430\",\"US8433036B2_20130430\",\"US8433036B2_20130430\",\"US8433036B2_20130430\",\"US8433036B2_20130430\",\"US8433036B2_20130430\",\"US8433036B2_20130430\",\"US8433036B2_20130430\",\"US8221705B2_20120717\",\"US8221705B2_20120717\",\"US8221705B2_20120717\",\"US8221705B2_20120717\",\"US8221705B2_20120717\",\"US8221705B2_20120717\",\"US8221705B2_20120717\",\"US8221705B2_20120717\",\"US8221705B2_20120717\",\"US8221705B2_20120717\",\"US8221705B2_20120717\",\"US8221705B2_20120717\",\"US8221705B2_20120717\",\"US8221705B2_20120717\",\"US8221705B2_20120717\",\"US8221705B2_20120717\",\"US8221705B2_20120717\",\"US8221705B2_20120717\",\"US8221705B2_20120717\",\"US8221705B2_20120717\",\"US8221705B2_20120717\",\"US8221705B2_20120717\",\"US8221705B2_20120717\",\"US8221705B2_20120717\",\"US8221705B2_20120717\",\"US8221705B2_20120717\",\"US8221705B2_20120717\",\"US8221705B2_20120717\",\"US8221705B2_20120717\",\"US8221705B2_20120717\",\"US8221705B2_20120717\",\"US8221705B2_20120717\",\"US8221705B2_20120717\",\"US8221705B2_20120717\",\"US8221705B2_20120717\",\"US8221705B2_20120717\",\"US8221705B2_20120717\",\"US8221705B2_20120717\",\"US8221705B2_20120717\",\"US8221705B2_20120717\",\"US8221705B2_20120717\",\"US8221705B2_20120717\",\"US8221705B2_20120717\",\"US8221705B2_20120717\",\"US8221705B2_20120717\",\"US8221705B2_20120717\",\"US8221705B2_20120717\",\"US8221705B2_20120717\",\"US8221705B2_20120717\",\"US8048101B2_20111101\",\"US8048101B2_20111101\",\"US8048101B2_20111101\",\"US8048101B2_20111101\",\"US8048101B2_20111101\",\"US8048101B2_20111101\",\"US8048101B2_20111101\",\"US8048101B2_20111101\",\"US8048101B2_20111101\",\"US8048101B2_20111101\",\"US8048101B2_20111101\",\"US8048101B2_20111101\",\"US8048101B2_20111101\",\"US8048101B2_20111101\",\"US8048101B2_20111101\",\"US8048101B2_20111101\",\"US8048101B2_20111101\",\"US8048101B2_20111101\",\"US8048101B2_20111101\",\"US8048101B2_20111101\",\"US8048101B2_20111101\",\"US8048101B2_20111101\",\"US8048101B2_20111101\",\"US8048101B2_20111101\",\"US8048101B2_20111101\",\"US8048101B2_20111101\",\"US8048101B2_20111101\",\"US8048101B2_20111101\",\"US8048101B2_20111101\",\"US8048101B2_20111101\",\"US8048101B2_20111101\",\"US8048101B2_20111101\",\"US8048101B2_20111101\",\"US8048101B2_20111101\",\"US8048101B2_20111101\",\"US8048101B2_20111101\",\"US8048101B2_20111101\",\"US8048101B2_20111101\",\"US8048101B2_20111101\",\"US8048101B2_20111101\",\"US8048101B2_20111101\",\"US8048101B2_20111101\",\"US8048101B2_20111101\",\"US8048101B2_20111101\",\"US8048101B2_20111101\",\"US8048101B2_20111101\",\"US8048101B2_20111101\",\"US8048101B2_20111101\",\"US8048101B2_20111101\",\"US8048101B2_20111101\",\"US8048101B2_20111101\",\"US8048101B2_20111101\",\"US8048101B2_20111101\",\"US8048101B2_20111101\",\"US8048101B2_20111101\",\"US8048101B2_20111101\",\"US8048101B2_20111101\",\"US8048101B2_20111101\",\"US8048101B2_20111101\",\"US8048101B2_20111101\",\"US8048101B2_20111101\",\"US8048101B2_20111101\",\"US8048101B2_20111101\",\"US8048101B2_20111101\",\"US8048101B2_20111101\",\"US8048101B2_20111101\",\"US8048101B2_20111101\",\"US8048101B2_20111101\",\"US8048101B2_20111101\",\"US8048101B2_20111101\",\"US8048101B2_20111101\",\"US8048101B2_20111101\",\"US8048101B2_20111101\",\"US8048101B2_20111101\",\"US8048101B2_20111101\",\"US8048101B2_20111101\",\"US8048101B2_20111101\",\"US8048101B2_20111101\",\"US8048101B2_20111101\",\"US8048101B2_20111101\",\"US8048101B2_20111101\",\"US8048101B2_20111101\",\"US8048101B2_20111101\",\"US8048101B2_20111101\",\"US8048101B2_20111101\",\"US8048101B2_20111101\",\"US8048101B2_20111101\",\"US8048101B2_20111101\",\"US8048101B2_20111101\",\"US8048101B2_20111101\",\"US8048101B2_20111101\",\"US8048101B2_20111101\",\"US8048101B2_20111101\",\"US8048101B2_20111101\",\"US8048101B2_20111101\",\"US8048101B2_20111101\",\"US8048101B2_20111101\",\"US8048101B2_20111101\",\"US8048101B2_20111101\",\"US8048101B2_20111101\",\"US8048101B2_20111101\",\"US8048101B2_20111101\",\"US8048101B2_20111101\",\"US8048101B2_20111101\",\"US8048101B2_20111101\",\"US8048101B2_20111101\",\"US8048101B2_20111101\",\"US8048101B2_20111101\",\"US8048101B2_20111101\",\"US8048101B2_20111101\",\"US8048101B2_20111101\",\"US8048101B2_20111101\",\"US8048101B2_20111101\",\"US8048101B2_20111101\",\"US8048101B2_20111101\",\"US8048101B2_20111101\",\"US8048101B2_20111101\",\"US8048101B2_20111101\",\"US8048101B2_20111101\",\"US8048101B2_20111101\",\"US8048101B2_20111101\",\"US8048101B2_20111101\",\"US8048101B2_20111101\",\"US8048101B2_20111101\",\"US8048101B2_20111101\"],\"shape\":[740],\"dtype\":\"object\",\"order\":\"little\"}],[\"parent_x\",{\"type\":\"ndarray\",\"array\":{\"type\":\"bytes\",\"data\":\"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\"},\"shape\":[740],\"dtype\":\"float32\",\"order\":\"little\"}],[\"parent_y\",{\"type\":\"ndarray\",\"array\":{\"type\":\"bytes\",\"data\":\"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\"},\"shape\":[740],\"dtype\":\"float32\",\"order\":\"little\"}],[\"radius\",{\"type\":\"ndarray\",\"array\":{\"type\":\"bytes\",\"data\":\"AAAAAAAA8D8AAAAAAADgPwAAAAAAAOA/AAAAAAAA4D8AAAAAAADgPwAAAAAAAOA/AAAAAAAA4D8AAAAAAADgPwAAAAAAAOA/AAAAAAAA8D8AAAAAAADgPwAAAAAAAOA/AAAAAAAA4D8AAAAAAADgPwAAAAAAAOA/AAAAAAAA4D8AAAAAAADgPwAAAAAAAOA/AAAAAAAA4D8AAAAAAADgPwAAAAAAAOA/AAAAAAAA4D8AAAAAAADgPwAAAAAAAOA/AAAAAAAA4D8AAAAAAADgPwAAAAAAAOA/AAAAAAAA8D8AAAAAAADgPwAAAAAAAOA/AAAAAAAA4D8AAAAAAADgPwAAAAAAAOA/AAAAAAAA4D8AAAAAAADwPwAAAAAAAOA/AAAAAAAA4D8AAAAAAADgPwAAAAAAAPA/AAAAAAAA4D8AAAAAAADgPwAAAAAAAOA/AAAAAAAA4D8AAAAAAADgPwAAAAAAAOA/AAAAAAAA4D8AAAAAAADgPwAAAAAAAOA/AAAAAAAA4D8AAAAAAADgPwAAAAAAAOA/AAAAAAAA4D8AAAAAAADgPwAAAAAAAOA/AAAAAAAA4D8AAAAAAADgPwAAAAAAAOA/AAAAAAAA4D8AAAAAAADgPwAAAAAAAOA/AAAAAAAA4D8AAAAAAADgPwAAAAAAAOA/AAAAAAAA4D8AAAAAAADgPwAAAAAAAOA/AAAAAAAA4D8AAAAAAADgPwAAAAAAAOA/AAAAAAAA4D8AAAAAAADgPwAAAAAAAOA/AAAAAAAA4D8AAAAAAADgPwAAAAAAAOA/AAAAAAAA4D8AAAAAAADgPwAAAAAAAOA/AAAAAAAA4D8AAAAAAADgPwAAAAAAAOA/AAAAAAAA4D8AAAAAAADgPwAAAAAAAOA/AAAAAAAA4D8AAAAAAADgPwAAAAAAAOA/AAAAAAAA4D8AAAAAAADgPwAAAAAAAOA/AAAAAAAA4D8AAAAAAADgPwAAAAAAAOA/AAAAAAAA4D8AAAAAAADgPwAAAAAAAOA/AAAAAAAA4D8AAAAAAADgPwAAAAAAAOA/AAAAAAAA4D8AAAAAAADgPwAAAAAAAOA/AAAAAAAA4D8AAAAAAADgPwAAAAAAAOA/AAAAAAAA4D8AAAAAAADgPwAAAAAAAOA/AAAAAAAA4D8AAAAAAADgPwAAAAAAAOA/AAAAAAAA4D8AAAAAAADgPwAAAAAAAOA/AAAAAAAA4D8AAAAAAADgPwAAAAAAAOA/AAAAAAAA4D8AAAAAAADgPwAAAAAAAOA/AAAAAAAA4D8AAAAAAADgPwAAAAAAAOA/AAAAAAAA4D8AAAAAAADgPwAAAAAAAOA/AAAAAAAA4D8AAAAAAADgPwAAAAAAAOA/AAAAAAAA4D8AAAAAAADgPwAAAAAAAOA/AAAAAAAA4D8AAAAAAADgPwAAAAAAAOA/AAAAAAAA4D8AAAAAAADgPwAAAAAAAOA/AAAAAAAA4D8AAAAAAADgPwAAAAAAAOA/AAAAAAAA4D8AAAAAAADgPwAAAAAAAOA/AAAAAAAA4D8AAAAAAADgPwAAAAAAAOA/AAAAAAAA4D8AAAAAAADgPwAAAAAAAOA/AAAAAAAA4D8AAAAAAADgPwAAAAAAAOA/AAAAAAAA4D8AAAAAAADgPwAAAAAAAOA/AAAAAAAA4D8AAAAAAADgPwAAAAAAAOA/AAAAAAAA4D8AAAAAAADgPwAAAAAAAOA/AAAAAAAA4D8AAAAAAADgPwAAAAAAAOA/AAAAAAAA4D8AAAAAAADgPwAAAAAAAOA/AAAAAAAA4D8AAAAAAADgPwAAAAAAAOA/AAAAAAAA4D8AAAAAAADgPwAAAAAAAOA/AAAAAAAA4D8AAAAAAADgPwAAAAAAAOA/AAAAAAAA4D8AAAAAAADgPwAAAAAAAOA/AAAAAAAA4D8AAAAAAADgPwAAAAAAAOA/AAAAAAAA4D8AAAAAAADgPwAAAAAAAOA/AAAAAAAA4D8AAAAAAADgPwAAAAAAAOA/AAAAAAAA4D8AAAAAAADgPwAAAAAAAOA/AAAAAAAA4D8AAAAAAADgPwAAAAAAAOA/AAAAAAAA4D8AAAAAAADgPwAAAAAAAOA/AAAAAAAA4D8AAAAAAADgPwAAAAAAAOA/AAAAAAAA4D8AAAAAAADgPwAAAAAAAOA/AAAAAAAA4D8AAAAAAADgPwAAAAAAAOA/AAAAAAAA4D8AAAAAAADgPwAAAAAAAOA/AAAAAAAA4D8AAAAAAADgPwAAAAAAAOA/AAAAAAAA4D8AAAAAAADgPwAAAAAAAOA/AAAAAAAA4D8AAAAAAADgPwAAAAAAAOA/AAAAAAAA4D8AAAAAAADgPwAAAAAAAOA/AAAAAAAA4D8AAAAAAADgPwAAAAAAAOA/AAAAAAAA4D8AAAAAAADgPwAAAAAAAOA/AAAAAAAA4D8AAAAAAADgPwAAAAAAAOA/AAAAAAAA4D8AAAAAAADgPwAAAAAAAOA/AAAAAAAA4D8AAAAAAADgPwAAAAAAAOA/AAAAAAAA4D8AAAAAAADgPwAAAAAAAOA/AAAAAAAA4D8AAAAAAADgPwAAAAAAAOA/AAAAAAAA4D8AAAAAAADgPwAAAAAAAOA/AAAAAAAA4D8AAAAAAADgPwAAAAAAAOA/AAAAAAAA4D8AAAAAAADgPwAAAAAAAOA/AAAAAAAA4D8AAAAAAADgPwAAAAAAAOA/AAAAAAAA4D8AAAAAAADgPwAAAAAAAOA/AAAAAAAA4D8AAAAAAADgPwAAAAAAAOA/AAAAAAAA4D8AAAAAAADgPwAAAAAAAOA/AAAAAAAA4D8AAAAAAADgPwAAAAAAAOA/AAAAAAAA4D8AAAAAAADgPwAAAAAAAOA/AAAAAAAA4D8AAAAAAADgPwAAAAAAAOA/AAAAAAAA4D8AAAAAAADgPwAAAAAAAOA/AAAAAAAA4D8AAAAAAADgPwAAAAAAAOA/AAAAAAAA4D8AAAAAAADgPwAAAAAAAOA/AAAAAAAA4D8AAAAAAADgPwAAAAAAAOA/AAAAAAAA4D8AAAAAAADgPwAAAAAAAOA/AAAAAAAA4D8AAAAAAADgPwAAAAAAAOA/AAAAAAAA4D8AAAAAAADgPwAAAAAAAOA/AAAAAAAA4D8AAAAAAADgPwAAAAAAAOA/AAAAAAAA4D8AAAAAAADgPwAAAAAAAOA/AAAAAAAA4D8AAAAAAADgPwAAAAAAAOA/AAAAAAAA4D8AAAAAAADgPwAAAAAAAOA/AAAAAAAA4D8AAAAAAADgPwAAAAAAAOA/AAAAAAAA4D8AAAAAAADgPwAAAAAAAOA/AAAAAAAA4D8AAAAAAADgPwAAAAAAAOA/AAAAAAAA4D8AAAAAAADgPwAAAAAAAOA/AAAAAAAA4D8AAAAAAADgPwAAAAAAAOA/AAAAAAAA4D8AAAAAAADgPwAAAAAAAOA/AAAAAAAA4D8AAAAAAADgPwAAAAAAAOA/AAAAAAAA4D8AAAAAAADgPwAAAAAAAOA/AAAAAAAA4D8AAAAAAADgPwAAAAAAAOA/AAAAAAAA4D8AAAAAAADgPwAAAAAAAOA/AAAAAAAA4D8AAAAAAADgPwAAAAAAAOA/AAAAAAAA4D8AAAAAAADgPwAAAAAAAOA/AAAAAAAA4D8AAAAAAADgPwAAAAAAAOA/AAAAAAAA4D8AAAAAAADgPwAAAAAAAOA/AAAAAAAA4D8AAAAAAADgPwAAAAAAAOA/AAAAAAAA4D8AAAAAAADgPwAAAAAAAOA/AAAAAAAA4D8AAAAAAADgPwAAAAAAAOA/AAAAAAAA4D8AAAAAAADgPwAAAAAAAOA/AAAAAAAA4D8AAAAAAADgPwAAAAAAAPA/AAAAAAAA4D8AAAAAAADgPwAAAAAAAOA/AAAAAAAA4D8AAAAAAADgPwAAAAAAAOA/AAAAAAAA4D8AAAAAAADgPwAAAAAAAOA/AAAAAAAA4D8AAAAAAADgPwAAAAAAAOA/AAAAAAAA4D8AAAAAAADgPwAAAAAAAPA/AAAAAAAA4D8AAAAAAADgPwAAAAAAAOA/AAAAAAAA4D8AAAAAAADgPwAAAAAAAOA/AAAAAAAA4D8AAAAAAADgPwAAAAAAAOA/AAAAAAAA4D8AAAAAAADgPwAAAAAAAOA/AAAAAAAA4D8AAAAAAADgPwAAAAAAAOA/AAAAAAAA4D8AAAAAAADgPwAAAAAAAOA/AAAAAAAA4D8AAAAAAADgPwAAAAAAAOA/AAAAAAAA4D8AAAAAAADgPwAAAAAAAOA/AAAAAAAA4D8AAAAAAADgPwAAAAAAAOA/AAAAAAAA4D8AAAAAAADwPwAAAAAAAOA/AAAAAAAA4D8AAAAAAADgPwAAAAAAAOA/AAAAAAAA4D8AAAAAAADgPwAAAAAAAOA/AAAAAAAA4D8AAAAAAADgPwAAAAAAAOA/AAAAAAAA4D8AAAAAAADgPwAAAAAAAOA/AAAAAAAA4D8AAAAAAADgPwAAAAAAAPA/AAAAAAAA4D8AAAAAAADgPwAAAAAAAOA/AAAAAAAA4D8AAAAAAADgPwAAAAAAAOA/AAAAAAAA4D8AAAAAAADgPwAAAAAAAOA/AAAAAAAA4D8AAAAAAADgPwAAAAAAAOA/AAAAAAAA4D8AAAAAAADgPwAAAAAAAOA/AAAAAAAA4D8AAAAAAADgPwAAAAAAAOA/AAAAAAAA4D8AAAAAAADgPwAAAAAAAOA/AAAAAAAA4D8AAAAAAADgPwAAAAAAAOA/AAAAAAAA4D8AAAAAAADgPwAAAAAAAOA/AAAAAAAA4D8AAAAAAADgPwAAAAAAAOA/AAAAAAAA4D8AAAAAAADgPwAAAAAAAOA/AAAAAAAA4D8AAAAAAADgPwAAAAAAAOA/AAAAAAAA4D8AAAAAAADgPwAAAAAAAOA/AAAAAAAA4D8AAAAAAADgPwAAAAAAAOA/AAAAAAAA4D8AAAAAAADgPwAAAAAAAOA/AAAAAAAA4D8AAAAAAADgPwAAAAAAAOA/AAAAAAAA4D8AAAAAAADgPwAAAAAAAPA/AAAAAAAA4D8AAAAAAADgPwAAAAAAAOA/AAAAAAAA4D8AAAAAAADgPwAAAAAAAOA/AAAAAAAA4D8AAAAAAADgPwAAAAAAAOA/AAAAAAAA4D8AAAAAAADgPwAAAAAAAOA/AAAAAAAA4D8AAAAAAADgPwAAAAAAAOA/AAAAAAAA4D8AAAAAAADgPwAAAAAAAOA/AAAAAAAA4D8AAAAAAADwPwAAAAAAAOA/AAAAAAAA4D8AAAAAAADgPwAAAAAAAPA/AAAAAAAA4D8AAAAAAADgPwAAAAAAAOA/AAAAAAAA4D8AAAAAAADgPwAAAAAAAOA/AAAAAAAA4D8AAAAAAADgPwAAAAAAAOA/AAAAAAAA4D8AAAAAAADgPwAAAAAAAOA/AAAAAAAA4D8AAAAAAADgPwAAAAAAAOA/AAAAAAAA4D8AAAAAAADgPwAAAAAAAOA/AAAAAAAA4D8AAAAAAADgPwAAAAAAAOA/AAAAAAAA4D8AAAAAAADgPwAAAAAAAOA/AAAAAAAA4D8AAAAAAADgPwAAAAAAAOA/AAAAAAAA4D8AAAAAAADgPwAAAAAAAOA/AAAAAAAA4D8AAAAAAADgPwAAAAAAAOA/AAAAAAAA4D8AAAAAAADgPwAAAAAAAOA/AAAAAAAA4D8AAAAAAADgPwAAAAAAAOA/AAAAAAAA4D8AAAAAAADgPwAAAAAAAOA/AAAAAAAA4D8AAAAAAADgPwAAAAAAAOA/AAAAAAAA4D8AAAAAAADgPwAAAAAAAOA/AAAAAAAA4D8AAAAAAADgPwAAAAAAAOA/AAAAAAAA4D8AAAAAAADgPwAAAAAAAOA/AAAAAAAA4D8AAAAAAADgPwAAAAAAAOA/AAAAAAAA4D8AAAAAAADgPwAAAAAAAOA/AAAAAAAA4D8AAAAAAADgPwAAAAAAAOA/AAAAAAAA4D8AAAAAAADgPwAAAAAAAOA/AAAAAAAA4D8AAAAAAADgPwAAAAAAAPA/AAAAAAAA4D8AAAAAAADgPwAAAAAAAOA/AAAAAAAA4D8AAAAAAADgPwAAAAAAAOA/AAAAAAAA4D8AAAAAAADgPwAAAAAAAOA/AAAAAAAA4D8AAAAAAADgPwAAAAAAAOA/AAAAAAAA4D8AAAAAAADgPwAAAAAAAOA/AAAAAAAA4D8AAAAAAADgPwAAAAAAAOA/AAAAAAAA4D8AAAAAAADgPwAAAAAAAOA/AAAAAAAA4D8AAAAAAADgPwAAAAAAAOA/AAAAAAAA4D8AAAAAAADgPwAAAAAAAOA/AAAAAAAA4D8AAAAAAADgPwAAAAAAAOA/AAAAAAAA4D8AAAAAAADgPwAAAAAAAOA/AAAAAAAA4D8AAAAAAADgPwAAAAAAAOA/AAAAAAAA4D8AAAAAAADgPwAAAAAAAOA/AAAAAAAA4D8AAAAAAADgPwAAAAAAAOA/AAAAAAAA4D8AAAAAAADgPwAAAAAAAOA/AAAAAAAA4D8AAAAAAADgPwAAAAAAAOA/AAAAAAAA8D8AAAAAAADgPwAAAAAAAOA/AAAAAAAA4D8AAAAAAADgPwAAAAAAAOA/AAAAAAAA4D8AAAAAAADgPwAAAAAAAOA/AAAAAAAA4D8AAAAAAADgPwAAAAAAAOA/AAAAAAAA4D8AAAAAAADgPwAAAAAAAOA/AAAAAAAA4D8AAAAAAADgPwAAAAAAAOA/AAAAAAAA4D8AAAAAAADgPwAAAAAAAOA/AAAAAAAA4D8AAAAAAADgPwAAAAAAAOA/AAAAAAAA4D8AAAAAAADgPwAAAAAAAOA/AAAAAAAA4D8AAAAAAADgPwAAAAAAAOA/AAAAAAAA4D8AAAAAAADgPwAAAAAAAOA/AAAAAAAA4D8AAAAAAADgPwAAAAAAAOA/AAAAAAAA4D8AAAAAAADgPwAAAAAAAOA/AAAAAAAA4D8AAAAAAADgPwAAAAAAAOA/AAAAAAAA4D8AAAAAAADgPwAAAAAAAOA/AAAAAAAA4D8AAAAAAADgPwAAAAAAAOA/AAAAAAAA4D8AAAAAAADgPwAAAAAAAOA/AAAAAAAA4D8AAAAAAADgPwAAAAAAAOA/AAAAAAAA4D8AAAAAAADgPwAAAAAAAOA/AAAAAAAA4D8AAAAAAADgPwAAAAAAAOA/AAAAAAAA4D8AAAAAAADgPwAAAAAAAOA/AAAAAAAA4D8AAAAAAADgPwAAAAAAAOA/AAAAAAAA4D8AAAAAAADgPwAAAAAAAOA/AAAAAAAA4D8AAAAAAADgPwAAAAAAAOA/AAAAAAAA4D8AAAAAAADgPwAAAAAAAOA/AAAAAAAA4D8AAAAAAADgPwAAAAAAAOA/AAAAAAAA4D8AAAAAAADgPwAAAAAAAOA/AAAAAAAA4D8AAAAAAADgPwAAAAAAAOA/AAAAAAAA4D8AAAAAAADgPwAAAAAAAOA/AAAAAAAA4D8AAAAAAADgPwAAAAAAAOA/AAAAAAAA4D8AAAAAAADgPwAAAAAAAOA/AAAAAAAA4D8AAAAAAADgPwAAAAAAAOA/AAAAAAAA4D8AAAAAAADgPwAAAAAAAOA/AAAAAAAA4D8AAAAAAADgPwAAAAAAAOA/AAAAAAAA4D8AAAAAAADgPwAAAAAAAOA/AAAAAAAA4D8AAAAAAADgPwAAAAAAAOA/AAAAAAAA4D8AAAAAAADgPwAAAAAAAOA/AAAAAAAA4D8AAAAAAADgPwAAAAAAAOA/AAAAAAAA4D8AAAAAAADgPwAAAAAAAOA/AAAAAAAA4D8AAAAAAADgPwAAAAAAAOA/AAAAAAAA4D8AAAAAAADgPwAAAAAAAOA/AAAAAAAA4D8AAAAAAADgPw==\"},\"shape\":[740],\"dtype\":\"float64\",\"order\":\"little\"}],[\"relation\",{\"type\":\"ndarray\",\"array\":[\"document\",\"analogs\",\"analogs\",\"analogs\",\"citations\",\"citations\",\"citations\",\"citations\",\"citations\",\"document\",\"analogs\",\"analogs\",\"citations_analogs\",\"citations_analogs\",\"citations_analogs\",\"citations_analogs\",\"citations_analogs\",\"citations_analogs\",\"citations_analogs\",\"citations_analogs\",\"citations_analogs\",\"citations_analogs\",\"citations_analogs\",\"citations_analogs\",\"citations_analogs\",\"citations_analogs\",\"citations_analogs\",\"document\",\"analogs\",\"analogs\",\"analogs\",\"citations\",\"citations\",\"citations_analogs\",\"document\",\"analogs\",\"citations\",\"citations\",\"document\",\"analogs\",\"analogs\",\"analogs\",\"citations\",\"citations\",\"citations\",\"citations\",\"citations\",\"citations\",\"citations\",\"citations\",\"citations\",\"citations\",\"citations\",\"citations\",\"citations\",\"citations\",\"citations\",\"citations\",\"citations\",\"citations\",\"citations\",\"citations\",\"citations\",\"citations\",\"citations\",\"citations\",\"citations\",\"citations\",\"citations\",\"citations\",\"citations\",\"citations\",\"citations\",\"citations\",\"citations\",\"citations\",\"citations\",\"citations\",\"citations\",\"citations\",\"citations\",\"citations\",\"citations\",\"citations\",\"citations\",\"citations\",\"citations\",\"citations\",\"citations\",\"citations\",\"citations\",\"citations\",\"citations\",\"citations\",\"citations\",\"citations\",\"citations\",\"citations\",\"citations\",\"citations\",\"citations\",\"citations\",\"citations\",\"citations\",\"citations\",\"citations\",\"citations\",\"citations\",\"citations\",\"citations\",\"citations\",\"citations\",\"citations\",\"citations\",\"citations\",\"citations\",\"citations\",\"citations\",\"citations\",\"citations\",\"citations\",\"citations\",\"citations\",\"citations\",\"citations\",\"citations\",\"citations\",\"citations\",\"citations\",\"citations\",\"citations\",\"citations\",\"citations\",\"citations\",\"citations\",\"citations\",\"citations\",\"citations\",\"citations\",\"citations\",\"citations\",\"citations\",\"citations\",\"citations\",\"citations\",\"citations\",\"citations\",\"citations\",\"citations\",\"citations\",\"citations\",\"citations\",\"citations_analogs\",\"citations_analogs\",\"citations_analogs\",\"citations_analogs\",\"citations_analogs\",\"citations_analogs\",\"citations_analogs\",\"citations_analogs\",\"citations_analogs\",\"citations_analogs\",\"citations_analogs\",\"citations_analogs\",\"citations_analogs\",\"citations_analogs\",\"citations_analogs\",\"citations_analogs\",\"citations_analogs\",\"citations_analogs\",\"citations_analogs\",\"citations_analogs\",\"citations_analogs\",\"citations_analogs\",\"citations_analogs\",\"citations_analogs\",\"citations_analogs\",\"citations_analogs\",\"citations_analogs\",\"citations_analogs\",\"citations_analogs\",\"citations_analogs\",\"citations_analogs\",\"citations_analogs\",\"citations_analogs\",\"citations_analogs\",\"citations_analogs\",\"citations_analogs\",\"citations_analogs\",\"citations_analogs\",\"citations_analogs\",\"citations_analogs\",\"citations_analogs\",\"citations_analogs\",\"citations_analogs\",\"citations_analogs\",\"citations_analogs\",\"citations_analogs\",\"citations_analogs\",\"citations_analogs\",\"citations_analogs\",\"citations_analogs\",\"citations_analogs\",\"citations_analogs\",\"citations_analogs\",\"citations_analogs\",\"citations_analogs\",\"citations_analogs\",\"citations_analogs\",\"citations_analogs\",\"citations_analogs\",\"citations_analogs\",\"citations_analogs\",\"citations_analogs\",\"citations_analogs\",\"citations_analogs\",\"citations_analogs\",\"citations_analogs\",\"citations_analogs\",\"citations_analogs\",\"citations_analogs\",\"citations_analogs\",\"citations_analogs\",\"citations_analogs\",\"citations_analogs\",\"citations_analogs\",\"citations_analogs\",\"citations_analogs\",\"citations_analogs\",\"citations_analogs\",\"citations_analogs\",\"citations_analogs\",\"citations_analogs\",\"citations_analogs\",\"citations_analogs\",\"citations_analogs\",\"citations_analogs\",\"citations_analogs\",\"citations_analogs\",\"citations_analogs\",\"citations_analogs\",\"citations_analogs\",\"citations_analogs\",\"citations_analogs\",\"citations_analogs\",\"citations_analogs\",\"citations_analogs\",\"citations_analogs\",\"citations_analogs\",\"citations_analogs\",\"citations_analogs\",\"citations_analogs\",\"citations_analogs\",\"citations_analogs\",\"citations_analogs\",\"citations_analogs\",\"citations_analogs\",\"citations_analogs\",\"citations_analogs\",\"citations_analogs\",\"citations_analogs\",\"citations_analogs\",\"citations_analogs\",\"citations_analogs\",\"citations_analogs\",\"citations_analogs\",\"citations_analogs\",\"citations_analogs\",\"citations_analogs\",\"citations_analogs\",\"citations_analogs\",\"citations_analogs\",\"citations_analogs\",\"citations_analogs\",\"citations_analogs\",\"citations_analogs\",\"citations_analogs\",\"citations_analogs\",\"citations_analogs\",\"citations_analogs\",\"citations_analogs\",\"citations_analogs\",\"citations_analogs\",\"citations_analogs\",\"citations_analogs\",\"citations_analogs\",\"citations_analogs\",\"citations_analogs\",\"citations_analogs\",\"citations_analogs\",\"citations_analogs\",\"citations_analogs\",\"citations_analogs\",\"citations_analogs\",\"citations_analogs\",\"citations_analogs\",\"citations_analogs\",\"citations_analogs\",\"citations_analogs\",\"citations_analogs\",\"citations_analogs\",\"citations_analogs\",\"citations_analogs\",\"citations_analogs\",\"citations_analogs\",\"citations_analogs\",\"citations_analogs\",\"citations_analogs\",\"citations_analogs\",\"citations_analogs\",\"citations_analogs\",\"citations_analogs\",\"citations_analogs\",\"citations_analogs\",\"citations_analogs\",\"citations_analogs\",\"citations_analogs\",\"citations_analogs\",\"citations_analogs\",\"citations_analogs\",\"citations_analogs\",\"citations_analogs\",\"citations_analogs\",\"citations_analogs\",\"citations_analogs\",\"citations_analogs\",\"citations_analogs\",\"citations_analogs\",\"citations_analogs\",\"citations_analogs\",\"citations_analogs\",\"citations_analogs\",\"citations_analogs\",\"citations_analogs\",\"citations_analogs\",\"citations_analogs\",\"citations_analogs\",\"citations_analogs\",\"citations_analogs\",\"citations_analogs\",\"citations_analogs\",\"citations_analogs\",\"citations_analogs\",\"citations_analogs\",\"citations_analogs\",\"citations_analogs\",\"citations_analogs\",\"citations_analogs\",\"citations_analogs\",\"citations_analogs\",\"citations_analogs\",\"citations_analogs\",\"citations_analogs\",\"citations_analogs\",\"citations_analogs\",\"citations_analogs\",\"citations_analogs\",\"citations_analogs\",\"citations_analogs\",\"citations_analogs\",\"citations_analogs\",\"citations_analogs\",\"document\",\"analogs\",\"citations\",\"citations\",\"citations\",\"citations\",\"citations\",\"citations\",\"citations\",\"citations\",\"citations\",\"citations\",\"citations\",\"citations_analogs\",\"citations_analogs\",\"document\",\"analogs\",\"citations\",\"citations\",\"citations\",\"citations\",\"citations\",\"citations\",\"citations\",\"citations\",\"citations\",\"citations\",\"citations\",\"citations\",\"citations\",\"citations\",\"citations\",\"citations\",\"citations\",\"citations_analogs\",\"citations_analogs\",\"citations_analogs\",\"citations_analogs\",\"citations_analogs\",\"citations_analogs\",\"citations_analogs\",\"citations_analogs\",\"citations_analogs\",\"citations_analogs\",\"document\",\"analogs\",\"analogs\",\"analogs\",\"analogs\",\"analogs\",\"analogs\",\"analogs\",\"analogs\",\"analogs\",\"citations\",\"citations\",\"citations\",\"citations_analogs\",\"citations_analogs\",\"citations_analogs\",\"document\",\"analogs\",\"citations\",\"citations\",\"citations\",\"citations\",\"citations\",\"citations\",\"citations\",\"citations\",\"citations\",\"citations\",\"citations\",\"citations\",\"citations\",\"citations\",\"citations\",\"citations\",\"citations\",\"citations\",\"citations\",\"citations\",\"citations\",\"citations\",\"citations\",\"citations\",\"citations\",\"citations_analogs\",\"citations_analogs\",\"citations_analogs\",\"citations_analogs\",\"citations_analogs\",\"citations_analogs\",\"citations_analogs\",\"citations_analogs\",\"citations_analogs\",\"citations_analogs\",\"citations_analogs\",\"citations_analogs\",\"citations_analogs\",\"citations_analogs\",\"citations_analogs\",\"citations_analogs\",\"citations_analogs\",\"citations_analogs\",\"citations_analogs\",\"citations_analogs\",\"citations_analogs\",\"citations_analogs\",\"citations_analogs\",\"citations_analogs\",\"document\",\"analogs\",\"analogs\",\"analogs\",\"analogs\",\"citations\",\"citations\",\"citations\",\"citations\",\"citations_analogs\",\"citations_analogs\",\"citations_analogs\",\"citations_analogs\",\"citations_analogs\",\"citations_analogs\",\"citations_analogs\",\"citations_analogs\",\"citations_analogs\",\"citations_analogs\",\"citations_analogs\",\"document\",\"analogs\",\"citations\",\"citations\",\"document\",\"analogs\",\"analogs\",\"analogs\",\"analogs\",\"analogs\",\"analogs\",\"citations\",\"citations\",\"citations\",\"citations\",\"citations\",\"citations\",\"citations\",\"citations\",\"citations\",\"citations\",\"citations\",\"citations\",\"citations\",\"citations\",\"citations\",\"citations\",\"citations\",\"citations\",\"citations\",\"citations\",\"citations\",\"citations\",\"citations\",\"citations\",\"citations\",\"citations\",\"citations\",\"citations\",\"citations\",\"citations\",\"citations\",\"citations\",\"citations\",\"citations\",\"citations\",\"citations\",\"citations\",\"citations\",\"citations\",\"citations\",\"citations\",\"citations\",\"citations\",\"citations\",\"citations\",\"citations\",\"citations\",\"citations\",\"citations\",\"citations\",\"citations\",\"citations\",\"citations_analogs\",\"citations_analogs\",\"citations_analogs\",\"citations_analogs\",\"citations_analogs\",\"citations_analogs\",\"citations_analogs\",\"citations_analogs\",\"citations_analogs\",\"citations_analogs\",\"document\",\"analogs\",\"analogs\",\"analogs\",\"analogs\",\"analogs\",\"analogs\",\"analogs\",\"analogs\",\"analogs\",\"analogs\",\"analogs\",\"analogs\",\"analogs\",\"analogs\",\"analogs\",\"analogs\",\"analogs\",\"analogs\",\"analogs\",\"analogs\",\"analogs\",\"analogs\",\"analogs\",\"analogs\",\"analogs\",\"analogs\",\"analogs\",\"analogs\",\"analogs\",\"analogs\",\"analogs\",\"analogs\",\"analogs\",\"citations\",\"citations\",\"citations\",\"citations\",\"citations\",\"citations\",\"citations\",\"citations\",\"citations\",\"citations\",\"citations\",\"citations\",\"citations\",\"citations_analogs\",\"citations_analogs\",\"document\",\"analogs\",\"analogs\",\"analogs\",\"analogs\",\"analogs\",\"analogs\",\"analogs\",\"citations\",\"citations\",\"citations\",\"citations\",\"citations\",\"citations\",\"citations\",\"citations\",\"citations\",\"citations\",\"citations\",\"citations\",\"citations\",\"citations\",\"citations\",\"citations\",\"citations\",\"citations\",\"citations\",\"citations\",\"citations\",\"citations\",\"citations\",\"citations\",\"citations\",\"citations\",\"citations\",\"citations\",\"citations\",\"citations\",\"citations\",\"citations\",\"citations\",\"citations\",\"citations\",\"citations\",\"citations\",\"citations\",\"citations\",\"citations\",\"citations\",\"citations\",\"citations\",\"citations\",\"citations\",\"citations\",\"citations\",\"citations\",\"citations\",\"citations\",\"citations\",\"citations\",\"citations\",\"citations\",\"citations\",\"citations\",\"citations\",\"citations\",\"citations\",\"citations\",\"citations\",\"citations\",\"citations\",\"citations\",\"citations\",\"citations\",\"citations_analogs\",\"citations_analogs\",\"citations_analogs\",\"citations_analogs\",\"citations_analogs\",\"citations_analogs\",\"citations_analogs\",\"citations_analogs\",\"citations_analogs\",\"citations_analogs\",\"citations_analogs\",\"citations_analogs\",\"citations_analogs\",\"citations_analogs\",\"citations_analogs\",\"citations_analogs\",\"citations_analogs\",\"citations_analogs\",\"citations_analogs\",\"citations_analogs\",\"citations_analogs\",\"citations_analogs\",\"citations_analogs\",\"citations_analogs\",\"citations_analogs\",\"citations_analogs\",\"citations_analogs\",\"citations_analogs\",\"citations_analogs\",\"citations_analogs\",\"citations_analogs\",\"citations_analogs\",\"citations_analogs\",\"citations_analogs\",\"citations_analogs\",\"citations_analogs\",\"citations_analogs\",\"citations_analogs\",\"citations_analogs\",\"citations_analogs\",\"citations_analogs\",\"citations_analogs\",\"citations_analogs\",\"citations_analogs\",\"citations_analogs\",\"citations_analogs\",\"citations_analogs\",\"citations_analogs\",\"citations_analogs\",\"citations_analogs\",\"citations_analogs\"],\"shape\":[740],\"dtype\":\"object\",\"order\":\"little\"}],[\"color\",{\"type\":\"ndarray\",\"array\":[\"red\",\"red\",\"red\",\"red\",\"red\",\"red\",\"red\",\"red\",\"red\",\"blue\",\"blue\",\"blue\",\"blue\",\"blue\",\"blue\",\"blue\",\"blue\",\"blue\",\"blue\",\"blue\",\"blue\",\"blue\",\"blue\",\"blue\",\"blue\",\"blue\",\"blue\",\"yellow\",\"yellow\",\"yellow\",\"yellow\",\"yellow\",\"yellow\",\"yellow\",\"green\",\"green\",\"green\",\"green\",\"purple\",\"purple\",\"purple\",\"purple\",\"purple\",\"purple\",\"purple\",\"purple\",\"purple\",\"purple\",\"purple\",\"purple\",\"purple\",\"purple\",\"purple\",\"purple\",\"purple\",\"purple\",\"purple\",\"purple\",\"purple\",\"purple\",\"purple\",\"purple\",\"purple\",\"purple\",\"purple\",\"purple\",\"purple\",\"purple\",\"purple\",\"purple\",\"purple\",\"purple\",\"purple\",\"purple\",\"purple\",\"purple\",\"purple\",\"purple\",\"purple\",\"purple\",\"purple\",\"purple\",\"purple\",\"purple\",\"purple\",\"purple\",\"purple\",\"purple\",\"purple\",\"purple\",\"purple\",\"purple\",\"purple\",\"purple\",\"purple\",\"purple\",\"purple\",\"purple\",\"purple\",\"purple\",\"purple\",\"purple\",\"purple\",\"purple\",\"purple\",\"purple\",\"purple\",\"purple\",\"purple\",\"purple\",\"purple\",\"purple\",\"purple\",\"purple\",\"purple\",\"purple\",\"purple\",\"purple\",\"purple\",\"purple\",\"purple\",\"purple\",\"purple\",\"purple\",\"purple\",\"purple\",\"purple\",\"purple\",\"purple\",\"purple\",\"purple\",\"purple\",\"purple\",\"purple\",\"purple\",\"purple\",\"purple\",\"purple\",\"purple\",\"purple\",\"purple\",\"purple\",\"purple\",\"purple\",\"purple\",\"purple\",\"purple\",\"purple\",\"purple\",\"purple\",\"purple\",\"purple\",\"purple\",\"purple\",\"purple\",\"purple\",\"purple\",\"purple\",\"purple\",\"purple\",\"purple\",\"purple\",\"purple\",\"purple\",\"purple\",\"purple\",\"purple\",\"purple\",\"purple\",\"purple\",\"purple\",\"purple\",\"purple\",\"purple\",\"purple\",\"purple\",\"purple\",\"purple\",\"purple\",\"purple\",\"purple\",\"purple\",\"purple\",\"purple\",\"purple\",\"purple\",\"purple\",\"purple\",\"purple\",\"purple\",\"purple\",\"purple\",\"purple\",\"purple\",\"purple\",\"purple\",\"purple\",\"purple\",\"purple\",\"purple\",\"purple\",\"purple\",\"purple\",\"purple\",\"purple\",\"purple\",\"purple\",\"purple\",\"purple\",\"purple\",\"purple\",\"purple\",\"purple\",\"purple\",\"purple\",\"purple\",\"purple\",\"purple\",\"purple\",\"purple\",\"purple\",\"purple\",\"purple\",\"purple\",\"purple\",\"purple\",\"purple\",\"purple\",\"purple\",\"purple\",\"purple\",\"purple\",\"purple\",\"purple\",\"purple\",\"purple\",\"purple\",\"purple\",\"purple\",\"purple\",\"purple\",\"purple\",\"purple\",\"purple\",\"purple\",\"purple\",\"purple\",\"purple\",\"purple\",\"purple\",\"purple\",\"purple\",\"purple\",\"purple\",\"purple\",\"purple\",\"purple\",\"purple\",\"purple\",\"purple\",\"purple\",\"purple\",\"purple\",\"purple\",\"purple\",\"purple\",\"purple\",\"purple\",\"purple\",\"purple\",\"purple\",\"purple\",\"purple\",\"purple\",\"purple\",\"purple\",\"purple\",\"purple\",\"purple\",\"purple\",\"purple\",\"purple\",\"purple\",\"purple\",\"purple\",\"purple\",\"purple\",\"purple\",\"purple\",\"purple\",\"purple\",\"purple\",\"purple\",\"purple\",\"purple\",\"purple\",\"purple\",\"purple\",\"purple\",\"purple\",\"purple\",\"purple\",\"purple\",\"purple\",\"purple\",\"purple\",\"purple\",\"purple\",\"purple\",\"purple\",\"purple\",\"purple\",\"purple\",\"purple\",\"purple\",\"purple\",\"purple\",\"purple\",\"purple\",\"purple\",\"purple\",\"purple\",\"purple\",\"purple\",\"purple\",\"purple\",\"purple\",\"purple\",\"purple\",\"purple\",\"purple\",\"purple\",\"purple\",\"purple\",\"purple\",\"purple\",\"purple\",\"purple\",\"purple\",\"purple\",\"purple\",\"purple\",\"purple\",\"purple\",\"purple\",\"purple\",\"purple\",\"purple\",\"purple\",\"purple\",\"purple\",\"purple\",\"purple\",\"purple\",\"purple\",\"purple\",\"purple\",\"purple\",\"purple\",\"purple\",\"purple\",\"purple\",\"orange\",\"orange\",\"orange\",\"orange\",\"orange\",\"orange\",\"orange\",\"orange\",\"orange\",\"orange\",\"orange\",\"orange\",\"orange\",\"orange\",\"orange\",\"cyan\",\"cyan\",\"cyan\",\"cyan\",\"cyan\",\"cyan\",\"cyan\",\"cyan\",\"cyan\",\"cyan\",\"cyan\",\"cyan\",\"cyan\",\"cyan\",\"cyan\",\"cyan\",\"cyan\",\"cyan\",\"cyan\",\"cyan\",\"cyan\",\"cyan\",\"cyan\",\"cyan\",\"cyan\",\"cyan\",\"cyan\",\"cyan\",\"cyan\",\"magenta\",\"magenta\",\"magenta\",\"magenta\",\"magenta\",\"magenta\",\"magenta\",\"magenta\",\"magenta\",\"magenta\",\"magenta\",\"magenta\",\"magenta\",\"magenta\",\"magenta\",\"magenta\",\"lime\",\"lime\",\"lime\",\"lime\",\"lime\",\"lime\",\"lime\",\"lime\",\"lime\",\"lime\",\"lime\",\"lime\",\"lime\",\"lime\",\"lime\",\"lime\",\"lime\",\"lime\",\"lime\",\"lime\",\"lime\",\"lime\",\"lime\",\"lime\",\"lime\",\"lime\",\"lime\",\"lime\",\"lime\",\"lime\",\"lime\",\"lime\",\"lime\",\"lime\",\"lime\",\"lime\",\"lime\",\"lime\",\"lime\",\"lime\",\"lime\",\"lime\",\"lime\",\"lime\",\"lime\",\"lime\",\"lime\",\"lime\",\"lime\",\"lime\",\"lime\",\"teal\",\"teal\",\"teal\",\"teal\",\"teal\",\"teal\",\"teal\",\"teal\",\"teal\",\"teal\",\"teal\",\"teal\",\"teal\",\"teal\",\"teal\",\"teal\",\"teal\",\"teal\",\"teal\",\"teal\",\"maroon\",\"maroon\",\"maroon\",\"maroon\",\"navy\",\"navy\",\"navy\",\"navy\",\"navy\",\"navy\",\"navy\",\"navy\",\"navy\",\"navy\",\"navy\",\"navy\",\"navy\",\"navy\",\"navy\",\"navy\",\"navy\",\"navy\",\"navy\",\"navy\",\"navy\",\"navy\",\"navy\",\"navy\",\"navy\",\"navy\",\"navy\",\"navy\",\"navy\",\"navy\",\"navy\",\"navy\",\"navy\",\"navy\",\"navy\",\"navy\",\"navy\",\"navy\",\"navy\",\"navy\",\"navy\",\"navy\",\"navy\",\"navy\",\"navy\",\"navy\",\"navy\",\"navy\",\"navy\",\"navy\",\"navy\",\"navy\",\"navy\",\"navy\",\"navy\",\"navy\",\"navy\",\"navy\",\"navy\",\"navy\",\"navy\",\"navy\",\"navy\",\"navy\",\"navy\",\"navy\",\"navy\",\"navy\",\"navy\",\"gold\",\"gold\",\"gold\",\"gold\",\"gold\",\"gold\",\"gold\",\"gold\",\"gold\",\"gold\",\"gold\",\"gold\",\"gold\",\"gold\",\"gold\",\"gold\",\"gold\",\"gold\",\"gold\",\"gold\",\"gold\",\"gold\",\"gold\",\"gold\",\"gold\",\"gold\",\"gold\",\"gold\",\"gold\",\"gold\",\"gold\",\"gold\",\"gold\",\"gold\",\"gold\",\"gold\",\"gold\",\"gold\",\"gold\",\"gold\",\"gold\",\"gold\",\"gold\",\"gold\",\"gold\",\"gold\",\"gold\",\"gold\",\"gold\",\"gray\",\"gray\",\"gray\",\"gray\",\"gray\",\"gray\",\"gray\",\"gray\",\"gray\",\"gray\",\"gray\",\"gray\",\"gray\",\"gray\",\"gray\",\"gray\",\"gray\",\"gray\",\"gray\",\"gray\",\"gray\",\"gray\",\"gray\",\"gray\",\"gray\",\"gray\",\"gray\",\"gray\",\"gray\",\"gray\",\"gray\",\"gray\",\"gray\",\"gray\",\"gray\",\"gray\",\"gray\",\"gray\",\"gray\",\"gray\",\"gray\",\"gray\",\"gray\",\"gray\",\"gray\",\"gray\",\"gray\",\"gray\",\"gray\",\"gray\",\"gray\",\"gray\",\"gray\",\"gray\",\"gray\",\"gray\",\"gray\",\"gray\",\"gray\",\"gray\",\"gray\",\"gray\",\"gray\",\"gray\",\"gray\",\"gray\",\"gray\",\"gray\",\"gray\",\"gray\",\"gray\",\"gray\",\"gray\",\"gray\",\"gray\",\"gray\",\"gray\",\"gray\",\"gray\",\"gray\",\"gray\",\"gray\",\"gray\",\"gray\",\"gray\",\"gray\",\"gray\",\"gray\",\"gray\",\"gray\",\"gray\",\"gray\",\"gray\",\"gray\",\"gray\",\"gray\",\"gray\",\"gray\",\"gray\",\"gray\",\"gray\",\"gray\",\"gray\",\"gray\",\"gray\",\"gray\",\"gray\",\"gray\",\"gray\",\"gray\",\"gray\",\"gray\",\"gray\",\"gray\",\"gray\",\"gray\",\"gray\",\"gray\",\"gray\",\"gray\",\"gray\",\"gray\",\"gray\",\"gray\",\"gray\"],\"shape\":[740],\"dtype\":\"object\",\"order\":\"little\"}]]}}}],[\"parent_source\",{\"type\":\"object\",\"name\":\"ColumnDataSource\",\"id\":\"p2865\",\"attributes\":{\"selected\":{\"type\":\"object\",\"name\":\"Selection\",\"id\":\"p2866\",\"attributes\":{\"indices\":[],\"line_indices\":[]}},\"selection_policy\":{\"type\":\"object\",\"name\":\"UnionRenderers\",\"id\":\"p2867\"},\"data\":{\"type\":\"map\",\"entries\":[[\"x\",[]],[\"y\",[]],[\"id\",[]],[\"radius\",[]],[\"relation\",[]],[\"color\",[]]]}}}],[\"threshold\",1.0]]},\"code\":\"\\n        // 'cb_obj' is the event with the mouse coordinates (in data space)\\n        const x_mouse = cb_obj.x;\\n        const y_mouse = cb_obj.y;\\n        const data = source.data;\\n        let min_dist = Infinity;\\n        let hovered_index = null;\\n        // Loop through each child point to find the closest one (using a threshold)\\n        for (let i = 0; i < data['x'].length; i++) {\\n            const dx = data['x'][i] - x_mouse;\\n            const dy = data['y'][i] - y_mouse;\\n            const dist = Math.sqrt(dx*dx + dy*dy);\\n            if (dist < min_dist && dist < threshold) {  // threshold may need adjustment\\n                min_dist = dist;\\n                hovered_index = i;\\n            }\\n        }\\n        if (hovered_index != null && data['relation'][hovered_index] != \\\"document\\\") {\\n            // Set the parental dot to the coordinates stored in the data\\n            parent_source.data['x'] = [data['parent_x'][hovered_index]];\\n            parent_source.data['y'] = [data['parent_y'][hovered_index]];\\n            parent_source.data['color'] = [data['color'][hovered_index]];\\n            parent_source.data['radius'] = [data['radius'][hovered_index]*3];\\n            parent_source.data['id'] = [data['id'][hovered_index]];\\n            parent_source.data['relation'] = [\\\"document\\\"];\\n        } else {\\n            // Clear the parental dot if no child point is close enough\\n            parent_source.data['x'] = [];\\n            parent_source.data['y'] = [];\\n            parent_source.data['color'] = [];\\n            parent_source.data['id'] = [];\\n            parent_source.data['radius'] = [];\\n        }\\n        parent_source.change.emit();\\n    \"}}]]]},\"width\":800,\"height\":500,\"x_range\":{\"type\":\"object\",\"name\":\"DataRange1d\",\"id\":\"p2829\"},\"y_range\":{\"type\":\"object\",\"name\":\"DataRange1d\",\"id\":\"p2830\"},\"x_scale\":{\"type\":\"object\",\"name\":\"LinearScale\",\"id\":\"p2837\"},\"y_scale\":{\"type\":\"object\",\"name\":\"LinearScale\",\"id\":\"p2838\"},\"title\":{\"type\":\"object\",\"name\":\"Title\",\"id\":\"p2835\",\"attributes\":{\"text\":\"description embeddings, reduced to 2D with tSNE, metric: cityblock\",\"align\":\"center\"}},\"renderers\":[{\"type\":\"object\",\"name\":\"GlyphRenderer\",\"id\":\"p2874\",\"attributes\":{\"data_source\":{\"id\":\"p2865\"},\"view\":{\"type\":\"object\",\"name\":\"CDSView\",\"id\":\"p2875\",\"attributes\":{\"filter\":{\"type\":\"object\",\"name\":\"AllIndices\",\"id\":\"p2876\"}}},\"glyph\":{\"type\":\"object\",\"name\":\"Circle\",\"id\":\"p2871\",\"attributes\":{\"x\":{\"type\":\"field\",\"field\":\"x\"},\"y\":{\"type\":\"field\",\"field\":\"y\"},\"radius\":{\"type\":\"field\",\"field\":\"radius\"},\"line_width\":{\"type\":\"value\",\"value\":4},\"fill_color\":{\"type\":\"field\",\"field\":\"color\"}}},\"nonselection_glyph\":{\"type\":\"object\",\"name\":\"Circle\",\"id\":\"p2872\",\"attributes\":{\"x\":{\"type\":\"field\",\"field\":\"x\"},\"y\":{\"type\":\"field\",\"field\":\"y\"},\"radius\":{\"type\":\"field\",\"field\":\"radius\"},\"line_alpha\":{\"type\":\"value\",\"value\":0.1},\"line_width\":{\"type\":\"value\",\"value\":4},\"fill_color\":{\"type\":\"field\",\"field\":\"color\"},\"fill_alpha\":{\"type\":\"value\",\"value\":0.1},\"hatch_alpha\":{\"type\":\"value\",\"value\":0.1}}},\"muted_glyph\":{\"type\":\"object\",\"name\":\"Circle\",\"id\":\"p2873\",\"attributes\":{\"x\":{\"type\":\"field\",\"field\":\"x\"},\"y\":{\"type\":\"field\",\"field\":\"y\"},\"radius\":{\"type\":\"field\",\"field\":\"radius\"},\"line_alpha\":{\"type\":\"value\",\"value\":0.2},\"line_width\":{\"type\":\"value\",\"value\":4},\"fill_color\":{\"type\":\"field\",\"field\":\"color\"},\"fill_alpha\":{\"type\":\"value\",\"value\":0.2},\"hatch_alpha\":{\"type\":\"value\",\"value\":0.2}}}}},{\"type\":\"object\",\"name\":\"GlyphRenderer\",\"id\":\"p2883\",\"attributes\":{\"data_source\":{\"id\":\"p2862\"},\"view\":{\"type\":\"object\",\"name\":\"CDSView\",\"id\":\"p2884\",\"attributes\":{\"filter\":{\"type\":\"object\",\"name\":\"AllIndices\",\"id\":\"p2885\"}}},\"glyph\":{\"type\":\"object\",\"name\":\"Circle\",\"id\":\"p2880\",\"attributes\":{\"x\":{\"type\":\"field\",\"field\":\"x\"},\"y\":{\"type\":\"field\",\"field\":\"y\"},\"radius\":{\"type\":\"field\",\"field\":\"radius\"},\"line_color\":{\"type\":\"field\",\"field\":\"color\"},\"fill_color\":{\"type\":\"field\",\"field\":\"color\"},\"hatch_color\":{\"type\":\"field\",\"field\":\"color\"}}},\"nonselection_glyph\":{\"type\":\"object\",\"name\":\"Circle\",\"id\":\"p2881\",\"attributes\":{\"x\":{\"type\":\"field\",\"field\":\"x\"},\"y\":{\"type\":\"field\",\"field\":\"y\"},\"radius\":{\"type\":\"field\",\"field\":\"radius\"},\"line_color\":{\"type\":\"field\",\"field\":\"color\"},\"line_alpha\":{\"type\":\"value\",\"value\":0.1},\"fill_color\":{\"type\":\"field\",\"field\":\"color\"},\"fill_alpha\":{\"type\":\"value\",\"value\":0.1},\"hatch_color\":{\"type\":\"field\",\"field\":\"color\"},\"hatch_alpha\":{\"type\":\"value\",\"value\":0.1}}},\"muted_glyph\":{\"type\":\"object\",\"name\":\"Circle\",\"id\":\"p2882\",\"attributes\":{\"x\":{\"type\":\"field\",\"field\":\"x\"},\"y\":{\"type\":\"field\",\"field\":\"y\"},\"radius\":{\"type\":\"field\",\"field\":\"radius\"},\"line_color\":{\"type\":\"field\",\"field\":\"color\"},\"line_alpha\":{\"type\":\"value\",\"value\":0.2},\"fill_color\":{\"type\":\"field\",\"field\":\"color\"},\"fill_alpha\":{\"type\":\"value\",\"value\":0.2},\"hatch_color\":{\"type\":\"field\",\"field\":\"color\"},\"hatch_alpha\":{\"type\":\"value\",\"value\":0.2}}}}}],\"toolbar\":{\"type\":\"object\",\"name\":\"Toolbar\",\"id\":\"p2836\",\"attributes\":{\"tools\":[{\"type\":\"object\",\"name\":\"PanTool\",\"id\":\"p2849\"},{\"type\":\"object\",\"name\":\"WheelZoomTool\",\"id\":\"p2850\",\"attributes\":{\"renderers\":\"auto\"}},{\"type\":\"object\",\"name\":\"BoxZoomTool\",\"id\":\"p2851\",\"attributes\":{\"overlay\":{\"type\":\"object\",\"name\":\"BoxAnnotation\",\"id\":\"p2852\",\"attributes\":{\"syncable\":false,\"line_color\":\"black\",\"line_alpha\":1.0,\"line_width\":2,\"line_dash\":[4,4],\"fill_color\":\"lightgrey\",\"fill_alpha\":0.5,\"level\":\"overlay\",\"visible\":false,\"left\":{\"type\":\"number\",\"value\":\"nan\"},\"right\":{\"type\":\"number\",\"value\":\"nan\"},\"top\":{\"type\":\"number\",\"value\":\"nan\"},\"bottom\":{\"type\":\"number\",\"value\":\"nan\"},\"left_units\":\"canvas\",\"right_units\":\"canvas\",\"top_units\":\"canvas\",\"bottom_units\":\"canvas\",\"handles\":{\"type\":\"object\",\"name\":\"BoxInteractionHandles\",\"id\":\"p2858\",\"attributes\":{\"all\":{\"type\":\"object\",\"name\":\"AreaVisuals\",\"id\":\"p2857\",\"attributes\":{\"fill_color\":\"white\",\"hover_fill_color\":\"lightgray\"}}}}}}}},{\"type\":\"object\",\"name\":\"SaveTool\",\"id\":\"p2859\"},{\"type\":\"object\",\"name\":\"ResetTool\",\"id\":\"p2860\"},{\"type\":\"object\",\"name\":\"HelpTool\",\"id\":\"p2861\"},{\"type\":\"object\",\"name\":\"HoverTool\",\"id\":\"p2886\",\"attributes\":{\"renderers\":[{\"id\":\"p2883\"}],\"tooltips\":[[\"doc_type\",\"@relation\"],[\"id\",\"@id\"],[\"parent\",\"@parent\"]]}}],\"active_scroll\":{\"id\":\"p2850\"}}},\"left\":[{\"type\":\"object\",\"name\":\"LinearAxis\",\"id\":\"p2844\",\"attributes\":{\"ticker\":{\"type\":\"object\",\"name\":\"BasicTicker\",\"id\":\"p2845\",\"attributes\":{\"mantissas\":[1,2,5]}},\"formatter\":{\"type\":\"object\",\"name\":\"BasicTickFormatter\",\"id\":\"p2846\"},\"major_label_policy\":{\"type\":\"object\",\"name\":\"AllLabels\",\"id\":\"p2847\"}}}],\"below\":[{\"type\":\"object\",\"name\":\"LinearAxis\",\"id\":\"p2839\",\"attributes\":{\"ticker\":{\"type\":\"object\",\"name\":\"BasicTicker\",\"id\":\"p2840\",\"attributes\":{\"mantissas\":[1,2,5]}},\"formatter\":{\"type\":\"object\",\"name\":\"BasicTickFormatter\",\"id\":\"p2841\"},\"major_label_policy\":{\"type\":\"object\",\"name\":\"AllLabels\",\"id\":\"p2842\"}}}],\"center\":[{\"type\":\"object\",\"name\":\"Grid\",\"id\":\"p2843\",\"attributes\":{\"axis\":{\"id\":\"p2839\"}}},{\"type\":\"object\",\"name\":\"Grid\",\"id\":\"p2848\",\"attributes\":{\"dimension\":1,\"axis\":{\"id\":\"p2844\"}}}]}}]}};\n  const render_items = [{\"docid\":\"dd642933-ed86-4c8f-93f2-fb1459873674\",\"roots\":{\"p2828\":\"d7bb2571-f3a0-4ad1-bc99-d0a0247c689c\"},\"root_ids\":[\"p2828\"]}];\n  void root.Bokeh.embed.embed_items_notebook(docs_json, render_items);\n  }\n  if (root.Bokeh !== undefined) {\n    embed_document(root);\n  } else {\n    let attempts = 0;\n    const timer = setInterval(function(root) {\n      if (root.Bokeh !== undefined) {\n        clearInterval(timer);\n        embed_document(root);\n      } else {\n        attempts++;\n        if (attempts > 100) {\n          clearInterval(timer);\n          console.log(\"Bokeh: ERROR: Unable to run BokehJS code because BokehJS library is missing\");\n        }\n      }\n    }, 10, root)\n  }\n})(window);",
      "application/vnd.bokehjs_exec.v0+json": ""
     },
     "metadata": {
      "application/vnd.bokehjs_exec.v0+json": {
       "id": "p2828"
      }
     },
     "output_type": "display_data"
    },
    {
     "name": "stderr",
     "output_type": "stream",
     "text": [
      "C:\\Users\\Roman\\AppData\\Local\\Temp\\ipykernel_29752\\4221306316.py:4: UserWarning: save() called but no resources were supplied and output_file(...) was never called, defaulting to resources.CDN\n",
      "  pl.save(f, filename=res_path / f\"{task}_{metric}.html\")\n",
      "C:\\Users\\Roman\\AppData\\Local\\Temp\\ipykernel_29752\\4221306316.py:4: UserWarning: save() called but no title was supplied and output_file(...) was never called, using default title 'Bokeh Plot'\n",
      "  pl.save(f, filename=res_path / f\"{task}_{metric}.html\")\n"
     ]
    },
    {
     "data": {
      "text/plain": [
       "'c:\\\\prog\\\\py\\\\fips\\\\tve\\\\data\\\\data\\\\EMB\\\\description_cityblock.png'"
      ]
     },
     "execution_count": 63,
     "metadata": {},
     "output_type": "execute_result"
    }
   ],
   "source": [
    "rad = 0.5\n",
    "draw_vectors(embeddings[:, 0], embeddings[:, 1], master_df[\"color\"], radius=rad, width=800, height=500, line_width=4, show=True)\n",
    "f = draw_vectors(embeddings[:, 0], embeddings[:, 1], master_df[\"color\"], radius=rad, width=1500, height=1000, line_width=4, show=False)\n",
    "pl.save(f, filename=res_path / f\"{task}_{metric}.html\")\n",
    "\n",
    "\n",
    "f = draw_vectors(embeddings[:, 0], embeddings[:, 1], master_df[\"color\"], radius=rad, width=1500, height=1000, line_width=4, show=False, dynamic=False)\n",
    "bokeh.io.export_png(f, filename=res_path / f\"{task}_{metric}.png\")\n",
    "# bokeh.io.export_png(f, filename=\"data/tsne.png\")\n",
    "# bokeh.io.__dict__.keys()"
   ]
  },
  {
   "cell_type": "code",
   "execution_count": 64,
   "metadata": {},
   "outputs": [
    {
     "name": "stdout",
     "output_type": "stream",
     "text": [
      "['id' 'relation' 'parent' 'score' 'candidate']\n"
     ]
    },
    {
     "data": {
      "text/html": [
       "<div>\n",
       "<style scoped>\n",
       "    .dataframe tbody tr th:only-of-type {\n",
       "        vertical-align: middle;\n",
       "    }\n",
       "\n",
       "    .dataframe tbody tr th {\n",
       "        vertical-align: top;\n",
       "    }\n",
       "\n",
       "    .dataframe thead th {\n",
       "        text-align: right;\n",
       "    }\n",
       "</style>\n",
       "<table border=\"1\" class=\"dataframe\">\n",
       "  <thead>\n",
       "    <tr style=\"text-align: right;\">\n",
       "      <th></th>\n",
       "      <th>id</th>\n",
       "      <th>relation</th>\n",
       "      <th>parent</th>\n",
       "      <th>score</th>\n",
       "      <th>candidate</th>\n",
       "    </tr>\n",
       "  </thead>\n",
       "  <tbody>\n",
       "    <tr>\n",
       "      <th>0</th>\n",
       "      <td>US7778783B2_20100817</td>\n",
       "      <td>document</td>\n",
       "      <td>US7778783B2_20100817</td>\n",
       "      <td>0.00000</td>\n",
       "      <td>True</td>\n",
       "    </tr>\n",
       "    <tr>\n",
       "      <th>1</th>\n",
       "      <td>US7152002B2_20061219</td>\n",
       "      <td>analogs</td>\n",
       "      <td>US7778783B2_20100817</td>\n",
       "      <td>0.00004</td>\n",
       "      <td>True</td>\n",
       "    </tr>\n",
       "    <tr>\n",
       "      <th>2</th>\n",
       "      <td>US7193711B2_20070320</td>\n",
       "      <td></td>\n",
       "      <td></td>\n",
       "      <td>4.36233</td>\n",
       "      <td>False</td>\n",
       "    </tr>\n",
       "    <tr>\n",
       "      <th>3</th>\n",
       "      <td>US8706180B2_20140422</td>\n",
       "      <td></td>\n",
       "      <td></td>\n",
       "      <td>6.18121</td>\n",
       "      <td>False</td>\n",
       "    </tr>\n",
       "    <tr>\n",
       "      <th>4</th>\n",
       "      <td>US8463351B2_20130611</td>\n",
       "      <td></td>\n",
       "      <td></td>\n",
       "      <td>6.18121</td>\n",
       "      <td>False</td>\n",
       "    </tr>\n",
       "  </tbody>\n",
       "</table>\n",
       "</div>"
      ],
      "text/plain": [
       "                     id  relation                parent    score candidate\n",
       "0  US7778783B2_20100817  document  US7778783B2_20100817  0.00000      True\n",
       "1  US7152002B2_20061219   analogs  US7778783B2_20100817  0.00004      True\n",
       "2  US7193711B2_20070320                                  4.36233     False\n",
       "3  US8706180B2_20140422                                  6.18121     False\n",
       "4  US8463351B2_20130611                                  6.18121     False"
      ]
     },
     "execution_count": 64,
     "metadata": {},
     "output_type": "execute_result"
    }
   ],
   "source": [
    "info_df = pd.DataFrame(columns=['id', 'relation', 'parent', 'score', 'candidate'])\n",
    "print(info_df.columns.values)\n",
    "parent_df = master_df[master_df[\"relation\"] == \"document\"]\n",
    "n_results = 20\n",
    "\n",
    "for n, parent_d in parent_df.iterrows():\n",
    "    # res = db[task].query(parent_d[\"embedding\"], n_results=n_results)\n",
    "    res = query_similar(parent_d[\"embedding\"], master_df, dist_func=dist_func, n_results=n_results)\n",
    "    for doc_id, score in zip(map(id_norm, res[\"ids\"]), res[\"distances\"]):\n",
    "        # print(doc_id, score)\n",
    "        child_d = master_df[master_df[\"id\"] == doc_id]\n",
    "        if len(child_d) == 0:\n",
    "            continue\n",
    "        else:\n",
    "            child_d = child_d.iloc[0]\n",
    "        if child_d[\"parent\"] == parent_d[\"id\"]:\n",
    "            rel = child_d[\"relation\"]\n",
    "            parent = child_d[\"parent\"]\n",
    "            candidate = True\n",
    "        else:\n",
    "            parent = \"\"\n",
    "            rel = \"\"\n",
    "            candidate = False\n",
    "        info_df.loc[len(info_df)] = [doc_id, rel, parent, score, candidate]\n",
    "    info_df.loc[len(info_df)] = [\"nan\"] * len(info_df.columns)\n",
    "info_df[\"score\"] = info_df[\"score\"].astype(float).round(5)\n",
    "# info_df\n",
    "# info_df[\"score\"] = info_df[\"score\"] * -1 + 1\n",
    "info_df.to_csv(f\"C:\\\\Users\\\\Roman\\\\Desktop\\\\{task}_{metric}.csv\", sep=\";\", decimal=\",\")\n",
    "# info_df[(info_df[\"candidate\"] == False) | (info_df[\"relation\"] == \"document\")]\n",
    "info_df.head()"
   ]
  },
  {
   "cell_type": "markdown",
   "metadata": {},
   "source": [
    "## Debug"
   ]
  },
  {
   "cell_type": "code",
   "execution_count": 67,
   "metadata": {},
   "outputs": [
    {
     "name": "stdout",
     "output_type": "stream",
     "text": [
      "US0007778783B2_20100817\n"
     ]
    }
   ],
   "source": [
    "doc_id = id_to_db_id[id_norm(\"US7778783B2_20100817\")]\n",
    "d = db[\"text\"].get(ids=[doc_id], include=[\"embeddings\"])\n",
    "emb = d[\"embeddings\"][0]\n",
    "print(doc_id)"
   ]
  },
  {
   "cell_type": "code",
   "execution_count": 75,
   "metadata": {},
   "outputs": [
    {
     "data": {
      "text/plain": [
       "{'ids': ['US7778783B2_20100817',\n",
       "  'US2007095157A1_20070503',\n",
       "  'CA2317738A1_19990617',\n",
       "  'US7152002B2_20061219',\n",
       "  'US2005004763A1_20050106',\n",
       "  'CA2413758A1_20020110',\n",
       "  'US10086342B2_20181002',\n",
       "  'US9458451B2_20161004',\n",
       "  'AU766378B2_20031016',\n",
       "  'US8260392B2_20120904'],\n",
       " 'distances': [0.9999999999999998,\n",
       "  0.9694400857199195,\n",
       "  0.7284975039670717,\n",
       "  0.7112778487290318,\n",
       "  0.6827014164261065,\n",
       "  0.6153781528889847,\n",
       "  0.6080877628973724,\n",
       "  0.6080877628973724,\n",
       "  0.6067414111298294,\n",
       "  0.6047783783934403]}"
      ]
     },
     "execution_count": 75,
     "metadata": {},
     "output_type": "execute_result"
    }
   ],
   "source": [
    "from operator import itemgetter\n",
    "a = cos_dist(np.array(emb), np.vstack(master_df[\"embedding\"]))\n",
    "most_sim = [sorted(enumerate(a.get()), reverse=True, key=itemgetter(1))]\n",
    "\n",
    "query_similar(emb, master_df)\n",
    "    # return [i[0] for i in most_sim[:n_results]]\n",
    "# master_df[master_df[\"id\"] == id_norm(doc_id)]\n",
    "# master_df.loc[1832]\n",
    "    "
   ]
  },
  {
   "cell_type": "code",
   "execution_count": 73,
   "metadata": {},
   "outputs": [
    {
     "data": {
      "text/plain": [
       "['US20070095157A1_20070503',\n",
       " 'US2007095157A1_20070503',\n",
       " 'US20030225531A1_20031204',\n",
       " 'US7152002B2_20061219']"
      ]
     },
     "execution_count": 73,
     "metadata": {},
     "output_type": "execute_result"
    }
   ],
   "source": [
    "list(master_df.loc[[1,2,3,4]][\"id\"])"
   ]
  },
  {
   "cell_type": "code",
   "execution_count": 77,
   "metadata": {},
   "outputs": [
    {
     "ename": "ValueError",
     "evalue": "operands could not be broadcast together with shapes (2, 2) (4, 2)",
     "output_type": "error",
     "traceback": [
      "\u001b[1;31m---------------------------------------------------------------------------\u001b[0m",
      "\u001b[1;31mValueError\u001b[0m                                Traceback (most recent call last)",
      "Cell \u001b[1;32mIn[77], line 3\u001b[0m\n\u001b[0;32m      1\u001b[0m a \u001b[38;5;241m=\u001b[39m np\u001b[38;5;241m.\u001b[39marray([[\u001b[38;5;241m1\u001b[39m,\u001b[38;5;241m2\u001b[39m], [\u001b[38;5;241m0\u001b[39m,\u001b[38;5;241m0\u001b[39m]])\n\u001b[0;32m      2\u001b[0m b \u001b[38;5;241m=\u001b[39m np\u001b[38;5;241m.\u001b[39marray([[\u001b[38;5;241m1\u001b[39m,\u001b[38;5;241m2\u001b[39m], [\u001b[38;5;241m0\u001b[39m,\u001b[38;5;241m0\u001b[39m],[\u001b[38;5;241m4\u001b[39m,\u001b[38;5;241m5\u001b[39m], [\u001b[38;5;241m6\u001b[39m,\u001b[38;5;241m7\u001b[39m]])\n\u001b[1;32m----> 3\u001b[0m \u001b[43ma\u001b[49m\u001b[43m \u001b[49m\u001b[38;5;241;43m-\u001b[39;49m\u001b[43m \u001b[49m\u001b[43mb\u001b[49m\n",
      "File \u001b[1;32mcupy\\_core\\core.pyx:1279\u001b[0m, in \u001b[0;36mcupy._core.core._ndarray_base.__sub__\u001b[1;34m()\u001b[0m\n",
      "File \u001b[1;32mcupy\\_core\\_kernel.pyx:1315\u001b[0m, in \u001b[0;36mcupy._core._kernel.ufunc.__call__\u001b[1;34m()\u001b[0m\n",
      "File \u001b[1;32mcupy\\_core\\internal.pyx:381\u001b[0m, in \u001b[0;36mcupy._core.internal._broadcast_core\u001b[1;34m()\u001b[0m\n",
      "\u001b[1;31mValueError\u001b[0m: operands could not be broadcast together with shapes (2, 2) (4, 2)"
     ]
    }
   ],
   "source": [
    "a = np.array([[1,2], [0,0]])\n",
    "b = np.array([[1,2], [0,0],[4,5], [6,7]])"
   ]
  },
  {
   "cell_type": "code",
   "execution_count": 81,
   "metadata": {},
   "outputs": [
    {
     "data": {
      "text/plain": [
       "array([-6.37576804e-02, -1.34848217e-02, -1.86995976e-02, -2.53216699e-02,\n",
       "       -1.14438701e-02, -5.25651965e-03, -2.14608181e-02, -4.04433720e-02,\n",
       "       -1.30426148e-02,  7.31209619e-03,  5.18239220e-04, -1.65248737e-02,\n",
       "       -1.37642780e-02, -5.87026821e-04, -1.20682837e-02, -1.62567627e-02,\n",
       "        2.50691921e-02,  1.27622131e-02, -5.78513779e-02,  5.52375317e-02,\n",
       "        5.50495163e-02, -9.18118097e-03,  1.08068166e-02,  9.46725905e-02,\n",
       "       -2.48028524e-03,  2.78391093e-02,  1.15477275e-02, -3.93828079e-02,\n",
       "       -3.27761024e-02, -1.23250037e-02, -1.42227691e-02,  2.61616707e-02,\n",
       "       -2.90740710e-02, -1.19950268e-02,  2.43369956e-02, -3.67871784e-02,\n",
       "       -1.67958327e-02, -1.09403278e-03, -4.81399428e-03, -6.66145189e-03,\n",
       "        1.78800728e-02,  1.10100247e-02, -2.81034559e-02,  1.96128190e-02,\n",
       "       -1.34123617e-03,  5.95514253e-02, -5.01423143e-02, -6.66220905e-03,\n",
       "       -5.86063787e-02,  1.65527165e-02,  5.40920254e-03, -3.42389718e-02,\n",
       "       -2.37151608e-02, -1.57811772e-02,  3.76561955e-02,  2.75578573e-02,\n",
       "       -1.91274043e-02,  2.09141187e-02, -1.27516896e-03, -4.46582166e-03,\n",
       "        1.37219578e-03,  5.45393080e-02,  2.56971158e-02, -4.38266667e-03,\n",
       "        1.34694159e-01, -2.81742611e-03, -2.67981775e-02,  3.02367080e-02,\n",
       "        1.50614856e-02,  2.89013963e-02, -3.92953940e-02, -2.44102292e-02,\n",
       "       -9.40562226e-03, -3.56761813e-02,  7.76337646e-03,  2.01804489e-02,\n",
       "       -1.80406403e-02, -3.52876522e-02,  4.19379696e-02, -1.44401873e-02,\n",
       "       -6.26901388e-02,  3.68018858e-02,  3.53026157e-03,  2.10699756e-04,\n",
       "       -1.39959576e-02,  1.76944057e-04, -2.28819828e-02, -3.57150659e-03,\n",
       "        1.47779286e-02,  2.17864825e-03, -2.21735463e-02, -2.13143023e-04,\n",
       "        9.71217733e-03,  1.62696221e-03, -1.75320618e-02, -9.71355941e-03,\n",
       "        3.47571708e-02, -6.37376234e-02, -2.40861494e-02,  3.85831259e-02,\n",
       "        1.60922911e-02, -2.74252743e-02,  1.45836510e-02,  9.12559777e-03,\n",
       "       -8.34344234e-03, -2.75048204e-02,  4.26551662e-02, -1.76043715e-02,\n",
       "       -1.95864146e-03, -3.09359748e-02, -3.11117135e-02, -3.74157354e-02,\n",
       "        7.69574242e-03, -2.20885761e-02,  2.05157753e-02,  9.73894913e-03,\n",
       "        1.93799250e-02, -6.86324248e-03, -1.02027152e-02, -9.07120062e-04,\n",
       "        2.72127055e-02,  8.21667351e-03,  2.15151161e-02, -8.61274451e-03,\n",
       "       -1.52333854e-02,  1.09589975e-02,  2.25241221e-02, -3.44231725e-03,\n",
       "        5.23968600e-03,  4.45925258e-02,  8.07484612e-03,  2.90457960e-02,\n",
       "       -1.32489754e-02,  2.97957044e-02,  1.63319614e-02, -3.21836844e-02,\n",
       "       -2.98733246e-02,  4.74099256e-02,  1.33861154e-02,  2.32620281e-03,\n",
       "        1.32819135e-02,  9.82467905e-02,  9.90269706e-03, -1.06798979e-02,\n",
       "        1.94533989e-02, -5.16635515e-02, -1.11934906e-02, -8.48163478e-03,\n",
       "       -1.77568980e-02, -1.21324612e-02, -1.03790862e-02, -6.73778029e-03,\n",
       "        3.17012854e-02,  2.48490330e-02,  3.45731974e-02, -4.55096141e-02,\n",
       "        5.05199730e-02, -3.00677922e-02, -9.84808728e-02, -1.03334878e-02,\n",
       "       -9.33283288e-03,  1.79463774e-02, -6.86642015e-03, -6.60801027e-03,\n",
       "        1.21495007e-02, -2.56597660e-02, -5.47250398e-02, -4.30672523e-03,\n",
       "       -7.05680251e-03, -1.35624120e-02,  5.50834164e-02, -3.77710583e-03,\n",
       "        1.76824140e-03,  6.56595640e-03, -9.56469588e-03,  1.44415731e-02,\n",
       "        1.59938447e-02,  1.39729362e-02, -1.43083022e-03,  1.59760900e-02,\n",
       "        1.81604624e-02,  2.17482373e-02,  1.98327657e-02,  2.95309294e-02,\n",
       "        1.09473895e-02, -3.08941416e-02, -2.30008867e-02, -1.01926774e-02,\n",
       "        4.57692780e-02, -1.25299320e-02,  5.43735251e-02,  6.43357541e-03,\n",
       "        4.95720934e-03,  1.04264300e-02, -7.26287067e-02,  6.33907244e-02,\n",
       "       -1.51677737e-02,  6.74884245e-02, -2.00398136e-02,  8.48659221e-03,\n",
       "       -2.25365208e-03,  3.88042964e-02, -2.30995156e-02, -1.72810908e-02,\n",
       "       -3.17332558e-02, -2.83923708e-02, -1.80623122e-02, -9.61279590e-03,\n",
       "        4.69076857e-02, -1.20312748e-02,  1.85626689e-02,  1.41608594e-02,\n",
       "       -1.71893239e-02,  1.80328432e-02, -1.79416351e-02, -2.13589873e-02,\n",
       "        2.08590627e-02,  3.45896091e-03, -2.87824497e-02, -1.81833077e-02,\n",
       "        2.24006251e-02,  9.41450968e-02,  1.52955940e-02, -5.22842817e-02,\n",
       "       -9.83393099e-03, -1.50922686e-02, -4.11784835e-03,  3.28592956e-02,\n",
       "        7.55637744e-03, -3.84526663e-02, -4.68646688e-03,  6.63220510e-03,\n",
       "        4.38369177e-02,  1.29605485e-02,  5.37115596e-02, -3.10690682e-02,\n",
       "       -2.22994424e-02,  1.96872354e-02,  5.45836810e-04,  3.15097393e-03,\n",
       "       -4.54885475e-02,  8.64916714e-04,  6.64742142e-02,  4.89541292e-02,\n",
       "        3.48827094e-02,  4.71793935e-02, -1.41143594e-02,  2.40346026e-02,\n",
       "        2.31580958e-02, -9.83159989e-03, -5.05577680e-03,  7.98541121e-03,\n",
       "       -1.91763565e-02,  1.61349010e-02, -6.59837276e-02, -6.39760168e-03,\n",
       "        3.48032615e-03, -7.35355988e-02,  7.34310737e-03,  1.54632581e-02,\n",
       "        2.00219429e-03,  2.49155592e-02, -1.32189663e-02,  1.67555567e-02,\n",
       "        3.78758530e-03,  1.90777779e-02, -6.22600093e-02,  1.44580714e-02,\n",
       "        1.48876070e-03,  2.92233322e-02, -9.80966818e-03, -4.61008623e-02,\n",
       "        3.53951715e-02,  6.11345209e-02,  3.76937166e-02, -4.41784300e-02,\n",
       "       -1.21539626e-02,  1.34020960e-02,  2.02226974e-02,  4.32911105e-02,\n",
       "       -4.71174009e-02, -4.56541665e-02,  2.63293553e-02, -2.11204626e-02,\n",
       "        4.56503667e-02, -1.47393867e-02, -3.21916901e-02, -2.64163073e-02,\n",
       "       -1.42290667e-02,  5.17531261e-02, -9.22648702e-03,  2.29189359e-02,\n",
       "        3.20900627e-03, -1.29355425e-02, -2.25488301e-02, -4.61771600e-02,\n",
       "       -4.26922180e-02,  7.11105578e-03, -1.82841197e-02, -6.03011856e-03,\n",
       "       -5.89788556e-02, -5.22452220e-03, -3.06841023e-02, -5.77067994e-02,\n",
       "       -4.88043670e-03,  1.05186719e-02,  2.60073468e-02, -1.47215165e-02,\n",
       "       -1.32295443e-02, -1.04060471e-02,  3.25909257e-02,  1.00646669e-03,\n",
       "        3.73936668e-02,  8.73919483e-03,  3.46542592e-03, -6.24404475e-02,\n",
       "       -1.06294239e-02,  1.88135747e-02,  2.69709621e-02,  1.17241843e-02,\n",
       "       -1.41522018e-02, -8.36204365e-03, -8.75418168e-03,  1.14601348e-02,\n",
       "       -3.02945282e-02, -8.21595453e-03, -1.70755051e-02,  1.35164252e-02,\n",
       "        1.57914199e-02, -4.09587845e-02, -3.13404453e-04,  6.31793169e-03,\n",
       "        3.97894941e-02,  5.25497086e-03,  5.41397817e-02, -4.64513749e-02,\n",
       "       -6.42906362e-03, -1.00322524e-02,  5.15053831e-02,  8.35508630e-02,\n",
       "        3.80862318e-02, -3.90322879e-02, -4.26817387e-02,  3.76737043e-02,\n",
       "       -5.99709488e-02, -2.33951453e-02, -5.46546057e-02, -1.52096441e-02,\n",
       "       -2.94345785e-02,  4.94434871e-02, -1.71444956e-02, -4.11573313e-02,\n",
       "       -2.71131229e-02, -2.19904575e-02, -6.86266944e-02, -4.78035398e-03,\n",
       "       -9.31766175e-04, -4.98302355e-02, -2.30072532e-02,  2.82609854e-02,\n",
       "       -1.63547543e-03, -2.13595796e-02,  3.98554467e-02,  4.18990245e-03,\n",
       "       -1.11726774e-02, -4.76829559e-02,  6.89517632e-02, -1.93861872e-02,\n",
       "        6.06397539e-02,  2.01770738e-02, -5.30415680e-03, -2.29326682e-03,\n",
       "       -1.14444718e-02, -2.59490516e-02,  2.17787102e-02,  6.81209797e-03,\n",
       "        3.43004502e-02,  9.43637826e-03,  8.80332291e-03, -4.06132266e-02,\n",
       "       -4.14294656e-03, -2.86306441e-02,  5.44019341e-02,  1.61701813e-02,\n",
       "       -2.79894900e-02, -9.41960700e-03, -4.53841966e-03, -2.04368904e-02,\n",
       "        6.58954307e-03,  2.18153615e-02,  1.19668879e-02, -3.99913546e-03,\n",
       "        2.04218347e-02, -7.38265505e-03, -5.07562160e-02, -5.90855256e-03,\n",
       "       -1.67447012e-02,  4.31658775e-02,  2.76812129e-02, -8.82638320e-02,\n",
       "        1.65378321e-02, -3.18139642e-02,  2.51950044e-02, -4.88325662e-04,\n",
       "        3.21394093e-02,  1.21102119e-02,  3.30247171e-02, -7.82803539e-03,\n",
       "       -3.50107312e-01,  2.07616240e-02, -6.09669974e-03,  6.28207326e-02,\n",
       "       -1.23562140e-03, -1.97704323e-02, -1.08215101e-02, -1.94755495e-02,\n",
       "        2.30580047e-02, -9.47808195e-03,  3.19436267e-02,  8.37422982e-02,\n",
       "        5.90440445e-02,  1.27051622e-02,  8.03343952e-03,  5.65014174e-03,\n",
       "        2.76528299e-02, -3.45364190e-03,  2.99809370e-02, -5.54358913e-03,\n",
       "        9.55336436e-04, -9.57214832e-03,  2.87239403e-02, -4.15055128e-03,\n",
       "        1.32749500e-02,  1.11143626e-02,  1.53342783e-02, -4.45200838e-02,\n",
       "        3.43732373e-03,  7.84512535e-02, -1.69498343e-02,  1.85690913e-02,\n",
       "       -1.03367064e-02, -1.23920627e-02,  1.41235311e-02,  2.79898872e-03,\n",
       "        1.72121450e-02, -5.54930000e-03, -2.55414732e-02, -3.12900059e-02,\n",
       "        3.80316451e-02, -1.35069117e-01,  3.02321520e-02,  3.59540060e-02,\n",
       "        1.73359066e-02, -5.14494739e-02, -3.12874056e-02, -3.52064297e-02,\n",
       "       -5.79378055e-03, -5.09360693e-02,  3.55529077e-02, -3.28829214e-02,\n",
       "        2.40759179e-02,  9.49085038e-03, -4.71615791e-03,  8.01415890e-02,\n",
       "        2.28431978e-04,  2.16161413e-03, -2.97746691e-03,  5.19604888e-03,\n",
       "       -9.21034720e-03, -1.45462267e-02,  1.17604705e-02, -7.19915144e-03,\n",
       "        1.99588314e-02,  1.65281352e-02, -1.37775745e-02, -3.73158976e-03,\n",
       "       -2.88935322e-02, -3.07626147e-02,  3.22565548e-02, -1.33543201e-02,\n",
       "       -3.79476547e-02, -3.60165127e-02, -4.40745167e-02,  3.78854014e-02,\n",
       "        9.81214736e-03,  9.54247452e-03,  2.36836616e-02, -1.74167361e-02,\n",
       "        2.98424475e-02, -3.96352895e-02,  4.65483722e-22,  1.74638629e-02,\n",
       "        1.68300830e-02, -1.77393965e-02, -2.44787838e-02, -4.91235219e-03,\n",
       "        2.42597535e-02, -4.88490285e-03,  1.03992149e-02,  1.72891449e-02,\n",
       "        3.30611803e-02,  1.26940357e-02, -1.35070942e-02, -1.04637695e-02,\n",
       "        5.28710857e-02,  4.89514247e-02,  3.93970273e-02, -1.79332960e-02,\n",
       "        2.55557355e-02, -7.43126217e-03,  3.52982618e-02,  2.00483929e-02,\n",
       "        3.84326987e-02,  4.99466211e-02,  4.78608906e-02,  1.38179818e-02,\n",
       "       -3.44433971e-02,  6.96670413e-02, -7.57397525e-03, -3.53648737e-02,\n",
       "        2.00623162e-02, -5.71993925e-02, -1.16263395e-02,  1.33716650e-02,\n",
       "        1.90314685e-03,  6.12544008e-02,  1.81713663e-02, -4.96098995e-02,\n",
       "        4.24371064e-02,  2.62468518e-03,  2.73135416e-02, -1.31277107e-02,\n",
       "       -2.69399974e-02, -2.30486058e-02,  2.69356780e-02, -2.03083828e-02,\n",
       "        1.41077011e-03, -1.45543618e-02, -1.18010622e-02,  4.09456007e-02,\n",
       "       -1.32388072e-02, -1.74095724e-02,  2.66230516e-02,  3.21798585e-02,\n",
       "        1.67839024e-02, -2.38928758e-02,  1.16845304e-02,  9.30843037e-03,\n",
       "        2.61184294e-02, -2.42937710e-02,  2.60876194e-02,  7.15104211e-03,\n",
       "       -3.54108438e-02, -2.82397866e-02,  2.99625052e-03,  2.37742364e-02,\n",
       "        5.73467230e-03, -1.45671107e-02, -1.13220317e-02,  1.09624276e-02,\n",
       "       -5.13099395e-02, -5.34798354e-02, -5.78161776e-02,  5.58442660e-02,\n",
       "        4.58376482e-02, -1.67553313e-02,  3.66716273e-02, -1.62060894e-02,\n",
       "       -3.15179415e-02, -3.59504968e-02, -1.95758604e-02,  2.62709223e-02,\n",
       "       -8.30623228e-03, -1.91374123e-02,  1.59846945e-03, -2.07346175e-02,\n",
       "        5.06131202e-02, -3.02769709e-02,  2.67212596e-02, -1.95404328e-02,\n",
       "        5.53881899e-02,  4.14921753e-02,  5.48797511e-02,  8.37536901e-03,\n",
       "        1.25626503e-02, -1.55685022e-02, -2.98558325e-02,  9.80980229e-03,\n",
       "        2.03712918e-02,  2.22878233e-02, -1.15229655e-02,  2.02733651e-02,\n",
       "       -1.66189633e-02,  2.64106635e-02,  2.21978221e-02,  1.72044877e-02,\n",
       "        3.15993465e-02,  3.79771180e-02,  2.69727334e-02,  2.88511459e-02,\n",
       "        1.19548002e-02, -1.07619137e-01,  4.50456627e-02,  6.27226243e-03,\n",
       "        1.73064340e-02,  2.44592279e-02,  5.26921405e-03,  1.69666372e-02,\n",
       "       -1.17692640e-02, -1.12325614e-02,  4.06192541e-02, -1.80171952e-02,\n",
       "       -1.11089488e-02, -4.39033695e-02,  3.03871948e-02,  2.28043937e-05,\n",
       "       -2.22967304e-02, -5.85193969e-02, -6.43183617e-03,  4.89381887e-03,\n",
       "       -4.74988436e-03,  4.34978642e-02,  9.01438016e-03, -5.45036932e-03,\n",
       "       -1.52436048e-02,  2.71383431e-02, -7.51268640e-02,  1.58103108e-02,\n",
       "        4.41428553e-03,  5.13440324e-03, -1.89956296e-02, -2.14648228e-02,\n",
       "        1.15887392e-02, -6.63865870e-03,  3.36208120e-02,  5.45626767e-02,\n",
       "        3.53896283e-02, -9.66686662e-03, -3.49763073e-02, -5.25005758e-02,\n",
       "        5.18146604e-02,  4.10704426e-02,  2.31271284e-03,  2.36919541e-02,\n",
       "        1.50614604e-02,  3.43351401e-02, -3.09021007e-02,  1.39669338e-02,\n",
       "        1.42448898e-02, -4.86073690e-03, -4.61133895e-03,  1.48796933e-02,\n",
       "        9.83414147e-03, -5.37858568e-02, -3.99889871e-02, -1.64198037e-02,\n",
       "       -3.66352350e-02,  6.13331981e-03, -2.08828561e-02, -1.65827014e-02,\n",
       "        3.08381729e-02,  2.43710019e-02, -1.46578094e-02,  1.29342917e-02,\n",
       "        5.70289008e-02, -7.89968390e-03,  1.39898043e-02,  4.82903421e-03,\n",
       "       -1.08422451e-02,  4.62609418e-02, -2.55553722e-02,  3.56749706e-02,\n",
       "        7.43290700e-04, -2.62014335e-04, -5.24882972e-02,  4.97297980e-02,\n",
       "        3.84621099e-02,  1.65374894e-02, -4.93870489e-02, -1.35363103e-03,\n",
       "        3.46594118e-02, -5.55484444e-02,  5.49140722e-02,  4.69688214e-02,\n",
       "       -2.41604522e-02,  1.28857568e-02,  2.69058924e-02,  2.97292806e-02,\n",
       "       -8.34502745e-03, -5.62878139e-02,  1.13270544e-01,  1.03494683e-02,\n",
       "       -5.25197573e-02, -2.64429431e-02, -4.81911004e-02,  3.94171812e-02,\n",
       "        7.95908198e-02, -2.19956823e-02, -1.17853768e-02,  1.71763320e-02,\n",
       "        4.15702574e-02, -2.69072093e-02, -2.36922447e-02, -2.38467865e-02,\n",
       "       -3.83180492e-02,  5.74572533e-02,  2.74365488e-02, -1.04496323e-01,\n",
       "        1.99866574e-02, -4.07894887e-02,  9.70319752e-03, -4.01637554e-02,\n",
       "        1.03118829e-02, -3.47900018e-02,  1.28496531e-02, -4.26010378e-02,\n",
       "       -1.45431478e-02, -3.44620384e-02,  1.07787196e-02, -4.40583751e-02,\n",
       "       -5.17894253e-02, -2.01063957e-02, -3.22165191e-02, -2.97745764e-02,\n",
       "       -6.80868281e-03, -2.59202123e-02, -2.88902689e-02,  5.31180389e-02,\n",
       "        3.30496542e-02,  4.16952707e-02, -3.38274091e-02, -6.73358291e-02,\n",
       "        1.42729059e-02, -3.67288813e-02,  5.27729560e-03, -2.95811836e-02,\n",
       "        3.48922834e-02, -1.75549369e-02,  2.33077705e-02,  4.65151202e-03,\n",
       "        2.06066594e-02, -2.41758376e-02, -1.30949756e-02,  5.32099791e-03,\n",
       "        1.78342164e-02,  2.37196423e-02,  3.14475037e-02,  3.62415495e-03,\n",
       "        1.71128977e-02, -1.31810247e-03, -3.49771194e-02,  4.17674482e-02,\n",
       "        2.55498867e-02, -2.06651334e-02, -3.49021167e-03, -1.60394739e-02,\n",
       "       -5.18394373e-02, -1.16564510e-02, -3.13372980e-03, -5.54646477e-02,\n",
       "        1.21707963e-02,  2.00064201e-03,  9.67273209e-03,  2.21643280e-02,\n",
       "        3.07263099e-02, -2.24600360e-03,  1.42600928e-02,  4.11392637e-02,\n",
       "       -2.36793028e-04,  2.69441702e-03, -2.86775716e-02,  3.27701345e-02,\n",
       "       -7.92489666e-03, -2.39318293e-02, -9.93215963e-02,  1.51191372e-02,\n",
       "        3.96649400e-03, -2.40375884e-02, -2.48844968e-03, -8.76713486e-04,\n",
       "       -2.62109824e-02, -4.07702662e-03, -5.97037748e-03,  1.60353200e-04,\n",
       "        1.39713166e-02,  1.67591553e-02,  7.41660148e-02, -1.34286098e-02,\n",
       "        2.70139575e-02,  8.17889906e-03,  3.80089357e-02,  4.34033275e-02,\n",
       "        4.59537422e-03,  4.77266721e-02, -8.65228195e-03,  1.74102727e-02,\n",
       "       -2.91557945e-02,  3.77018787e-02, -1.68213490e-02, -2.34529804e-02,\n",
       "       -1.37404669e-02, -1.79665275e-02, -2.31894036e-03, -2.85940319e-02,\n",
       "        5.55157952e-04, -1.94407851e-02,  1.13588320e-02, -6.37581646e-02,\n",
       "       -2.24015545e-02,  2.18516048e-02,  1.63505711e-02,  2.95189153e-02,\n",
       "       -2.19026450e-02,  1.19859772e-02, -3.22905295e-02, -3.85005698e-02,\n",
       "       -9.10093915e-03, -3.60185020e-02,  1.74009136e-03, -2.89698830e-03,\n",
       "        9.70185827e-03,  6.24880157e-02,  6.19533751e-03, -2.22638771e-02,\n",
       "       -5.00713959e-02,  8.21599737e-03,  5.42806089e-03, -3.69162858e-02,\n",
       "        1.98031422e-02, -1.63976271e-02,  2.25811303e-02,  3.21007408e-02,\n",
       "        2.17963532e-02,  1.17430417e-02, -3.38684022e-02, -5.09642325e-02,\n",
       "       -1.15513746e-02, -1.31647242e-02, -3.30099165e-02,  1.22059556e-03,\n",
       "       -2.77539273e-03,  1.92710310e-02, -9.88859218e-03,  3.28656510e-02,\n",
       "        2.36671008e-02, -6.27537891e-02,  8.49869195e-03, -2.81541049e-02,\n",
       "        7.59892166e-03, -1.26653342e-02, -1.42798405e-02,  3.62383351e-02,\n",
       "       -1.08876079e-02,  3.66088207e-04,  2.92620100e-02,  6.86093867e-02,\n",
       "       -4.90733981e-02,  1.12593528e-02,  5.39071625e-03,  2.33690105e-02,\n",
       "       -4.69188299e-03,  2.09196154e-02, -3.29029374e-02,  1.23671312e-02,\n",
       "        4.96597588e-03, -3.81344254e-03, -9.87040903e-03, -3.85983959e-02,\n",
       "        2.99813375e-02,  8.42694044e-02,  3.27539863e-03,  7.34860152e-02,\n",
       "       -2.50416771e-02,  6.27003703e-03, -2.78766695e-02, -1.27581612e-03,\n",
       "       -2.33168323e-02,  4.24652686e-03, -4.09002751e-02,  5.57140261e-02,\n",
       "       -1.75898094e-02,  8.56638514e-03, -3.59928608e-02, -1.35585126e-02,\n",
       "       -3.96913616e-03, -1.77206751e-02,  3.31747904e-02,  5.79198040e-02,\n",
       "       -1.46376519e-02,  7.67872632e-02, -6.25220910e-02, -5.82372546e-02,\n",
       "        1.10609718e-02, -1.14570092e-02, -1.19484952e-02, -2.28033159e-02])"
      ]
     },
     "execution_count": 81,
     "metadata": {},
     "output_type": "execute_result"
    }
   ],
   "source": [
    "master_df[\"embedding\"].iloc[0]"
   ]
  },
  {
   "cell_type": "code",
   "execution_count": 54,
   "metadata": {},
   "outputs": [
    {
     "data": {
      "text/plain": [
       "{'ids': ['US7778783B2_20100817',\n",
       "  'US2007095157A1_20070503',\n",
       "  'CA2317738A1_19990617',\n",
       "  'US7152002B2_20061219',\n",
       "  'US2005004763A1_20050106',\n",
       "  'CA2413758A1_20020110',\n",
       "  'US8588882B2_20131119',\n",
       "  'US8206297B2_20120626',\n",
       "  'AU766378B2_20031016',\n",
       "  'US8260392B2_20120904'],\n",
       " 'distances': [0.0,\n",
       "  5.894138363353704,\n",
       "  17.73947816897271,\n",
       "  18.214324958011275,\n",
       "  19.204525223111887,\n",
       "  20.864452632062694,\n",
       "  20.984150816118927,\n",
       "  21.081998012887198,\n",
       "  21.101152957242448,\n",
       "  21.14392031697207]}"
      ]
     },
     "execution_count": 54,
     "metadata": {},
     "output_type": "execute_result"
    }
   ],
   "source": [
    "a = cp.array([1,2])\n",
    "b = cp.array([[-100,-100],[4,5]])\n",
    "# l1_dist(a,b)\n",
    "a = cp.array(master_df.loc[0][\"embedding\"])\n",
    "b = cp.vstack(master_df[\"embedding\"])\n",
    "l1_dist(a, b)\n",
    "query_similar(a, master_df, l1_dist)"
   ]
  },
  {
   "cell_type": "code",
   "execution_count": 97,
   "metadata": {},
   "outputs": [
    {
     "data": {
      "text/plain": [
       "0       [-0.06375768035650253, -0.013484821654856205, ...\n",
       "1       [-0.04467740282416344, -0.031102880835533142, ...\n",
       "2       [-0.0689607709646225, -0.010727322660386562, -...\n",
       "3       [-0.07692772895097733, -0.01998787187039852, 0...\n",
       "4       [-0.07537534087896347, -0.0343899242579937, -0...\n",
       "                              ...                        \n",
       "1828    [-0.010679994709789753, -0.00810873694717884, ...\n",
       "1829    [-0.014296182431280613, -0.0036465979646891356...\n",
       "1830    [-0.004858179949223995, -0.012885243631899357,...\n",
       "1831    [-0.025193514302372932, -0.01929137483239174, ...\n",
       "1832    [-0.009783292189240456, -0.008788174018263817,...\n",
       "Name: embedding, Length: 1833, dtype: object"
      ]
     },
     "execution_count": 97,
     "metadata": {},
     "output_type": "execute_result"
    }
   ],
   "source": [
    "master_df[\"embedding\"]"
   ]
  }
 ],
 "metadata": {
  "kernelspec": {
   "display_name": "Python 3",
   "language": "python",
   "name": "python3"
  },
  "language_info": {
   "codemirror_mode": {
    "name": "ipython",
    "version": 3
   },
   "file_extension": ".py",
   "mimetype": "text/x-python",
   "name": "python",
   "nbconvert_exporter": "python",
   "pygments_lexer": "ipython3",
   "version": "3.11.9"
  }
 },
 "nbformat": 4,
 "nbformat_minor": 2
}
