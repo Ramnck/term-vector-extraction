{
 "cells": [
  {
   "cell_type": "code",
   "execution_count": 1,
   "metadata": {},
   "outputs": [
    {
     "data": {
      "text/html": [
       "<div>\n",
       "<style scoped>\n",
       "    .dataframe tbody tr th:only-of-type {\n",
       "        vertical-align: middle;\n",
       "    }\n",
       "\n",
       "    .dataframe tbody tr th {\n",
       "        vertical-align: top;\n",
       "    }\n",
       "\n",
       "    .dataframe thead th {\n",
       "        text-align: right;\n",
       "    }\n",
       "</style>\n",
       "<table border=\"1\" class=\"dataframe\">\n",
       "  <thead>\n",
       "    <tr style=\"text-align: right;\">\n",
       "      <th></th>\n",
       "      <th>RAKE</th>\n",
       "      <th>YAKE</th>\n",
       "      <th>TXTR</th>\n",
       "      <th>KBRT</th>\n",
       "      <th>MPTE</th>\n",
       "    </tr>\n",
       "  </thead>\n",
       "  <tbody>\n",
       "    <tr>\n",
       "      <th>all_docs</th>\n",
       "      <td>79.00</td>\n",
       "      <td>79.00</td>\n",
       "      <td>79.00</td>\n",
       "      <td>79.00</td>\n",
       "      <td>79.00</td>\n",
       "    </tr>\n",
       "    <tr>\n",
       "      <th>self_top1</th>\n",
       "      <td>1.00</td>\n",
       "      <td>1.00</td>\n",
       "      <td>0.00</td>\n",
       "      <td>1.00</td>\n",
       "      <td>1.00</td>\n",
       "    </tr>\n",
       "    <tr>\n",
       "      <th>soft</th>\n",
       "      <td>0.32</td>\n",
       "      <td>0.66</td>\n",
       "      <td>0.08</td>\n",
       "      <td>0.61</td>\n",
       "      <td>0.03</td>\n",
       "    </tr>\n",
       "    <tr>\n",
       "      <th>hard</th>\n",
       "      <td>0.01</td>\n",
       "      <td>0.04</td>\n",
       "      <td>0.01</td>\n",
       "      <td>0.05</td>\n",
       "      <td>0.00</td>\n",
       "    </tr>\n",
       "    <tr>\n",
       "      <th>avg</th>\n",
       "      <td>0.12</td>\n",
       "      <td>0.28</td>\n",
       "      <td>0.03</td>\n",
       "      <td>0.22</td>\n",
       "      <td>0.01</td>\n",
       "    </tr>\n",
       "    <tr>\n",
       "      <th>no_relevant</th>\n",
       "      <td>0.00</td>\n",
       "      <td>0.00</td>\n",
       "      <td>1.00</td>\n",
       "      <td>0.00</td>\n",
       "      <td>0.00</td>\n",
       "    </tr>\n",
       "  </tbody>\n",
       "</table>\n",
       "</div>"
      ],
      "text/plain": [
       "              RAKE   YAKE   TXTR   KBRT   MPTE\n",
       "all_docs     79.00  79.00  79.00  79.00  79.00\n",
       "self_top1     1.00   1.00   0.00   1.00   1.00\n",
       "soft          0.32   0.66   0.08   0.61   0.03\n",
       "hard          0.01   0.04   0.01   0.05   0.00\n",
       "avg           0.12   0.28   0.03   0.22   0.01\n",
       "no_relevant   0.00   0.00   1.00   0.00   0.00"
      ]
     },
     "execution_count": 1,
     "metadata": {},
     "output_type": "execute_result"
    },
    {
     "data": {
      "image/png": "[encoded data removed]",
      "text/plain": [
       "<Figure size 640x480 with 1 Axes>"
      ]
     },
     "metadata": {},
     "output_type": "display_data"
    }
   ],
   "source": [
    "import json\n",
    "from pathlib import Path\n",
    "import pandas as pd\n",
    "import matplotlib.pyplot as plt\n",
    "\n",
    "\n",
    "BASE_PATH = Path(\"data\") / \"eval\"\n",
    "\n",
    "with open(BASE_PATH / \"eval.json\") as file:\n",
    "    rawdata = json.load(file)\n",
    "data = {i: {} for i in rawdata.keys()}\n",
    "for k, v in rawdata.items():\n",
    "    for k1, v1 in v.items():\n",
    "        if k1 not in [\"all_docs\", \"self_top1\", \"no_relevant\"]:\n",
    "            data[k][k1] = v1\n",
    "\n",
    "data = pd.DataFrame(data)\n",
    "# plt.legend()\n",
    "# plt.hist(data)\n",
    "\n",
    "data.plot.bar()\n",
    "# data\n",
    "pd.DataFrame(rawdata)"
   ]
  },
  {
   "cell_type": "code",
   "execution_count": 2,
   "metadata": {},
   "outputs": [],
   "source": [
    "# UPDATE 56 field\n",
    "from documents import FileSystem\n",
    "import json\n",
    "\n",
    "\n",
    "async for doc in FileSystem(\"data\\\\raw\\\\skolkovo\"):\n",
    "    with open(\"data\\\\eval\\\\kwe\\\\\" + doc.id + \".json\", encoding=\"utf-8\") as file:\n",
    "        data = json.load(file)\n",
    "    data[\"56\"] = doc.citations\n",
    "    with open(\"data\\\\eval\\\\kwe\\\\\" + doc.id + \".json\", \"w\", encoding=\"utf-8\") as file:\n",
    "        json.dump(data, file, ensure_ascii=False, indent=4)"
   ]
  },
  {
   "cell_type": "code",
   "execution_count": 21,
   "metadata": {},
   "outputs": [
    {
     "name": "stdout",
     "output_type": "stream",
     "text": [
      "Метрики посчитаны\n"
     ]
    }
   ],
   "source": [
    "#\n",
    "# Сравнить готовые терм вектора с полученными моей системой\n",
    "#\n",
    "\n",
    "from pathlib import Path\n",
    "from lexis import lemmatize_ru_word\n",
    "from documents import FileSystem\n",
    "import pandas as pd\n",
    "import json\n",
    "\n",
    "BASE_PATH = Path(\"data\") / \"eval\"\n",
    "\n",
    "# old_docs = old system termvectors (keywords)\n",
    "\n",
    "old_docs = {}\n",
    "\n",
    "raw_data = pd.read_csv(BASE_PATH / \"80_with_TV.csv\", delimiter=\";\")\n",
    "\n",
    "for idx, raw in raw_data.iterrows():\n",
    "    id_mass = raw[\"Документ\"].split(\"_\")\n",
    "    id = id_mass[-1] + id_mass[0] + id_mass[1]\n",
    "\n",
    "    old_docs[id] = []\n",
    "    for num in range(2, 52):\n",
    "        word = raw[str(num)].split(\"~\")[0]\n",
    "        old_docs[id].append(lemmatize_ru_word(word))\n",
    "\n",
    "# new_docs = my keywords\n",
    "\n",
    "new_docs = {}\n",
    "\n",
    "list_of_files = list((BASE_PATH / \"kwe\").iterdir())\n",
    "\n",
    "for file_path in list_of_files:\n",
    "    with open(file_path, encoding=\"utf-8\") as file:\n",
    "        data = json.load(file)\n",
    "    new_docs[file_path.stem] = {\n",
    "        extractor_name: list(map(lemmatize_ru_word, kws))\n",
    "        for extractor_name, kws in data[\"keywords\"].items()\n",
    "    }\n",
    "\n",
    "# evaluation dicts\n",
    "\n",
    "eval_dict = {\n",
    "    \"all_docs\": 0,\n",
    "    \"same_top1\": 0,\n",
    "    \"soft\": 0,\n",
    "    \"hard\": 0,\n",
    "    \"avg\": 0,\n",
    "    \"no_match\": 0,\n",
    "}\n",
    "metrics = {\n",
    "    \"RAKE\": eval_dict.copy(),\n",
    "    \"YAKE\": eval_dict.copy(),\n",
    "    \"TXTR\": eval_dict.copy(),\n",
    "    \"KBRT\": eval_dict.copy(),\n",
    "    \"MPTE\": eval_dict.copy(),\n",
    "}\n",
    "\n",
    "# evaluation\n",
    "\n",
    "for new_doc_id, new_kws in new_docs.items():\n",
    "    try:\n",
    "        old_kw = old_docs[new_doc_id]\n",
    "        for extractor_name, new_kw in new_kws.items():\n",
    "            hits = 0\n",
    "            for new_term in new_kw:\n",
    "                if new_term in old_kw:\n",
    "                    hits += 1\n",
    "\n",
    "            metrics[extractor_name][\"same_top1\"] += new_kw[0] == old_kw[0]\n",
    "            metrics[extractor_name][\"soft\"] += hits > 0\n",
    "            metrics[extractor_name][\"avg\"] += hits / len(old_kw)\n",
    "            metrics[extractor_name][\"hard\"] += hits == len(old_kw)\n",
    "            metrics[extractor_name][\"no_match\"] += hits == 0\n",
    "            metrics[extractor_name][\"all_docs\"] += 1\n",
    "\n",
    "    except KeyError:\n",
    "        continue\n",
    "\n",
    "for extractor_name, eval in metrics.items():\n",
    "    # print(extractor_name, \"metrics:\")\n",
    "    for metric in eval.keys():\n",
    "        if metric != \"all_docs\":\n",
    "            eval[metric] = round(eval[metric] / eval[\"all_docs\"], 2)\n",
    "\n",
    "print(\"Метрики посчитаны\")"
   ]
  },
  {
   "cell_type": "code",
   "execution_count": 23,
   "metadata": {},
   "outputs": [
    {
     "name": "stdout",
     "output_type": "stream",
     "text": [
      "            RAKE   YAKE   TXTR   KBRT   MPTE\n",
      "all_docs   78.00  78.00  78.00  78.00  78.00\n",
      "same_top1   0.01   0.37   0.21   0.08   0.12\n",
      "soft        0.96   0.97   0.97   0.97   0.96\n",
      "hard        0.00   0.00   0.00   0.00   0.00\n",
      "avg         0.14   0.50   0.35   0.20   0.15\n",
      "no_match    0.04   0.03   0.03   0.03   0.04\n"
     ]
    },
    {
     "data": {
      "text/plain": [
       "<AxesSubplot: >"
      ]
     },
     "execution_count": 23,
     "metadata": {},
     "output_type": "execute_result"
    },
    {
     "data": {
      "image/png": "[encoded data removed]",
      "text/plain": [
       "<Figure size 640x480 with 1 Axes>"
      ]
     },
     "metadata": {},
     "output_type": "display_data"
    }
   ],
   "source": [
    "df = pd.DataFrame(metrics)\n",
    "print(df)\n",
    "df = df.drop([\"soft\", \"all_docs\", \"hard\"])\n",
    "df.plot.bar()"
   ]
  }
 ],
 "metadata": {
  "kernelspec": {
   "display_name": "Python 3",
   "language": "python",
   "name": "python3"
  },
  "language_info": {
   "codemirror_mode": {
    "name": "ipython",
    "version": 3
   },
   "file_extension": ".py",
   "mimetype": "text/x-python",
   "name": "python",
   "nbconvert_exporter": "python",
   "pygments_lexer": "ipython3",
   "version": "3.11.1"
  }
 },
 "nbformat": 4,
 "nbformat_minor": 2
}
