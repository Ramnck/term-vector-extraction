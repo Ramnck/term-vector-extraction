{
 "cells": [
  {
   "cell_type": "code",
   "execution_count": 1,
   "metadata": {},
   "outputs": [
    {
     "data": {
      "text/html": [
       "<div>\n",
       "<style scoped>\n",
       "    .dataframe tbody tr th:only-of-type {\n",
       "        vertical-align: middle;\n",
       "    }\n",
       "\n",
       "    .dataframe tbody tr th {\n",
       "        vertical-align: top;\n",
       "    }\n",
       "\n",
       "    .dataframe thead th {\n",
       "        text-align: right;\n",
       "    }\n",
       "</style>\n",
       "<table border=\"1\" class=\"dataframe\">\n",
       "  <thead>\n",
       "    <tr style=\"text-align: right;\">\n",
       "      <th></th>\n",
       "      <th>RAKE</th>\n",
       "      <th>YAKE</th>\n",
       "      <th>TXTR</th>\n",
       "      <th>KBRT</th>\n",
       "      <th>MPTE</th>\n",
       "    </tr>\n",
       "  </thead>\n",
       "  <tbody>\n",
       "    <tr>\n",
       "      <th>all_docs</th>\n",
       "      <td>79.00</td>\n",
       "      <td>79.00</td>\n",
       "      <td>79.00</td>\n",
       "      <td>79.00</td>\n",
       "      <td>79.00</td>\n",
       "    </tr>\n",
       "    <tr>\n",
       "      <th>self_top1</th>\n",
       "      <td>1.00</td>\n",
       "      <td>1.00</td>\n",
       "      <td>0.00</td>\n",
       "      <td>1.00</td>\n",
       "      <td>1.00</td>\n",
       "    </tr>\n",
       "    <tr>\n",
       "      <th>soft</th>\n",
       "      <td>0.32</td>\n",
       "      <td>0.66</td>\n",
       "      <td>0.08</td>\n",
       "      <td>0.61</td>\n",
       "      <td>0.03</td>\n",
       "    </tr>\n",
       "    <tr>\n",
       "      <th>hard</th>\n",
       "      <td>0.01</td>\n",
       "      <td>0.04</td>\n",
       "      <td>0.01</td>\n",
       "      <td>0.05</td>\n",
       "      <td>0.00</td>\n",
       "    </tr>\n",
       "    <tr>\n",
       "      <th>avg</th>\n",
       "      <td>0.12</td>\n",
       "      <td>0.28</td>\n",
       "      <td>0.03</td>\n",
       "      <td>0.22</td>\n",
       "      <td>0.01</td>\n",
       "    </tr>\n",
       "    <tr>\n",
       "      <th>no_relevant</th>\n",
       "      <td>0.00</td>\n",
       "      <td>0.00</td>\n",
       "      <td>1.00</td>\n",
       "      <td>0.00</td>\n",
       "      <td>0.00</td>\n",
       "    </tr>\n",
       "  </tbody>\n",
       "</table>\n",
       "</div>"
      ],
      "text/plain": [
       "              RAKE   YAKE   TXTR   KBRT   MPTE\n",
       "all_docs     79.00  79.00  79.00  79.00  79.00\n",
       "self_top1     1.00   1.00   0.00   1.00   1.00\n",
       "soft          0.32   0.66   0.08   0.61   0.03\n",
       "hard          0.01   0.04   0.01   0.05   0.00\n",
       "avg           0.12   0.28   0.03   0.22   0.01\n",
       "no_relevant   0.00   0.00   1.00   0.00   0.00"
      ]
     },
     "execution_count": 1,
     "metadata": {},
     "output_type": "execute_result"
    },
    {
     "data": {
      "image/png": "[encoded data removed]",
      "text/plain": [
       "<Figure size 640x480 with 1 Axes>"
      ]
     },
     "metadata": {},
     "output_type": "display_data"
    }
   ],
   "source": [
    "import json\n",
    "from pathlib import Path\n",
    "import pandas as pd\n",
    "import matplotlib.pyplot as plt\n",
    "\n",
    "\n",
    "BASE_PATH = Path(\"data\") / \"eval\"\n",
    "\n",
    "with open(BASE_PATH / \"eval.json\") as file:\n",
    "    rawdata = json.load(file)\n",
    "data = {i: {} for i in rawdata.keys()}\n",
    "for k, v in rawdata.items():\n",
    "    for k1, v1 in v.items():\n",
    "        if k1 not in [\"all_docs\", \"self_top1\", \"no_relevant\"]:\n",
    "            data[k][k1] = v1\n",
    "\n",
    "data = pd.DataFrame(data)\n",
    "# plt.legend()\n",
    "# plt.hist(data)\n",
    "\n",
    "data.plot.bar()\n",
    "# data\n",
    "pd.DataFrame(rawdata)"
   ]
  },
  {
   "cell_type": "code",
   "execution_count": 2,
   "metadata": {},
   "outputs": [],
   "source": [
    "# UPDATE 56 field\n",
    "from documents import FileSystem\n",
    "import json\n",
    "\n",
    "\n",
    "async for doc in FileSystem(\"data\\\\raw\\\\skolkovo\"):\n",
    "    with open(\"data\\\\eval\\\\kwe\\\\\" + doc.id + \".json\", encoding=\"utf-8\") as file:\n",
    "        data = json.load(file)\n",
    "    data[\"56\"] = doc.citations\n",
    "    with open(\"data\\\\eval\\\\kwe\\\\\" + doc.id + \".json\", \"w\", encoding=\"utf-8\") as file:\n",
    "        json.dump(data, file, ensure_ascii=False, indent=4)"
   ]
  }
 ],
 "metadata": {
  "kernelspec": {
   "display_name": "Python 3",
   "language": "python",
   "name": "python3"
  },
  "language_info": {
   "codemirror_mode": {
    "name": "ipython",
    "version": 3
   },
   "file_extension": ".py",
   "mimetype": "text/x-python",
   "name": "python",
   "nbconvert_exporter": "python",
   "pygments_lexer": "ipython3",
   "version": "3.11.1"
  }
 },
 "nbformat": 4,
 "nbformat_minor": 2
}
